{
  "nbformat": 4,
  "nbformat_minor": 0,
  "metadata": {
    "accelerator": "GPU",
    "colab": {
      "name": "RegressionModelling",
      "provenance": [],
      "collapsed_sections": []
    },
    "kernelspec": {
      "display_name": "Python 3",
      "name": "python3"
    }
  },
  "cells": [
    {
      "cell_type": "markdown",
      "metadata": {
        "id": "qai_3AHSDsjV"
      },
      "source": [
        "Importing Libraries"
      ]
    },
    {
      "cell_type": "code",
      "metadata": {
        "id": "2al40RFBD2QT"
      },
      "source": [
        "import numpy as np\n",
        "import pandas as pd\n",
        "\n",
        "import matplotlib.pyplot as plt\n",
        "import matplotlib.patches as patches\n",
        "import seaborn as sns\n",
        "import plotly.express as px\n",
        "import plotly.graph_objs as go\n",
        "from plotly.offline import iplot\n",
        "\n",
        "\n",
        "from sklearn.preprocessing import StandardScaler\n",
        "from sklearn.model_selection import train_test_split\n",
        "from sklearn.metrics import mean_squared_error as mse\n",
        "from sklearn.metrics import r2_score\n",
        "from math import sqrt\n",
        "from sklearn.linear_model import Ridge\n",
        "from sklearn.linear_model import Lasso\n",
        "from sklearn.tree import DecisionTreeRegressor\n",
        "from sklearn.ensemble import RandomForestRegressor\n",
        "from sklearn.preprocessing import LabelEncoder\n",
        "from sklearn.model_selection import KFold\n",
        "from sklearn.model_selection import train_test_split\n",
        "from sklearn.model_selection import GridSearchCV\n",
        "from sklearn.model_selection import RandomizedSearchCV\n",
        "from prettytable import PrettyTable\n",
        "from sklearn.metrics import accuracy_score\n",
        "import warnings"
      ],
      "execution_count": null,
      "outputs": []
    },
    {
      "cell_type": "code",
      "metadata": {
        "id": "P2upRQfhE3WU"
      },
      "source": [
        "#Loading our data\n",
        "train_df = pd.read_csv(\"/content/drive/MyDrive/FeatureEngineering.csv\")"
      ],
      "execution_count": null,
      "outputs": []
    },
    {
      "cell_type": "code",
      "metadata": {
        "colab": {
          "base_uri": "https://localhost:8080/",
          "height": 428
        },
        "id": "uuCSwLSmIp05",
        "outputId": "ccc12cf9-1af6-4718-be87-99a9bb176af0"
      },
      "source": [
        "train_df.head()"
      ],
      "execution_count": null,
      "outputs": [
        {
          "output_type": "execute_result",
          "data": {
            "text/html": [
              "<div>\n",
              "<style scoped>\n",
              "    .dataframe tbody tr th:only-of-type {\n",
              "        vertical-align: middle;\n",
              "    }\n",
              "\n",
              "    .dataframe tbody tr th {\n",
              "        vertical-align: top;\n",
              "    }\n",
              "\n",
              "    .dataframe thead th {\n",
              "        text-align: right;\n",
              "    }\n",
              "</style>\n",
              "<table border=\"1\" class=\"dataframe\">\n",
              "  <thead>\n",
              "    <tr style=\"text-align: right;\">\n",
              "      <th></th>\n",
              "      <th>Unnamed: 0</th>\n",
              "      <th>date_block_num</th>\n",
              "      <th>shop_id</th>\n",
              "      <th>item_id</th>\n",
              "      <th>item_cnt_day</th>\n",
              "      <th>lags: 1</th>\n",
              "      <th>lags: 2</th>\n",
              "      <th>lags: 3</th>\n",
              "      <th>lags: 4</th>\n",
              "      <th>lags: 5</th>\n",
              "      <th>lags: 6</th>\n",
              "      <th>lags: 7</th>\n",
              "      <th>lags: 8</th>\n",
              "      <th>lags: 9</th>\n",
              "      <th>lags: 10</th>\n",
              "      <th>lags: 11</th>\n",
              "      <th>shop_name</th>\n",
              "      <th>item_name</th>\n",
              "      <th>item_category_id</th>\n",
              "      <th>item_category_name</th>\n",
              "    </tr>\n",
              "  </thead>\n",
              "  <tbody>\n",
              "    <tr>\n",
              "      <th>0</th>\n",
              "      <td>0</td>\n",
              "      <td>1</td>\n",
              "      <td>0</td>\n",
              "      <td>30</td>\n",
              "      <td>31.0</td>\n",
              "      <td>0.0</td>\n",
              "      <td>0.0</td>\n",
              "      <td>0.0</td>\n",
              "      <td>0.0</td>\n",
              "      <td>0.0</td>\n",
              "      <td>0.0</td>\n",
              "      <td>0.0</td>\n",
              "      <td>0.0</td>\n",
              "      <td>0.0</td>\n",
              "      <td>0.0</td>\n",
              "      <td>0.0</td>\n",
              "      <td>!Якутск Орджоникидзе, 56 фран</td>\n",
              "      <td>007: КООРДИНАТЫ «СКАЙФОЛЛ»</td>\n",
              "      <td>40</td>\n",
              "      <td>Кино - DVD</td>\n",
              "    </tr>\n",
              "    <tr>\n",
              "      <th>1</th>\n",
              "      <td>482</td>\n",
              "      <td>1</td>\n",
              "      <td>0</td>\n",
              "      <td>31</td>\n",
              "      <td>11.0</td>\n",
              "      <td>0.0</td>\n",
              "      <td>0.0</td>\n",
              "      <td>0.0</td>\n",
              "      <td>0.0</td>\n",
              "      <td>0.0</td>\n",
              "      <td>0.0</td>\n",
              "      <td>0.0</td>\n",
              "      <td>0.0</td>\n",
              "      <td>0.0</td>\n",
              "      <td>0.0</td>\n",
              "      <td>0.0</td>\n",
              "      <td>!Якутск Орджоникидзе, 56 фран</td>\n",
              "      <td>007: КООРДИНАТЫ «СКАЙФОЛЛ» (BD)</td>\n",
              "      <td>37</td>\n",
              "      <td>Кино - Blu-Ray</td>\n",
              "    </tr>\n",
              "    <tr>\n",
              "      <th>2</th>\n",
              "      <td>986</td>\n",
              "      <td>0</td>\n",
              "      <td>0</td>\n",
              "      <td>32</td>\n",
              "      <td>6.0</td>\n",
              "      <td>0.0</td>\n",
              "      <td>0.0</td>\n",
              "      <td>0.0</td>\n",
              "      <td>0.0</td>\n",
              "      <td>0.0</td>\n",
              "      <td>0.0</td>\n",
              "      <td>0.0</td>\n",
              "      <td>0.0</td>\n",
              "      <td>0.0</td>\n",
              "      <td>0.0</td>\n",
              "      <td>0.0</td>\n",
              "      <td>!Якутск Орджоникидзе, 56 фран</td>\n",
              "      <td>1+1</td>\n",
              "      <td>40</td>\n",
              "      <td>Кино - DVD</td>\n",
              "    </tr>\n",
              "    <tr>\n",
              "      <th>3</th>\n",
              "      <td>987</td>\n",
              "      <td>1</td>\n",
              "      <td>0</td>\n",
              "      <td>32</td>\n",
              "      <td>10.0</td>\n",
              "      <td>6.0</td>\n",
              "      <td>0.0</td>\n",
              "      <td>0.0</td>\n",
              "      <td>0.0</td>\n",
              "      <td>0.0</td>\n",
              "      <td>0.0</td>\n",
              "      <td>0.0</td>\n",
              "      <td>0.0</td>\n",
              "      <td>0.0</td>\n",
              "      <td>0.0</td>\n",
              "      <td>0.0</td>\n",
              "      <td>!Якутск Орджоникидзе, 56 фран</td>\n",
              "      <td>1+1</td>\n",
              "      <td>40</td>\n",
              "      <td>Кино - DVD</td>\n",
              "    </tr>\n",
              "    <tr>\n",
              "      <th>4</th>\n",
              "      <td>1771</td>\n",
              "      <td>0</td>\n",
              "      <td>0</td>\n",
              "      <td>33</td>\n",
              "      <td>3.0</td>\n",
              "      <td>0.0</td>\n",
              "      <td>0.0</td>\n",
              "      <td>0.0</td>\n",
              "      <td>0.0</td>\n",
              "      <td>0.0</td>\n",
              "      <td>0.0</td>\n",
              "      <td>0.0</td>\n",
              "      <td>0.0</td>\n",
              "      <td>0.0</td>\n",
              "      <td>0.0</td>\n",
              "      <td>0.0</td>\n",
              "      <td>!Якутск Орджоникидзе, 56 фран</td>\n",
              "      <td>1+1 (BD)</td>\n",
              "      <td>37</td>\n",
              "      <td>Кино - Blu-Ray</td>\n",
              "    </tr>\n",
              "  </tbody>\n",
              "</table>\n",
              "</div>"
            ],
            "text/plain": [
              "   Unnamed: 0  date_block_num  ...  item_category_id  item_category_name\n",
              "0           0               1  ...                40          Кино - DVD\n",
              "1         482               1  ...                37      Кино - Blu-Ray\n",
              "2         986               0  ...                40          Кино - DVD\n",
              "3         987               1  ...                40          Кино - DVD\n",
              "4        1771               0  ...                37      Кино - Blu-Ray\n",
              "\n",
              "[5 rows x 20 columns]"
            ]
          },
          "metadata": {
            "tags": []
          },
          "execution_count": 36
        }
      ]
    },
    {
      "cell_type": "code",
      "metadata": {
        "colab": {
          "base_uri": "https://localhost:8080/"
        },
        "id": "p_41FWKILeHK",
        "outputId": "115aabed-95bb-4c46-cbe4-4026f54fb951"
      },
      "source": [
        "train_df.info()"
      ],
      "execution_count": null,
      "outputs": [
        {
          "output_type": "stream",
          "text": [
            "<class 'pandas.core.frame.DataFrame'>\n",
            "RangeIndex: 704112 entries, 0 to 704111\n",
            "Data columns (total 20 columns):\n",
            " #   Column              Non-Null Count   Dtype  \n",
            "---  ------              --------------   -----  \n",
            " 0   Unnamed: 0          704112 non-null  int64  \n",
            " 1   date_block_num      704112 non-null  int64  \n",
            " 2   shop_id             704112 non-null  int64  \n",
            " 3   item_id             704112 non-null  int64  \n",
            " 4   item_cnt_day        704112 non-null  float64\n",
            " 5   lags: 1             704112 non-null  float64\n",
            " 6   lags: 2             704112 non-null  float64\n",
            " 7   lags: 3             704112 non-null  float64\n",
            " 8   lags: 4             704112 non-null  float64\n",
            " 9   lags: 5             704112 non-null  float64\n",
            " 10  lags: 6             704112 non-null  float64\n",
            " 11  lags: 7             704112 non-null  float64\n",
            " 12  lags: 8             704112 non-null  float64\n",
            " 13  lags: 9             704112 non-null  float64\n",
            " 14  lags: 10            704112 non-null  float64\n",
            " 15  lags: 11            704112 non-null  float64\n",
            " 16  shop_name           704112 non-null  object \n",
            " 17  item_name           704112 non-null  object \n",
            " 18  item_category_id    704112 non-null  int64  \n",
            " 19  item_category_name  704112 non-null  object \n",
            "dtypes: float64(12), int64(5), object(3)\n",
            "memory usage: 107.4+ MB\n"
          ],
          "name": "stdout"
        }
      ]
    },
    {
      "cell_type": "code",
      "metadata": {
        "id": "rjG64lJtLtCk"
      },
      "source": [
        "# Separating categorical data from numerical data\n",
        "train_categorical_data = train_df.select_dtypes(exclude=['int64', 'float','int32'])\n",
        "train_numerical_data = train_df.select_dtypes(include=['int64', 'float','int32'])"
      ],
      "execution_count": null,
      "outputs": []
    },
    {
      "cell_type": "code",
      "metadata": {
        "id": "QfGBnBnIpMdI"
      },
      "source": [
        "# Label Encode and Hot Encode for Categorical Columns\n",
        "# the category data here will be converted to numbers format\n",
        "le = LabelEncoder()\n",
        "train_categorical_data = train_categorical_data.apply(LabelEncoder().fit_transform)"
      ],
      "execution_count": null,
      "outputs": []
    },
    {
      "cell_type": "code",
      "metadata": {
        "colab": {
          "base_uri": "https://localhost:8080/",
          "height": 204
        },
        "id": "FZr7_3deqY4C",
        "outputId": "b46e3d79-ea94-4921-e4e1-b809c8e3dca0"
      },
      "source": [
        "#Looking into our categrical data after conversion\n",
        "train_categorical_data.head()"
      ],
      "execution_count": null,
      "outputs": [
        {
          "output_type": "execute_result",
          "data": {
            "text/html": [
              "<div>\n",
              "<style scoped>\n",
              "    .dataframe tbody tr th:only-of-type {\n",
              "        vertical-align: middle;\n",
              "    }\n",
              "\n",
              "    .dataframe tbody tr th {\n",
              "        vertical-align: top;\n",
              "    }\n",
              "\n",
              "    .dataframe thead th {\n",
              "        text-align: right;\n",
              "    }\n",
              "</style>\n",
              "<table border=\"1\" class=\"dataframe\">\n",
              "  <thead>\n",
              "    <tr style=\"text-align: right;\">\n",
              "      <th></th>\n",
              "      <th>shop_name</th>\n",
              "      <th>item_name</th>\n",
              "      <th>item_category_name</th>\n",
              "    </tr>\n",
              "  </thead>\n",
              "  <tbody>\n",
              "    <tr>\n",
              "      <th>0</th>\n",
              "      <td>0</td>\n",
              "      <td>0</td>\n",
              "      <td>28</td>\n",
              "    </tr>\n",
              "    <tr>\n",
              "      <th>1</th>\n",
              "      <td>0</td>\n",
              "      <td>1</td>\n",
              "      <td>26</td>\n",
              "    </tr>\n",
              "    <tr>\n",
              "      <th>2</th>\n",
              "      <td>0</td>\n",
              "      <td>2</td>\n",
              "      <td>28</td>\n",
              "    </tr>\n",
              "    <tr>\n",
              "      <th>3</th>\n",
              "      <td>0</td>\n",
              "      <td>2</td>\n",
              "      <td>28</td>\n",
              "    </tr>\n",
              "    <tr>\n",
              "      <th>4</th>\n",
              "      <td>0</td>\n",
              "      <td>3</td>\n",
              "      <td>26</td>\n",
              "    </tr>\n",
              "  </tbody>\n",
              "</table>\n",
              "</div>"
            ],
            "text/plain": [
              "   shop_name  item_name  item_category_name\n",
              "0          0          0                  28\n",
              "1          0          1                  26\n",
              "2          0          2                  28\n",
              "3          0          2                  28\n",
              "4          0          3                  26"
            ]
          },
          "metadata": {
            "tags": []
          },
          "execution_count": 40
        }
      ]
    },
    {
      "cell_type": "code",
      "metadata": {
        "id": "glX5h-uKqaiJ"
      },
      "source": [
        "# Concatenating both Catagorical Data and Numerical Data\n",
        "# Y will be our new dataframe why X will be our lable\n",
        "X = pd.concat([train_categorical_data, train_numerical_data], axis=1)\n",
        "y = train_df['item_cnt_day']"
      ],
      "execution_count": null,
      "outputs": []
    },
    {
      "cell_type": "code",
      "metadata": {
        "colab": {
          "base_uri": "https://localhost:8080/",
          "height": 221
        },
        "id": "mtD4sRinquph",
        "outputId": "ac431b06-6ed7-4380-9155-e959d6818d79"
      },
      "source": [
        "#Checking the X\n",
        "X.head()"
      ],
      "execution_count": null,
      "outputs": [
        {
          "output_type": "execute_result",
          "data": {
            "text/html": [
              "<div>\n",
              "<style scoped>\n",
              "    .dataframe tbody tr th:only-of-type {\n",
              "        vertical-align: middle;\n",
              "    }\n",
              "\n",
              "    .dataframe tbody tr th {\n",
              "        vertical-align: top;\n",
              "    }\n",
              "\n",
              "    .dataframe thead th {\n",
              "        text-align: right;\n",
              "    }\n",
              "</style>\n",
              "<table border=\"1\" class=\"dataframe\">\n",
              "  <thead>\n",
              "    <tr style=\"text-align: right;\">\n",
              "      <th></th>\n",
              "      <th>shop_name</th>\n",
              "      <th>item_name</th>\n",
              "      <th>item_category_name</th>\n",
              "      <th>Unnamed: 0</th>\n",
              "      <th>date_block_num</th>\n",
              "      <th>shop_id</th>\n",
              "      <th>item_id</th>\n",
              "      <th>item_cnt_day</th>\n",
              "      <th>lags: 1</th>\n",
              "      <th>lags: 2</th>\n",
              "      <th>lags: 3</th>\n",
              "      <th>lags: 4</th>\n",
              "      <th>lags: 5</th>\n",
              "      <th>lags: 6</th>\n",
              "      <th>lags: 7</th>\n",
              "      <th>lags: 8</th>\n",
              "      <th>lags: 9</th>\n",
              "      <th>lags: 10</th>\n",
              "      <th>lags: 11</th>\n",
              "      <th>item_category_id</th>\n",
              "    </tr>\n",
              "  </thead>\n",
              "  <tbody>\n",
              "    <tr>\n",
              "      <th>0</th>\n",
              "      <td>0</td>\n",
              "      <td>0</td>\n",
              "      <td>28</td>\n",
              "      <td>0</td>\n",
              "      <td>1</td>\n",
              "      <td>0</td>\n",
              "      <td>30</td>\n",
              "      <td>31.0</td>\n",
              "      <td>0.0</td>\n",
              "      <td>0.0</td>\n",
              "      <td>0.0</td>\n",
              "      <td>0.0</td>\n",
              "      <td>0.0</td>\n",
              "      <td>0.0</td>\n",
              "      <td>0.0</td>\n",
              "      <td>0.0</td>\n",
              "      <td>0.0</td>\n",
              "      <td>0.0</td>\n",
              "      <td>0.0</td>\n",
              "      <td>40</td>\n",
              "    </tr>\n",
              "    <tr>\n",
              "      <th>1</th>\n",
              "      <td>0</td>\n",
              "      <td>1</td>\n",
              "      <td>26</td>\n",
              "      <td>482</td>\n",
              "      <td>1</td>\n",
              "      <td>0</td>\n",
              "      <td>31</td>\n",
              "      <td>11.0</td>\n",
              "      <td>0.0</td>\n",
              "      <td>0.0</td>\n",
              "      <td>0.0</td>\n",
              "      <td>0.0</td>\n",
              "      <td>0.0</td>\n",
              "      <td>0.0</td>\n",
              "      <td>0.0</td>\n",
              "      <td>0.0</td>\n",
              "      <td>0.0</td>\n",
              "      <td>0.0</td>\n",
              "      <td>0.0</td>\n",
              "      <td>37</td>\n",
              "    </tr>\n",
              "    <tr>\n",
              "      <th>2</th>\n",
              "      <td>0</td>\n",
              "      <td>2</td>\n",
              "      <td>28</td>\n",
              "      <td>986</td>\n",
              "      <td>0</td>\n",
              "      <td>0</td>\n",
              "      <td>32</td>\n",
              "      <td>6.0</td>\n",
              "      <td>0.0</td>\n",
              "      <td>0.0</td>\n",
              "      <td>0.0</td>\n",
              "      <td>0.0</td>\n",
              "      <td>0.0</td>\n",
              "      <td>0.0</td>\n",
              "      <td>0.0</td>\n",
              "      <td>0.0</td>\n",
              "      <td>0.0</td>\n",
              "      <td>0.0</td>\n",
              "      <td>0.0</td>\n",
              "      <td>40</td>\n",
              "    </tr>\n",
              "    <tr>\n",
              "      <th>3</th>\n",
              "      <td>0</td>\n",
              "      <td>2</td>\n",
              "      <td>28</td>\n",
              "      <td>987</td>\n",
              "      <td>1</td>\n",
              "      <td>0</td>\n",
              "      <td>32</td>\n",
              "      <td>10.0</td>\n",
              "      <td>6.0</td>\n",
              "      <td>0.0</td>\n",
              "      <td>0.0</td>\n",
              "      <td>0.0</td>\n",
              "      <td>0.0</td>\n",
              "      <td>0.0</td>\n",
              "      <td>0.0</td>\n",
              "      <td>0.0</td>\n",
              "      <td>0.0</td>\n",
              "      <td>0.0</td>\n",
              "      <td>0.0</td>\n",
              "      <td>40</td>\n",
              "    </tr>\n",
              "    <tr>\n",
              "      <th>4</th>\n",
              "      <td>0</td>\n",
              "      <td>3</td>\n",
              "      <td>26</td>\n",
              "      <td>1771</td>\n",
              "      <td>0</td>\n",
              "      <td>0</td>\n",
              "      <td>33</td>\n",
              "      <td>3.0</td>\n",
              "      <td>0.0</td>\n",
              "      <td>0.0</td>\n",
              "      <td>0.0</td>\n",
              "      <td>0.0</td>\n",
              "      <td>0.0</td>\n",
              "      <td>0.0</td>\n",
              "      <td>0.0</td>\n",
              "      <td>0.0</td>\n",
              "      <td>0.0</td>\n",
              "      <td>0.0</td>\n",
              "      <td>0.0</td>\n",
              "      <td>37</td>\n",
              "    </tr>\n",
              "  </tbody>\n",
              "</table>\n",
              "</div>"
            ],
            "text/plain": [
              "   shop_name  item_name  ...  lags: 11  item_category_id\n",
              "0          0          0  ...       0.0                40\n",
              "1          0          1  ...       0.0                37\n",
              "2          0          2  ...       0.0                40\n",
              "3          0          2  ...       0.0                40\n",
              "4          0          3  ...       0.0                37\n",
              "\n",
              "[5 rows x 20 columns]"
            ]
          },
          "metadata": {
            "tags": []
          },
          "execution_count": 42
        }
      ]
    },
    {
      "cell_type": "code",
      "metadata": {
        "colab": {
          "base_uri": "https://localhost:8080/"
        },
        "id": "lDmimuFiq9Cl",
        "outputId": "98db03ec-6585-4961-85f5-98a50a66cbd8"
      },
      "source": [
        "# Checking the y\n",
        "y.head()"
      ],
      "execution_count": null,
      "outputs": [
        {
          "output_type": "execute_result",
          "data": {
            "text/plain": [
              "0    31.0\n",
              "1    11.0\n",
              "2     6.0\n",
              "3    10.0\n",
              "4     3.0\n",
              "Name: item_cnt_day, dtype: float64"
            ]
          },
          "metadata": {
            "tags": []
          },
          "execution_count": 43
        }
      ]
    },
    {
      "cell_type": "code",
      "metadata": {
        "id": "6um0gFt3rDUo"
      },
      "source": [
        ""
      ],
      "execution_count": null,
      "outputs": []
    },
    {
      "cell_type": "markdown",
      "metadata": {
        "id": "jJTSyrRarrmG"
      },
      "source": [
        "Spliting data into train and test"
      ]
    },
    {
      "cell_type": "code",
      "metadata": {
        "id": "E4jHfUEir2Nd"
      },
      "source": [
        "# Splitting the data into Train and Test\n",
        "X_train, X_test, y_train, y_test = train_test_split(X, y, test_size = 0.3, random_state = 42)"
      ],
      "execution_count": null,
      "outputs": []
    },
    {
      "cell_type": "code",
      "metadata": {
        "id": "7EmUKdE1L7kJ",
        "colab": {
          "base_uri": "https://localhost:8080/",
          "height": 221
        },
        "outputId": "f0d1a60b-7df0-4052-ab0f-22031ad2762e"
      },
      "source": [
        "X_test.head()"
      ],
      "execution_count": null,
      "outputs": [
        {
          "output_type": "execute_result",
          "data": {
            "text/html": [
              "<div>\n",
              "<style scoped>\n",
              "    .dataframe tbody tr th:only-of-type {\n",
              "        vertical-align: middle;\n",
              "    }\n",
              "\n",
              "    .dataframe tbody tr th {\n",
              "        vertical-align: top;\n",
              "    }\n",
              "\n",
              "    .dataframe thead th {\n",
              "        text-align: right;\n",
              "    }\n",
              "</style>\n",
              "<table border=\"1\" class=\"dataframe\">\n",
              "  <thead>\n",
              "    <tr style=\"text-align: right;\">\n",
              "      <th></th>\n",
              "      <th>shop_name</th>\n",
              "      <th>item_name</th>\n",
              "      <th>item_category_name</th>\n",
              "      <th>Unnamed: 0</th>\n",
              "      <th>date_block_num</th>\n",
              "      <th>shop_id</th>\n",
              "      <th>item_id</th>\n",
              "      <th>item_cnt_day</th>\n",
              "      <th>lags: 1</th>\n",
              "      <th>lags: 2</th>\n",
              "      <th>lags: 3</th>\n",
              "      <th>lags: 4</th>\n",
              "      <th>lags: 5</th>\n",
              "      <th>lags: 6</th>\n",
              "      <th>lags: 7</th>\n",
              "      <th>lags: 8</th>\n",
              "      <th>lags: 9</th>\n",
              "      <th>lags: 10</th>\n",
              "      <th>lags: 11</th>\n",
              "      <th>item_category_id</th>\n",
              "    </tr>\n",
              "  </thead>\n",
              "  <tbody>\n",
              "    <tr>\n",
              "      <th>541491</th>\n",
              "      <td>48</td>\n",
              "      <td>3495</td>\n",
              "      <td>45</td>\n",
              "      <td>544993</td>\n",
              "      <td>25</td>\n",
              "      <td>48</td>\n",
              "      <td>15995</td>\n",
              "      <td>1.0</td>\n",
              "      <td>0.0</td>\n",
              "      <td>0.0</td>\n",
              "      <td>0.0</td>\n",
              "      <td>0.0</td>\n",
              "      <td>0.0</td>\n",
              "      <td>0.0</td>\n",
              "      <td>0.0</td>\n",
              "      <td>0.0</td>\n",
              "      <td>0.0</td>\n",
              "      <td>0.0</td>\n",
              "      <td>0.0</td>\n",
              "      <td>64</td>\n",
              "    </tr>\n",
              "    <tr>\n",
              "      <th>324630</th>\n",
              "      <td>29</td>\n",
              "      <td>3365</td>\n",
              "      <td>44</td>\n",
              "      <td>529236</td>\n",
              "      <td>24</td>\n",
              "      <td>29</td>\n",
              "      <td>15446</td>\n",
              "      <td>1.0</td>\n",
              "      <td>3.0</td>\n",
              "      <td>0.0</td>\n",
              "      <td>0.0</td>\n",
              "      <td>1.0</td>\n",
              "      <td>1.0</td>\n",
              "      <td>0.0</td>\n",
              "      <td>0.0</td>\n",
              "      <td>1.0</td>\n",
              "      <td>0.0</td>\n",
              "      <td>2.0</td>\n",
              "      <td>0.0</td>\n",
              "      <td>63</td>\n",
              "    </tr>\n",
              "    <tr>\n",
              "      <th>262894</th>\n",
              "      <td>26</td>\n",
              "      <td>2864</td>\n",
              "      <td>8</td>\n",
              "      <td>464977</td>\n",
              "      <td>28</td>\n",
              "      <td>26</td>\n",
              "      <td>13400</td>\n",
              "      <td>1.0</td>\n",
              "      <td>1.0</td>\n",
              "      <td>2.0</td>\n",
              "      <td>0.0</td>\n",
              "      <td>0.0</td>\n",
              "      <td>0.0</td>\n",
              "      <td>0.0</td>\n",
              "      <td>0.0</td>\n",
              "      <td>0.0</td>\n",
              "      <td>0.0</td>\n",
              "      <td>0.0</td>\n",
              "      <td>0.0</td>\n",
              "      <td>15</td>\n",
              "    </tr>\n",
              "    <tr>\n",
              "      <th>638026</th>\n",
              "      <td>56</td>\n",
              "      <td>1189</td>\n",
              "      <td>37</td>\n",
              "      <td>220056</td>\n",
              "      <td>30</td>\n",
              "      <td>56</td>\n",
              "      <td>5485</td>\n",
              "      <td>1.0</td>\n",
              "      <td>0.0</td>\n",
              "      <td>0.0</td>\n",
              "      <td>0.0</td>\n",
              "      <td>0.0</td>\n",
              "      <td>1.0</td>\n",
              "      <td>0.0</td>\n",
              "      <td>1.0</td>\n",
              "      <td>1.0</td>\n",
              "      <td>1.0</td>\n",
              "      <td>0.0</td>\n",
              "      <td>2.0</td>\n",
              "      <td>55</td>\n",
              "    </tr>\n",
              "    <tr>\n",
              "      <th>233939</th>\n",
              "      <td>25</td>\n",
              "      <td>1878</td>\n",
              "      <td>29</td>\n",
              "      <td>347714</td>\n",
              "      <td>11</td>\n",
              "      <td>25</td>\n",
              "      <td>9001</td>\n",
              "      <td>4.0</td>\n",
              "      <td>1.0</td>\n",
              "      <td>3.0</td>\n",
              "      <td>0.0</td>\n",
              "      <td>2.0</td>\n",
              "      <td>2.0</td>\n",
              "      <td>0.0</td>\n",
              "      <td>2.0</td>\n",
              "      <td>1.0</td>\n",
              "      <td>3.0</td>\n",
              "      <td>6.0</td>\n",
              "      <td>0.0</td>\n",
              "      <td>41</td>\n",
              "    </tr>\n",
              "  </tbody>\n",
              "</table>\n",
              "</div>"
            ],
            "text/plain": [
              "        shop_name  item_name  ...  lags: 11  item_category_id\n",
              "541491         48       3495  ...       0.0                64\n",
              "324630         29       3365  ...       0.0                63\n",
              "262894         26       2864  ...       0.0                15\n",
              "638026         56       1189  ...       2.0                55\n",
              "233939         25       1878  ...       0.0                41\n",
              "\n",
              "[5 rows x 20 columns]"
            ]
          },
          "metadata": {
            "tags": []
          },
          "execution_count": 45
        }
      ]
    },
    {
      "cell_type": "code",
      "metadata": {
        "colab": {
          "base_uri": "https://localhost:8080/"
        },
        "id": "PJGhBCPFr6iz",
        "outputId": "8938d94e-b49a-4c94-e97a-426eae83fe42"
      },
      "source": [
        "X_train.info()"
      ],
      "execution_count": null,
      "outputs": [
        {
          "output_type": "stream",
          "text": [
            "<class 'pandas.core.frame.DataFrame'>\n",
            "Int64Index: 492878 entries, 249036 to 121958\n",
            "Data columns (total 20 columns):\n",
            " #   Column              Non-Null Count   Dtype  \n",
            "---  ------              --------------   -----  \n",
            " 0   shop_name           492878 non-null  int64  \n",
            " 1   item_name           492878 non-null  int64  \n",
            " 2   item_category_name  492878 non-null  int64  \n",
            " 3   Unnamed: 0          492878 non-null  int64  \n",
            " 4   date_block_num      492878 non-null  int64  \n",
            " 5   shop_id             492878 non-null  int64  \n",
            " 6   item_id             492878 non-null  int64  \n",
            " 7   item_cnt_day        492878 non-null  float64\n",
            " 8   lags: 1             492878 non-null  float64\n",
            " 9   lags: 2             492878 non-null  float64\n",
            " 10  lags: 3             492878 non-null  float64\n",
            " 11  lags: 4             492878 non-null  float64\n",
            " 12  lags: 5             492878 non-null  float64\n",
            " 13  lags: 6             492878 non-null  float64\n",
            " 14  lags: 7             492878 non-null  float64\n",
            " 15  lags: 8             492878 non-null  float64\n",
            " 16  lags: 9             492878 non-null  float64\n",
            " 17  lags: 10            492878 non-null  float64\n",
            " 18  lags: 11            492878 non-null  float64\n",
            " 19  item_category_id    492878 non-null  int64  \n",
            "dtypes: float64(12), int64(8)\n",
            "memory usage: 79.0 MB\n"
          ],
          "name": "stdout"
        }
      ]
    },
    {
      "cell_type": "code",
      "metadata": {
        "colab": {
          "base_uri": "https://localhost:8080/"
        },
        "id": "lGnYeh-Er_Ti",
        "outputId": "ab8c1ead-d902-42b4-df35-0bf78fb90cdf"
      },
      "source": [
        "# Checking the shape of bothe the train and test data\n",
        "print(\"The size of training input is\", X_train.shape)\n",
        "print(\"The size of training output is\", y_train.shape)\n",
        "print(\"The size of testing input is\", X_test.shape)\n",
        "print(\"The size of testing output is\", y_test.shape)"
      ],
      "execution_count": null,
      "outputs": [
        {
          "output_type": "stream",
          "text": [
            "The size of training input is (492878, 20)\n",
            "The size of training output is (492878,)\n",
            "The size of testing input is (211234, 20)\n",
            "The size of testing output is (211234,)\n"
          ],
          "name": "stdout"
        }
      ]
    },
    {
      "cell_type": "markdown",
      "metadata": {
        "id": "zVtnGNBQsaWr"
      },
      "source": [
        "Model Building"
      ]
    },
    {
      "cell_type": "code",
      "metadata": {
        "colab": {
          "base_uri": "https://localhost:8080/"
        },
        "id": "w_m8Y4XVseYK",
        "outputId": "e254dec4-717e-44f0-ceaa-e25c0581626f"
      },
      "source": [
        "# Performing GridSearchCV on Ridge Regression\n",
        "params = {'alpha' : [0.0001, 0.001, 0.01, 0.1, 1, 10, 100, 1000, 10000, 100000]}\n",
        "ridge_regressor = GridSearchCV(Ridge(), params, cv = 7, scoring = 'neg_mean_absolute_error', n_jobs = -1)\n",
        "ridge_regressor.fit(X_train, y_train)"
      ],
      "execution_count": null,
      "outputs": [
        {
          "output_type": "stream",
          "text": [
            "/usr/local/lib/python3.6/dist-packages/sklearn/linear_model/_ridge.py:148: LinAlgWarning:\n",
            "\n",
            "Ill-conditioned matrix (rcond=6.27074e-20): result may not be accurate.\n",
            "\n"
          ],
          "name": "stderr"
        },
        {
          "output_type": "execute_result",
          "data": {
            "text/plain": [
              "GridSearchCV(cv=7, error_score=nan,\n",
              "             estimator=Ridge(alpha=1.0, copy_X=True, fit_intercept=True,\n",
              "                             max_iter=None, normalize=False, random_state=None,\n",
              "                             solver='auto', tol=0.001),\n",
              "             iid='deprecated', n_jobs=-1,\n",
              "             param_grid={'alpha': [0.0001, 0.001, 0.01, 0.1, 1, 10, 100, 1000,\n",
              "                                   10000, 100000]},\n",
              "             pre_dispatch='2*n_jobs', refit=True, return_train_score=False,\n",
              "             scoring='neg_mean_absolute_error', verbose=0)"
            ]
          },
          "metadata": {
            "tags": []
          },
          "execution_count": 48
        }
      ]
    },
    {
      "cell_type": "code",
      "metadata": {
        "id": "yk0wK2ZT3bbw"
      },
      "source": [
        "# Predicting train and test results\n",
        "y_train_pred = ridge_regressor.predict(X_train)\n",
        "y_test_pred = ridge_regressor.predict(X_test)"
      ],
      "execution_count": null,
      "outputs": []
    },
    {
      "cell_type": "code",
      "metadata": {
        "colab": {
          "base_uri": "https://localhost:8080/"
        },
        "id": "3Agu9K8G3i77",
        "outputId": "d82af0ff-2945-49a7-f96e-0a1a03c15de0"
      },
      "source": [
        "print(\"Train Results for Ridge Regressor Model:\")\n",
        "print(\"Root Mean Squared Error: \", sqrt(mse(y_train.values, y_train_pred)))\n",
        "print(\"R-Squared: \", r2_score(y_train.values, y_train_pred))"
      ],
      "execution_count": null,
      "outputs": [
        {
          "output_type": "stream",
          "text": [
            "Train Results for Ridge Regressor Model:\n",
            "Root Mean Squared Error:  3.0819978489080047e-11\n",
            "R-Squared:  1.0\n"
          ],
          "name": "stdout"
        }
      ]
    },
    {
      "cell_type": "code",
      "metadata": {
        "colab": {
          "base_uri": "https://localhost:8080/"
        },
        "id": "DC6Mu7su3qHo",
        "outputId": "c8c716b0-a9a4-498c-f7c8-81b78ddacec4"
      },
      "source": [
        "print(\"Test Results for Ridge Regressor Model:\")\n",
        "print(\"Root Mean Squared Error: \", sqrt(mse(y_test.values, y_test_pred)))\n",
        "print(\"R-Squared: \", r2_score(y_test.values, y_test_pred))"
      ],
      "execution_count": null,
      "outputs": [
        {
          "output_type": "stream",
          "text": [
            "Test Results for Ridge Regressor Model:\n",
            "Root Mean Squared Error:  3.851762035812232e-11\n",
            "R-Squared:  1.0\n"
          ],
          "name": "stdout"
        }
      ]
    },
    {
      "cell_type": "code",
      "metadata": {
        "colab": {
          "base_uri": "https://localhost:8080/"
        },
        "id": "r41l0ovo3z-c",
        "outputId": "dee51d7e-f367-440f-b746-bf314373ee1e"
      },
      "source": [
        "# Performing GridSearchCV on Lasso Regression\n",
        "params = {'alpha' : [0.0001, 0.001, 0.01, 0.1, 1, 10, 100, 1000, 10000, 100000]}\n",
        "lasso_regressor = GridSearchCV(Lasso(), params ,cv = 15,scoring = 'neg_mean_absolute_error', n_jobs = -1)\n",
        "lasso_regressor.fit(X_train, y_train)"
      ],
      "execution_count": null,
      "outputs": [
        {
          "output_type": "execute_result",
          "data": {
            "text/plain": [
              "GridSearchCV(cv=15, error_score=nan,\n",
              "             estimator=Lasso(alpha=1.0, copy_X=True, fit_intercept=True,\n",
              "                             max_iter=1000, normalize=False, positive=False,\n",
              "                             precompute=False, random_state=None,\n",
              "                             selection='cyclic', tol=0.0001, warm_start=False),\n",
              "             iid='deprecated', n_jobs=-1,\n",
              "             param_grid={'alpha': [0.0001, 0.001, 0.01, 0.1, 1, 10, 100, 1000,\n",
              "                                   10000, 100000]},\n",
              "             pre_dispatch='2*n_jobs', refit=True, return_train_score=False,\n",
              "             scoring='neg_mean_absolute_error', verbose=0)"
            ]
          },
          "metadata": {
            "tags": []
          },
          "execution_count": 52
        }
      ]
    },
    {
      "cell_type": "code",
      "metadata": {
        "id": "u2T3fiP14dSE"
      },
      "source": [
        "# Predicting train and test results\n",
        "y_train_pred = lasso_regressor.predict(X_train)\n",
        "y_test_pred = lasso_regressor.predict(X_test)"
      ],
      "execution_count": null,
      "outputs": []
    },
    {
      "cell_type": "code",
      "metadata": {
        "colab": {
          "base_uri": "https://localhost:8080/"
        },
        "id": "LdwVtyb26lwy",
        "outputId": "9fd45526-9c84-4846-bee2-f53973ec94fa"
      },
      "source": [
        "print(\"Train Results for Lasso Regressor Model:\")\n",
        "print(\"Root Mean Squared Error: \", sqrt(mse(y_train.values, y_train_pred)))\n",
        "print(\"R-Squared: \", r2_score(y_train.values, y_train_pred))"
      ],
      "execution_count": null,
      "outputs": [
        {
          "output_type": "stream",
          "text": [
            "Train Results for Lasso Regressor Model:\n",
            "Root Mean Squared Error:  0.009122827534903734\n",
            "R-Squared:  0.9999993075683115\n"
          ],
          "name": "stdout"
        }
      ]
    },
    {
      "cell_type": "code",
      "metadata": {
        "colab": {
          "base_uri": "https://localhost:8080/"
        },
        "id": "mhk6lLGBI-es",
        "outputId": "689ea3cd-cc70-4511-f0f3-4e2d885e1c2e"
      },
      "source": [
        "print(\"Test Results for Lasso Regressor Model:\")\n",
        "print(\"Root Mean squared Error: \", sqrt(mse(y_test, y_test_pred)))\n",
        "print(\"R-Squared: \", r2_score(y_test, y_test_pred))"
      ],
      "execution_count": null,
      "outputs": [
        {
          "output_type": "stream",
          "text": [
            "Test Results for Lasso Regressor Model:\n",
            "Root Mean squared Error:  0.010361208743024587\n",
            "R-Squared:  0.9999993074567651\n"
          ],
          "name": "stdout"
        }
      ]
    },
    {
      "cell_type": "code",
      "metadata": {
        "id": "wI3MQHsk9_DY",
        "colab": {
          "base_uri": "https://localhost:8080/"
        },
        "outputId": "58bfba86-f8a1-471d-8834-2a0a1333e579"
      },
      "source": [
        "# Performing GridSearchCV on Decision Tree Regression\n",
        "from sklearn.tree import DecisionTreeRegressor\n",
        "\n",
        "depth = list(range(3,30))\n",
        "param_grid = dict(max_depth = depth)\n",
        "tree = GridSearchCV(DecisionTreeRegressor(), param_grid, cv = 10)\n",
        "tree.fit(X_train,y_train)"
      ],
      "execution_count": null,
      "outputs": [
        {
          "output_type": "execute_result",
          "data": {
            "text/plain": [
              "GridSearchCV(cv=10, error_score=nan,\n",
              "             estimator=DecisionTreeRegressor(ccp_alpha=0.0, criterion='mse',\n",
              "                                             max_depth=None, max_features=None,\n",
              "                                             max_leaf_nodes=None,\n",
              "                                             min_impurity_decrease=0.0,\n",
              "                                             min_impurity_split=None,\n",
              "                                             min_samples_leaf=1,\n",
              "                                             min_samples_split=2,\n",
              "                                             min_weight_fraction_leaf=0.0,\n",
              "                                             presort='deprecated',\n",
              "                                             random_state=None,\n",
              "                                             splitter='best'),\n",
              "             iid='deprecated', n_jobs=None,\n",
              "             param_grid={'max_depth': [3, 4, 5, 6, 7, 8, 9, 10, 11, 12, 13, 14,\n",
              "                                       15, 16, 17, 18, 19, 20, 21, 22, 23, 24,\n",
              "                                       25, 26, 27, 28, 29]},\n",
              "             pre_dispatch='2*n_jobs', refit=True, return_train_score=False,\n",
              "             scoring=None, verbose=0)"
            ]
          },
          "metadata": {
            "tags": []
          },
          "execution_count": 56
        }
      ]
    },
    {
      "cell_type": "code",
      "metadata": {
        "id": "dlVS6Lh7-aLU"
      },
      "source": [
        "# Predicting train and test results\n",
        "y_train_pred = tree.predict(X_train)\n",
        "y_test_pred = tree.predict(X_test)"
      ],
      "execution_count": null,
      "outputs": []
    },
    {
      "cell_type": "code",
      "metadata": {
        "id": "eQ5xOCnG-fQ6",
        "colab": {
          "base_uri": "https://localhost:8080/"
        },
        "outputId": "0f474f87-0118-48b5-8933-c4ca1443f98d"
      },
      "source": [
        "print(\"Train Results for Decision Tree Regressor Model:\")\n",
        "print(\"Root Mean squared Error: \", sqrt(mse(y_train.values, y_train_pred)))\n",
        "print(\"R-Squared: \", r2_score(y_train.values, y_train_pred))"
      ],
      "execution_count": null,
      "outputs": [
        {
          "output_type": "stream",
          "text": [
            "Train Results for Decision Tree Regressor Model:\n",
            "Root Mean squared Error:  0.0\n",
            "R-Squared:  1.0\n"
          ],
          "name": "stdout"
        }
      ]
    },
    {
      "cell_type": "code",
      "metadata": {
        "id": "C0giZ65E-kU_",
        "colab": {
          "base_uri": "https://localhost:8080/"
        },
        "outputId": "9f529a6e-43f7-4df5-e1f8-94b5c1294219"
      },
      "source": [
        "print(\"Test Results for Decision Tree Regressor Model:\")\n",
        "print(\"Root Mean Squared Error: \", sqrt(mse(y_test, y_test_pred)))\n",
        "print(\"R-Squared: \", r2_score(y_test, y_test_pred))"
      ],
      "execution_count": null,
      "outputs": [
        {
          "output_type": "stream",
          "text": [
            "Test Results for Decision Tree Regressor Model:\n",
            "Root Mean Squared Error:  2.2822612470578383\n",
            "R-Squared:  0.9663986476704653\n"
          ],
          "name": "stdout"
        }
      ]
    },
    {
      "cell_type": "code",
      "metadata": {
        "id": "UchnmZFP-wRl",
        "colab": {
          "base_uri": "https://localhost:8080/"
        },
        "outputId": "97fad09c-5199-47e7-f3ee-132ad74d8f4e"
      },
      "source": [
        "# Performing GridSearchCV on Random Forest Regression\n",
        "tuned_params = {'n_estimators': [100, 200], 'min_samples_split': [2, 5, 10], 'min_samples_leaf': [1, 2, 4]}  \n",
        "random_regressor = RandomizedSearchCV(RandomForestRegressor(), tuned_params, n_iter = 3, scoring = 'neg_mean_absolute_error', cv = 3, n_jobs = -1)\n",
        "random_regressor.fit(X_train, y_train)"
      ],
      "execution_count": null,
      "outputs": [
        {
          "output_type": "execute_result",
          "data": {
            "text/plain": [
              "RandomizedSearchCV(cv=3, error_score=nan,\n",
              "                   estimator=RandomForestRegressor(bootstrap=True,\n",
              "                                                   ccp_alpha=0.0,\n",
              "                                                   criterion='mse',\n",
              "                                                   max_depth=None,\n",
              "                                                   max_features='auto',\n",
              "                                                   max_leaf_nodes=None,\n",
              "                                                   max_samples=None,\n",
              "                                                   min_impurity_decrease=0.0,\n",
              "                                                   min_impurity_split=None,\n",
              "                                                   min_samples_leaf=1,\n",
              "                                                   min_samples_split=2,\n",
              "                                                   min_weight_fraction_leaf=0.0,\n",
              "                                                   n_estimators=100,\n",
              "                                                   n_jobs=None, oob_score=False,\n",
              "                                                   random_state=None, verbose=0,\n",
              "                                                   warm_start=False),\n",
              "                   iid='deprecated', n_iter=3, n_jobs=-1,\n",
              "                   param_distributions={'min_samples_leaf': [1, 2, 4],\n",
              "                                        'min_samples_split': [2, 5, 10],\n",
              "                                        'n_estimators': [100, 200]},\n",
              "                   pre_dispatch='2*n_jobs', random_state=None, refit=True,\n",
              "                   return_train_score=False, scoring='neg_mean_absolute_error',\n",
              "                   verbose=0)"
            ]
          },
          "metadata": {
            "tags": []
          },
          "execution_count": 60
        }
      ]
    },
    {
      "cell_type": "code",
      "metadata": {
        "id": "9EKQZrc3-4b_"
      },
      "source": [
        "# Predicting train and test results\n",
        "y_train_pred = random_regressor.predict(X_train)\n",
        "y_test_pred = random_regressor.predict(X_test)"
      ],
      "execution_count": null,
      "outputs": []
    },
    {
      "cell_type": "code",
      "metadata": {
        "id": "jymcAFNHIxfV"
      },
      "source": [
        "print(\"Train Results for Random Forest Regressor Model:\")\n",
        "print(\"Root Mean Squared Error: \", sqrt(mse(y_train.values, y_train_pred)))\n",
        "print(\"R-Squared: \", r2_score(y_train.values, y_train_pred))"
      ],
      "execution_count": null,
      "outputs": []
    },
    {
      "cell_type": "code",
      "metadata": {
        "id": "iBDwXkvRI2D8"
      },
      "source": [
        "print(\"Test Results for Random Forest Regressor Model:\")\n",
        "print(\"Root Mean Squared Error: \", sqrt(mse(y_test, y_test_pred)))\n",
        "print(\"R-Squared: \", r2_score(y_test, y_test_pred))"
      ],
      "execution_count": null,
      "outputs": []
    },
    {
      "cell_type": "code",
      "metadata": {
        "id": "4c8kt-91zgk3",
        "colab": {
          "base_uri": "https://localhost:8080/"
        },
        "outputId": "753c3559-362c-45f8-9ebd-4e1c0a13d7c9"
      },
      "source": [
        "# Training = Tr.\n",
        "# Testing = Te.\n",
        "x = PrettyTable()\n",
        "x.field_names = [\"Model Name\", \"Tr. RMSE\", \"Tr. R-Squared\", \"Te. RMSE\", \"Te. R-Squared\",]\n",
        "x.add_row(['Ridge Regression','3.082','1.0','3.852','1.0'])\n",
        "x.add_row(['Lasso Regression','0.009','0.999','0.010','0.999'])\n",
        "x.add_row(['Decision Tree Regressor','0.0','0.1','2.279','0.966'])\n",
        "x.add_row(['Random Forest Regressor','0.262','0.999','2.442','0.962'])\n",
        "print(x)"
      ],
      "execution_count": null,
      "outputs": [
        {
          "output_type": "stream",
          "text": [
            "+-------------------------+----------+---------------+----------+---------------+\n",
            "|        Model Name       | Tr. RMSE | Tr. R-Squared | Te. RMSE | Te. R-Squared |\n",
            "+-------------------------+----------+---------------+----------+---------------+\n",
            "|     Ridge Regression    |  3.082   |      1.0      |  3.852   |      1.0      |\n",
            "|     Lasso Regression    |  0.009   |     0.999     |  0.010   |     0.999     |\n",
            "| Decision Tree Regressor |   0.0    |      0.1      |  2.279   |     0.966     |\n",
            "| Random Forest Regressor |  0.262   |     0.999     |  2.442   |     0.962     |\n",
            "+-------------------------+----------+---------------+----------+---------------+\n"
          ],
          "name": "stdout"
        }
      ]
    },
    {
      "cell_type": "code",
      "metadata": {
        "id": "Ba2ESTBb53iv"
      },
      "source": [
        ""
      ],
      "execution_count": null,
      "outputs": []
    },
    {
      "cell_type": "markdown",
      "metadata": {
        "id": "DAAySNR_551l"
      },
      "source": [
        "# As we can see by comparing the models( Ridge Regression, Lasso Regression, Decision Tree, and Random Forest Regression) Decision Tree and Random Forest perfome best. "
      ]
    },
    {
      "cell_type": "code",
      "metadata": {
        "id": "4mUAT_BD6d1t"
      },
      "source": [
        ""
      ],
      "execution_count": null,
      "outputs": []
    }
  ]
}