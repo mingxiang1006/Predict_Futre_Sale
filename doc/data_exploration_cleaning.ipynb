{
 "cells": [
  {
   "cell_type": "code",
   "execution_count": 53,
   "metadata": {},
   "outputs": [
    {
     "name": "stdout",
     "output_type": "stream",
     "text": [
      "Item Category Info\n",
      "<bound method DataFrame.info of            item_category_name  item_category_id\n",
      "0     PC - Гарнитуры/Наушники                 0\n",
      "1            Аксессуары - PS2                 1\n",
      "2            Аксессуары - PS3                 2\n",
      "3            Аксессуары - PS4                 3\n",
      "4            Аксессуары - PSP                 4\n",
      "..                        ...               ...\n",
      "79                  Служебные                79\n",
      "80         Служебные - Билеты                80\n",
      "81    Чистые носители (шпиль)                81\n",
      "82  Чистые носители (штучные)                82\n",
      "83           Элементы питания                83\n",
      "\n",
      "[84 rows x 2 columns]>\n",
      "\n",
      "Item Info\n",
      "<bound method DataFrame.info of                                                item_name  item_id  \\\n",
      "0              ! ВО ВЛАСТИ НАВАЖДЕНИЯ (ПЛАСТ.)         D        0   \n",
      "1      !ABBYY FineReader 12 Professional Edition Full...        1   \n",
      "2          ***В ЛУЧАХ СЛАВЫ   (UNV)                    D        2   \n",
      "3        ***ГОЛУБАЯ ВОЛНА  (Univ)                      D        3   \n",
      "4            ***КОРОБКА (СТЕКЛО)                       D        4   \n",
      "...                                                  ...      ...   \n",
      "22165             Ядерный титбит 2 [PC, Цифровая версия]    22165   \n",
      "22166    Язык запросов 1С:Предприятия  [Цифровая версия]    22166   \n",
      "22167  Язык запросов 1С:Предприятия 8 (+CD). Хрустале...    22167   \n",
      "22168                                Яйцо для Little Inu    22168   \n",
      "22169                      Яйцо дракона (Игра престолов)    22169   \n",
      "\n",
      "       item_category_id  \n",
      "0                    40  \n",
      "1                    76  \n",
      "2                    40  \n",
      "3                    40  \n",
      "4                    40  \n",
      "...                 ...  \n",
      "22165                31  \n",
      "22166                54  \n",
      "22167                49  \n",
      "22168                62  \n",
      "22169                69  \n",
      "\n",
      "[22170 rows x 3 columns]>\n",
      "\n",
      "Shops Info\n",
      "<bound method DataFrame.info of                                           shop_name  shop_id\n",
      "0                     !Якутск Орджоникидзе, 56 фран        0\n",
      "1                     !Якутск ТЦ \"Центральный\" фран        1\n",
      "2                                  Адыгея ТЦ \"Мега\"        2\n",
      "3                    Балашиха ТРК \"Октябрь-Киномир\"        3\n",
      "4                          Волжский ТЦ \"Волга Молл\"        4\n",
      "5                            Вологда ТРЦ \"Мармелад\"        5\n",
      "6                        Воронеж (Плехановская, 13)        6\n",
      "7                            Воронеж ТРЦ \"Максимир\"        7\n",
      "8                      Воронеж ТРЦ Сити-Парк \"Град\"        8\n",
      "9                                 Выездная Торговля        9\n",
      "10                       Жуковский ул. Чкалова 39м?       10\n",
      "11                       Жуковский ул. Чкалова 39м²       11\n",
      "12                              Интернет-магазин ЧС       12\n",
      "13                              Казань ТЦ \"Бехетле\"       13\n",
      "14                          Казань ТЦ \"ПаркХаус\" II       14\n",
      "15                             Калуга ТРЦ \"XXI век\"       15\n",
      "16                                 Коломна ТЦ \"Рио\"       16\n",
      "17                    Красноярск ТЦ \"Взлетка Плаза\"       17\n",
      "18                             Красноярск ТЦ \"Июнь\"       18\n",
      "19                            Курск ТЦ \"Пушкинский\"       19\n",
      "20                              Москва \"Распродажа\"       20\n",
      "21                           Москва МТРЦ \"Афи Молл\"       21\n",
      "22                               Москва Магазин С21       22\n",
      "23                 Москва ТК \"Буденовский\" (пав.А2)       23\n",
      "24                 Москва ТК \"Буденовский\" (пав.К7)       24\n",
      "25                              Москва ТРК \"Атриум\"       25\n",
      "26                      Москва ТЦ \"Ареал\" (Беляево)       26\n",
      "27                   Москва ТЦ \"МЕГА Белая Дача II\"       27\n",
      "28                  Москва ТЦ \"МЕГА Теплый Стан\" II       28\n",
      "29               Москва ТЦ \"Новый век\" (Новокосино)       29\n",
      "30                           Москва ТЦ \"Перловский\"       30\n",
      "31                          Москва ТЦ \"Семеновский\"       31\n",
      "32                       Москва ТЦ \"Серебряный Дом\"       32\n",
      "33                                Мытищи ТРК \"XL-3\"       33\n",
      "34                             Н.Новгород ТРЦ \"РИО\"       34\n",
      "35                      Н.Новгород ТРЦ \"Фантастика\"       35\n",
      "36            Новосибирск ТРЦ \"Галерея Новосибирск\"       36\n",
      "37                            Новосибирск ТЦ \"Мега\"       37\n",
      "38                                   Омск ТЦ \"Мега\"       38\n",
      "39            РостовНаДону ТРК \"Мегацентр Горизонт\"       39\n",
      "40  РостовНаДону ТРК \"Мегацентр Горизонт\" Островной       40\n",
      "41                           РостовНаДону ТЦ \"Мега\"       41\n",
      "42                           СПб ТК \"Невский Центр\"       42\n",
      "43                                  СПб ТК \"Сенная\"       43\n",
      "44                              Самара ТЦ \"Мелодия\"       44\n",
      "45                             Самара ТЦ \"ПаркХаус\"       45\n",
      "46                            Сергиев Посад ТЦ \"7Я\"       46\n",
      "47                           Сургут ТРЦ \"Сити Молл\"       47\n",
      "48                     Томск ТРЦ \"Изумрудный Город\"       48\n",
      "49                            Тюмень ТРЦ \"Кристалл\"       49\n",
      "50                               Тюмень ТЦ \"Гудвин\"       50\n",
      "51                        Тюмень ТЦ \"Зеленый Берег\"       51\n",
      "52                             Уфа ТК \"Центральный\"       52\n",
      "53                                 Уфа ТЦ \"Семья\" 2       53\n",
      "54                                  Химки ТЦ \"Мега\"       54\n",
      "55                         Цифровой склад 1С-Онлайн       55\n",
      "56                             Чехов ТРЦ \"Карнавал\"       56\n",
      "57                          Якутск Орджоникидзе, 56       57\n",
      "58                          Якутск ТЦ \"Центральный\"       58\n",
      "59                           Ярославль ТЦ \"Альтаир\"       59>\n",
      "\n",
      "Test\n",
      "<bound method DataFrame.info of             ID  shop_id  item_id\n",
      "0            0        5     5037\n",
      "1            1        5     5320\n",
      "2            2        5     5233\n",
      "3            3        5     5232\n",
      "4            4        5     5268\n",
      "...        ...      ...      ...\n",
      "214195  214195       45    18454\n",
      "214196  214196       45    16188\n",
      "214197  214197       45    15757\n",
      "214198  214198       45    19648\n",
      "214199  214199       45      969\n",
      "\n",
      "[214200 rows x 3 columns]>\n",
      "\n",
      "Train\n",
      "<bound method DataFrame.info of                date  date_block_num  shop_id  item_id  item_price  \\\n",
      "0        02.01.2013               0       59    22154      999.00   \n",
      "1        03.01.2013               0       25     2552      899.00   \n",
      "2        05.01.2013               0       25     2552      899.00   \n",
      "3        06.01.2013               0       25     2554     1709.05   \n",
      "4        15.01.2013               0       25     2555     1099.00   \n",
      "...             ...             ...      ...      ...         ...   \n",
      "2935844  10.10.2015              33       25     7409      299.00   \n",
      "2935845  09.10.2015              33       25     7460      299.00   \n",
      "2935846  14.10.2015              33       25     7459      349.00   \n",
      "2935847  22.10.2015              33       25     7440      299.00   \n",
      "2935848  03.10.2015              33       25     7460      299.00   \n",
      "\n",
      "         item_cnt_day  \n",
      "0                 1.0  \n",
      "1                 1.0  \n",
      "2                -1.0  \n",
      "3                 1.0  \n",
      "4                 1.0  \n",
      "...               ...  \n",
      "2935844           1.0  \n",
      "2935845           1.0  \n",
      "2935846           1.0  \n",
      "2935847           1.0  \n",
      "2935848           1.0  \n",
      "\n",
      "[2935849 rows x 6 columns]>\n"
     ]
    }
   ],
   "source": [
    "import pandas as pd\n",
    "import matplotlib.pyplot as plt # basic plotting\n",
    "import seaborn as sns # for prettier plots\n",
    "\n",
    "print(\"Item Category Info\")\n",
    "item_cat = pd.read_csv(\"C:/Users/KANGHEA/OneDrive - Hilti/Study/WQD7003/Assignment/GroupAssignment/item_categories.csv\")\n",
    "print(item_cat.info)\n",
    "\n",
    "print(\"\\nItem Info\")\n",
    "item = pd.read_csv(\"C:/Users/KANGHEA/OneDrive - Hilti/Study/WQD7003/Assignment/GroupAssignment/items.csv\")\n",
    "print(item.info)\n",
    "\n",
    "print(\"\\nShops Info\")\n",
    "shops = pd.read_csv(\"C:/Users/KANGHEA/OneDrive - Hilti/Study/WQD7003/Assignment/GroupAssignment/shops.csv\")\n",
    "print(shops.info)\n",
    "\n",
    "print(\"\\nTest\")\n",
    "test = pd.read_csv(\"C:/Users/KANGHEA/OneDrive - Hilti/Study/WQD7003/Assignment/GroupAssignment/test.csv\")\n",
    "print(test.info)\n",
    "\n",
    "print(\"\\nTrain\")\n",
    "train = pd.read_csv(\"C:/Users/KANGHEA/OneDrive - Hilti/Study/WQD7003/Assignment/GroupAssignment/sales_train.csv\")\n",
    "print(train.info)"
   ]
  },
  {
   "cell_type": "code",
   "execution_count": 5,
   "metadata": {},
   "outputs": [
    {
     "name": "stdout",
     "output_type": "stream",
     "text": [
      "Check whether we have null data\n"
     ]
    },
    {
     "data": {
      "text/plain": [
       "item_category_name    0\n",
       "item_category_id      0\n",
       "dtype: int64"
      ]
     },
     "execution_count": 5,
     "metadata": {},
     "output_type": "execute_result"
    }
   ],
   "source": [
    "print('Check whether we have null data')\n",
    "item_cat.isnull().sum()"
   ]
  },
  {
   "cell_type": "code",
   "execution_count": 6,
   "metadata": {},
   "outputs": [
    {
     "name": "stdout",
     "output_type": "stream",
     "text": [
      "Check whether we have null data for item\n"
     ]
    },
    {
     "data": {
      "text/plain": [
       "item_name           0\n",
       "item_id             0\n",
       "item_category_id    0\n",
       "dtype: int64"
      ]
     },
     "execution_count": 6,
     "metadata": {},
     "output_type": "execute_result"
    }
   ],
   "source": [
    "print('Check whether we have null data for item')\n",
    "item.isnull().sum() "
   ]
  },
  {
   "cell_type": "code",
   "execution_count": 7,
   "metadata": {},
   "outputs": [
    {
     "name": "stdout",
     "output_type": "stream",
     "text": [
      "Check whether we have null data for test set\n"
     ]
    },
    {
     "data": {
      "text/plain": [
       "ID         0\n",
       "shop_id    0\n",
       "item_id    0\n",
       "dtype: int64"
      ]
     },
     "execution_count": 7,
     "metadata": {},
     "output_type": "execute_result"
    }
   ],
   "source": [
    "print('Check whether we have null data for test set')\n",
    "test.isnull().sum()"
   ]
  },
  {
   "cell_type": "code",
   "execution_count": 8,
   "metadata": {},
   "outputs": [
    {
     "name": "stdout",
     "output_type": "stream",
     "text": [
      "Check whether we have null data for training set\n"
     ]
    },
    {
     "data": {
      "text/plain": [
       "date              0\n",
       "date_block_num    0\n",
       "shop_id           0\n",
       "item_id           0\n",
       "item_price        0\n",
       "item_cnt_day      0\n",
       "dtype: int64"
      ]
     },
     "execution_count": 8,
     "metadata": {},
     "output_type": "execute_result"
    }
   ],
   "source": [
    "print('Check whether we have null data for training set')\n",
    "train.isnull().sum()"
   ]
  },
  {
   "cell_type": "code",
   "execution_count": 9,
   "metadata": {},
   "outputs": [
    {
     "name": "stdout",
     "output_type": "stream",
     "text": [
      "Compare number of item and number of unique it\n"
     ]
    },
    {
     "data": {
      "text/plain": [
       "item_name           22170\n",
       "item_id             22170\n",
       "item_category_id    22170\n",
       "dtype: int64"
      ]
     },
     "execution_count": 9,
     "metadata": {},
     "output_type": "execute_result"
    }
   ],
   "source": [
    "print('Compare number of item and number of unique it')\n",
    "item.count()"
   ]
  },
  {
   "cell_type": "code",
   "execution_count": 10,
   "metadata": {},
   "outputs": [
    {
     "data": {
      "text/plain": [
       "22170"
      ]
     },
     "execution_count": 10,
     "metadata": {},
     "output_type": "execute_result"
    }
   ],
   "source": [
    "len(pd.unique(item['item_id'])) "
   ]
  },
  {
   "cell_type": "code",
   "execution_count": 11,
   "metadata": {},
   "outputs": [
    {
     "name": "stdout",
     "output_type": "stream",
     "text": [
      "Checking how many negative value\n"
     ]
    },
    {
     "data": {
      "text/plain": [
       "2928493"
      ]
     },
     "execution_count": 11,
     "metadata": {},
     "output_type": "execute_result"
    }
   ],
   "source": [
    "print(\"Checking how many negative value\")\n",
    "train['item_cnt_day'].loc[lambda x : x>0].count()"
   ]
  },
  {
   "cell_type": "code",
   "execution_count": 12,
   "metadata": {},
   "outputs": [
    {
     "data": {
      "text/plain": [
       "7356"
      ]
     },
     "execution_count": 12,
     "metadata": {},
     "output_type": "execute_result"
    }
   ],
   "source": [
    "train['item_cnt_day'].loc[lambda x : x<0].count()"
   ]
  },
  {
   "cell_type": "code",
   "execution_count": 124,
   "metadata": {},
   "outputs": [
    {
     "name": "stdout",
     "output_type": "stream",
     "text": [
      "<class 'pandas.core.frame.DataFrame'>\n",
      "RangeIndex: 84 entries, 0 to 83\n",
      "Data columns (total 2 columns):\n",
      " #   Column            Non-Null Count  Dtype  \n",
      "---  ------            --------------  -----  \n",
      " 0   item_category_id  84 non-null     int64  \n",
      " 1   item_price        84 non-null     float64\n",
      "dtypes: float64(1), int64(1)\n",
      "memory usage: 1.4 KB\n"
     ]
    }
   ],
   "source": [
    "# Checking totaly sales per item category\n",
    "train = pd.read_csv(\"C:/Users/KANGHEA/OneDrive - Hilti/Study/WQD7003/Assignment/GroupAssignment/sales_train.csv\")\n",
    "\n",
    "#sales_item_cat = train.groupby(['item_id'])['item_price'].count()\n",
    "\n",
    "#print(sales_item_cat.head(n = 25))\n",
    "sales_item_cat = pd.merge(train,item,on='item_id')\n",
    "\n",
    "#For checking specific item category\n",
    "#sales_item_cat = sales_item_cat[sales_item_cat.item_category_id.isin([\"40\"])]\n",
    "\n",
    "sales_item_cat = sales_item_cat[['item_category_id','item_price']]\n",
    "\n",
    "sales_item_cat = sales_item_cat.groupby(['item_category_id'])[['item_price']].agg('sum').reset_index()\n",
    "\n",
    "sales_item_cat.info()\n",
    "\n",
    "sales_item_cat = sales_item_cat.rename({'item_category_id': 'item_category_id', 'item_price': 'total_item_price'}, axis='columns')\n"
   ]
  },
  {
   "cell_type": "code",
   "execution_count": 131,
   "metadata": {},
   "outputs": [
    {
     "name": "stdout",
     "output_type": "stream",
     "text": [
      "Min Total Sales: 41.0\n",
      "Max Total Sales:  314836356.12249666\n",
      "Mean Total Sales:  31135840.147181164\n",
      "Median Total Sales: 9038632.528333332\n"
     ]
    },
    {
     "data": {
      "image/png": "[encoded data removed]",
      "text/plain": [
       "<Figure size 432x288 with 1 Axes>"
      ]
     },
     "metadata": {
      "needs_background": "light"
     },
     "output_type": "display_data"
    }
   ],
   "source": [
    "#print(x)\n",
    "\n",
    "print('Min Total Sales: {}'.format(sales_item_cat.total_item_price.min()))\n",
    "print('Max Total Sales:  {}'.format(sales_item_cat.total_item_price.max()))\n",
    "print('Mean Total Sales:  {}'.format(sales_item_cat.total_item_price.mean()))\n",
    "print('Median Total Sales: {}'.format(sales_item_cat.total_item_price.median()))\n",
    "\n",
    "sales_item_cat = sales_item_cat.sort_values(by=['total_item_price'], ascending =False)\n",
    "\n",
    "#Maybe need more but for now just take 25. \n",
    "sales_item_cat_top25 = sales_item_cat.head(n = 25)\n",
    "\n",
    "# #plot\n",
    "# plt.figure(figsize=(8,4))\n",
    "ax= sns.barplot(sales_item_cat_top25.item_category_id, \n",
    "                sales_item_cat_top25.total_item_price,\n",
    "               order=sales_item_cat_top25.sort_values('total_item_price').item_category_id)\n",
    "plt.title(\"Items Price per Category - Top 25\")\n",
    "plt.ylabel('Item Price', fontsize=12)\n",
    "plt.xlabel('Category', fontsize=12)\n",
    "plt.show()"
   ]
  },
  {
   "cell_type": "code",
   "execution_count": 134,
   "metadata": {},
   "outputs": [
    {
     "name": "stdout",
     "output_type": "stream",
     "text": [
      "Min Total Sales: 41.0\n",
      "Max Total Sales:  314836356.12249666\n",
      "Mean Total Sales:  31135840.147181164\n",
      "Median Total Sales: 9038632.528333332\n"
     ]
    },
    {
     "data": {
      "image/png": "[encoded data removed]",
      "text/plain": [
       "<Figure size 432x288 with 1 Axes>"
      ]
     },
     "metadata": {
      "needs_background": "light"
     },
     "output_type": "display_data"
    }
   ],
   "source": [
    "#print(x)\n",
    "\n",
    "print('Min Total Sales: {}'.format(sales_item_cat.total_item_price.min()))\n",
    "print('Max Total Sales:  {}'.format(sales_item_cat.total_item_price.max()))\n",
    "print('Mean Total Sales:  {}'.format(sales_item_cat.total_item_price.mean()))\n",
    "print('Median Total Sales: {}'.format(sales_item_cat.total_item_price.median()))\n",
    "\n",
    "sales_item_cat = sales_item_cat.sort_values(by=['total_item_price'], ascending =False)\n",
    "\n",
    "#Maybe need more but for now just take 25. \n",
    "sales_item_cat_bot25 = sales_item_cat.tail(n = 25)\n",
    "\n",
    "# #plot\n",
    "# plt.figure(figsize=(8,4))\n",
    "ax= sns.barplot(sales_item_cat_bot25.item_category_id, \n",
    "                sales_item_cat_bot25.total_item_price,\n",
    "               order=sales_item_cat_bot25.sort_values('total_item_price').item_category_id)\n",
    "plt.title(\"Items Price per Category - Bottom 25\")\n",
    "plt.ylabel('Item Price', fontsize=12)\n",
    "plt.xlabel('Category', fontsize=12)\n",
    "plt.show()"
   ]
  },
  {
   "cell_type": "code",
   "execution_count": 153,
   "metadata": {},
   "outputs": [
    {
     "name": "stdout",
     "output_type": "stream",
     "text": [
      "Min Sales: -1.0\n",
      "Max Sales:  307980.0\n",
      "Mean Sales:  890.8532326979881\n",
      "Median Sales: 399.0\n"
     ]
    }
   ],
   "source": [
    "# Find the dialy sales(train) min, max, etc\n",
    "print('Min Sales: {}'.format(train.item_price.min()))\n",
    "print('Max Sales:  {}'.format(train.item_price.max()))\n",
    "print('Mean Sales:  {}'.format(train.item_price.mean()))\n",
    "print('Median Sales: {}'.format(train.item_price.median()))"
   ]
  },
  {
   "cell_type": "code",
   "execution_count": 135,
   "metadata": {},
   "outputs": [
    {
     "data": {
      "text/plain": [
       "<matplotlib.axes._subplots.AxesSubplot at 0x18e0a08e550>"
      ]
     },
     "execution_count": 135,
     "metadata": {},
     "output_type": "execute_result"
    },
    {
     "data": {
      "image/png": "[encoded data removed]",
      "text/plain": [
       "<Figure size 432x288 with 1 Axes>"
      ]
     },
     "metadata": {
      "needs_background": "light"
     },
     "output_type": "display_data"
    }
   ],
   "source": [
    "#Try to find out the scatter plot for sales\n",
    "\n",
    "train.plot.scatter(x=\"date_block_num\", y=\"item_price\")\n",
    "\n",
    "#outlier found"
   ]
  },
  {
   "cell_type": "code",
   "execution_count": 152,
   "metadata": {},
   "outputs": [
    {
     "name": "stdout",
     "output_type": "stream",
     "text": [
      "Count for Item Price more than 25000: 14\n"
     ]
    },
    {
     "data": {
      "text/plain": [
       "<matplotlib.axes._subplots.AxesSubplot at 0x18e0b1fa7c0>"
      ]
     },
     "execution_count": 152,
     "metadata": {},
     "output_type": "execute_result"
    },
    {
     "data": {
      "image/png": "[encoded data removed]",
      "text/plain": [
       "<Figure size 432x288 with 1 Axes>"
      ]
     },
     "metadata": {
      "needs_background": "light"
     },
     "output_type": "display_data"
    }
   ],
   "source": [
    "train_more_25000 = train.loc[(train['item_price']>=40000)]\n",
    "\n",
    "print('Count for Item Price more than 25000: {}'.format(train_more_25000.shape[0]))\n",
    "       \n",
    "train_more_25000.plot.scatter(x=\"date_block_num\", y=\"item_price\")"
   ]
  },
  {
   "cell_type": "code",
   "execution_count": 151,
   "metadata": {},
   "outputs": [
    {
     "name": "stdout",
     "output_type": "stream",
     "text": [
      "Count for Item Price less than 40000: 2935835\n",
      "Total count of train data: 2935849\n"
     ]
    },
    {
     "data": {
      "text/plain": [
       "<matplotlib.axes._subplots.AxesSubplot at 0x18e0a8a0400>"
      ]
     },
     "execution_count": 151,
     "metadata": {},
     "output_type": "execute_result"
    },
    {
     "data": {
      "image/png": "[encoded data removed]",
      "text/plain": [
       "<Figure size 432x288 with 1 Axes>"
      ]
     },
     "metadata": {
      "needs_background": "light"
     },
     "output_type": "display_data"
    }
   ],
   "source": [
    "train_more_25000 = train.loc[(train['item_price']<40000)]\n",
    "\n",
    "print('Count for Item Price less than 40000: {}'.format(train_more_25000.shape[0]))\n",
    "\n",
    "print('Total count of train data: {}'.format(train.shape[0]))\n",
    "       \n",
    "train_more_25000.plot.scatter(x=\"date_block_num\", y=\"item_price\")"
   ]
  },
  {
   "cell_type": "code",
   "execution_count": null,
   "metadata": {},
   "outputs": [],
   "source": []
  }
 ],
 "metadata": {
  "kernelspec": {
   "display_name": "Python 3",
   "language": "python",
   "name": "python3"
  },
  "language_info": {
   "codemirror_mode": {
    "name": "ipython",
    "version": 3
   },
   "file_extension": ".py",
   "mimetype": "text/x-python",
   "name": "python",
   "nbconvert_exporter": "python",
   "pygments_lexer": "ipython3",
   "version": "3.8.3"
  }
 },
 "nbformat": 4,
 "nbformat_minor": 4
}
