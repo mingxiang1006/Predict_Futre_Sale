{
 "cells": [
  {
   "cell_type": "markdown",
   "metadata": {},
   "source": [
    "# Predicting Future Sales\n",
    "## Data Exploration and Cleaning Note Book"
   ]
  },
  {
   "cell_type": "markdown",
   "metadata": {},
   "source": [
    "**Table of contents**\n",
    "<br>Notebook Setup\n",
    "1. Exploration and Cleaning<br>\n",
    "    1.1 Check Characteristic values<br>\n",
    "    1.2 Check Key Figure values<br>\n",
    "2. Exploratory Analysis<br>\n",
    "    2.1 Sales General Trend - Heat Map<br>\n",
    "    2.2 Items<br>\n",
    "    2.3 Shop<br>\n",
    "    2.4 Category<br>"
   ]
  },
  {
   "cell_type": "markdown",
   "metadata": {},
   "source": [
    "## Notebook setup"
   ]
  },
  {
   "cell_type": "code",
   "execution_count": 1,
   "metadata": {},
   "outputs": [],
   "source": [
    "import pandas as pd\n",
    "import matplotlib.pyplot as plt # basic plotting\n",
    "import seaborn as sns # for prettier plots\n",
    "import numpy as np\n",
    "import calmap\n",
    "import math\n",
    "import calmap"
   ]
  },
  {
   "cell_type": "markdown",
   "metadata": {},
   "source": [
    "### Data Manipulation Options\n",
    "\n",
    "You may change the value below to remove or keep the data as is <br>\n",
    "REMOVE_NEGATIVE_COUNTS: Remove Negative item_cnt_day <br>\n",
    "REMOVE_NONREV_PRODUCT: Remove product that is not relevant to prediction <br>\n",
    "REMOVE_NON_PREDICT_ITM: Remove the item(s) that is not required for prediction <br>\n",
    "\n",
    "Please note that changing these parameter will impact the some of the \n",
    "result below because some data set is removed after changing the value"
   ]
  },
  {
   "cell_type": "code",
   "execution_count": 2,
   "metadata": {},
   "outputs": [],
   "source": [
    "REMOVE_NEGATIVE_COUNTS = True\n",
    "REMOVE_NEGATIVE_PRICE = True\n",
    "REMOVE_NON_PREDICT_ITM = True"
   ]
  },
  {
   "cell_type": "markdown",
   "metadata": {},
   "source": [
    "## 1. Exploration and Cleaning"
   ]
  },
  {
   "cell_type": "code",
   "execution_count": 3,
   "metadata": {},
   "outputs": [],
   "source": [
    "sales = pd.read_csv(\"sales_train.csv\")\n",
    "items = pd.read_csv(\"items.csv\")\n",
    "categories = pd.read_csv(\"item_categories.csv\")\n",
    "shops = pd.read_csv(\"shops.csv\")\n",
    "test = pd.read_csv(\"test.csv\")"
   ]
  },
  {
   "cell_type": "markdown",
   "metadata": {},
   "source": [
    "### 1.1 Check Characteristic values"
   ]
  },
  {
   "cell_type": "markdown",
   "metadata": {},
   "source": [
    "**1.1.1 Sales**"
   ]
  },
  {
   "cell_type": "code",
   "execution_count": 4,
   "metadata": {},
   "outputs": [
    {
     "data": {
      "text/html": [
       "<div>\n",
       "<style scoped>\n",
       "    .dataframe tbody tr th:only-of-type {\n",
       "        vertical-align: middle;\n",
       "    }\n",
       "\n",
       "    .dataframe tbody tr th {\n",
       "        vertical-align: top;\n",
       "    }\n",
       "\n",
       "    .dataframe thead th {\n",
       "        text-align: right;\n",
       "    }\n",
       "</style>\n",
       "<table border=\"1\" class=\"dataframe\">\n",
       "  <thead>\n",
       "    <tr style=\"text-align: right;\">\n",
       "      <th></th>\n",
       "      <th>date</th>\n",
       "      <th>date_block_num</th>\n",
       "      <th>shop_id</th>\n",
       "      <th>item_id</th>\n",
       "      <th>item_price</th>\n",
       "      <th>item_cnt_day</th>\n",
       "    </tr>\n",
       "  </thead>\n",
       "  <tbody>\n",
       "    <tr>\n",
       "      <th>0</th>\n",
       "      <td>02.01.2013</td>\n",
       "      <td>0</td>\n",
       "      <td>59</td>\n",
       "      <td>22154</td>\n",
       "      <td>999.00</td>\n",
       "      <td>1.0</td>\n",
       "    </tr>\n",
       "    <tr>\n",
       "      <th>1</th>\n",
       "      <td>03.01.2013</td>\n",
       "      <td>0</td>\n",
       "      <td>25</td>\n",
       "      <td>2552</td>\n",
       "      <td>899.00</td>\n",
       "      <td>1.0</td>\n",
       "    </tr>\n",
       "    <tr>\n",
       "      <th>2</th>\n",
       "      <td>05.01.2013</td>\n",
       "      <td>0</td>\n",
       "      <td>25</td>\n",
       "      <td>2552</td>\n",
       "      <td>899.00</td>\n",
       "      <td>-1.0</td>\n",
       "    </tr>\n",
       "    <tr>\n",
       "      <th>3</th>\n",
       "      <td>06.01.2013</td>\n",
       "      <td>0</td>\n",
       "      <td>25</td>\n",
       "      <td>2554</td>\n",
       "      <td>1709.05</td>\n",
       "      <td>1.0</td>\n",
       "    </tr>\n",
       "    <tr>\n",
       "      <th>4</th>\n",
       "      <td>15.01.2013</td>\n",
       "      <td>0</td>\n",
       "      <td>25</td>\n",
       "      <td>2555</td>\n",
       "      <td>1099.00</td>\n",
       "      <td>1.0</td>\n",
       "    </tr>\n",
       "  </tbody>\n",
       "</table>\n",
       "</div>"
      ],
      "text/plain": [
       "         date  date_block_num  shop_id  item_id  item_price  item_cnt_day\n",
       "0  02.01.2013               0       59    22154      999.00           1.0\n",
       "1  03.01.2013               0       25     2552      899.00           1.0\n",
       "2  05.01.2013               0       25     2552      899.00          -1.0\n",
       "3  06.01.2013               0       25     2554     1709.05           1.0\n",
       "4  15.01.2013               0       25     2555     1099.00           1.0"
      ]
     },
     "execution_count": 4,
     "metadata": {},
     "output_type": "execute_result"
    }
   ],
   "source": [
    "sales.head()"
   ]
  },
  {
   "cell_type": "code",
   "execution_count": 5,
   "metadata": {},
   "outputs": [
    {
     "name": "stdout",
     "output_type": "stream",
     "text": [
      "<class 'pandas.core.frame.DataFrame'>\n",
      "RangeIndex: 2935849 entries, 0 to 2935848\n",
      "Data columns (total 6 columns):\n",
      " #   Column          Dtype  \n",
      "---  ------          -----  \n",
      " 0   date            object \n",
      " 1   date_block_num  int64  \n",
      " 2   shop_id         int64  \n",
      " 3   item_id         int64  \n",
      " 4   item_price      float64\n",
      " 5   item_cnt_day    float64\n",
      "dtypes: float64(2), int64(3), object(1)\n",
      "memory usage: 134.4+ MB\n"
     ]
    }
   ],
   "source": [
    "sales.info()"
   ]
  },
  {
   "cell_type": "markdown",
   "metadata": {},
   "source": [
    "Check for null value"
   ]
  },
  {
   "cell_type": "code",
   "execution_count": 6,
   "metadata": {},
   "outputs": [
    {
     "data": {
      "text/plain": [
       "date              0\n",
       "date_block_num    0\n",
       "shop_id           0\n",
       "item_id           0\n",
       "item_price        0\n",
       "item_cnt_day      0\n",
       "dtype: int64"
      ]
     },
     "execution_count": 6,
     "metadata": {},
     "output_type": "execute_result"
    }
   ],
   "source": [
    "sales.isna().sum()"
   ]
  },
  {
   "cell_type": "markdown",
   "metadata": {},
   "source": [
    "<br>\n",
    "From first 5 rows, we can already infer that there is data quality issue:\n",
    "\n",
    "There is a negative value showing in the itm_cnt_day field. \n",
    "\n",
    "Let's remove the negative value if required (can be configure at the Data \n",
    "Manipulation Options section above)\n",
    "<br>"
   ]
  },
  {
   "cell_type": "code",
   "execution_count": 7,
   "metadata": {},
   "outputs": [
    {
     "name": "stdout",
     "output_type": "stream",
     "text": [
      "\n",
      "Total Number of rows for sales data frame: 1442564\n",
      "\n"
     ]
    },
    {
     "data": {
      "text/html": [
       "<div>\n",
       "<style scoped>\n",
       "    .dataframe tbody tr th:only-of-type {\n",
       "        vertical-align: middle;\n",
       "    }\n",
       "\n",
       "    .dataframe tbody tr th {\n",
       "        vertical-align: top;\n",
       "    }\n",
       "\n",
       "    .dataframe thead th {\n",
       "        text-align: right;\n",
       "    }\n",
       "</style>\n",
       "<table border=\"1\" class=\"dataframe\">\n",
       "  <thead>\n",
       "    <tr style=\"text-align: right;\">\n",
       "      <th></th>\n",
       "      <th>date</th>\n",
       "      <th>date_block_num</th>\n",
       "      <th>shop_id</th>\n",
       "      <th>item_id</th>\n",
       "      <th>item_price</th>\n",
       "      <th>item_cnt_day</th>\n",
       "    </tr>\n",
       "  </thead>\n",
       "  <tbody>\n",
       "    <tr>\n",
       "      <th>0</th>\n",
       "      <td>02.01.2013</td>\n",
       "      <td>0</td>\n",
       "      <td>59</td>\n",
       "      <td>22154</td>\n",
       "      <td>999.0</td>\n",
       "      <td>1.0</td>\n",
       "    </tr>\n",
       "    <tr>\n",
       "      <th>9</th>\n",
       "      <td>03.01.2013</td>\n",
       "      <td>0</td>\n",
       "      <td>25</td>\n",
       "      <td>2574</td>\n",
       "      <td>399.0</td>\n",
       "      <td>2.0</td>\n",
       "    </tr>\n",
       "    <tr>\n",
       "      <th>10</th>\n",
       "      <td>05.01.2013</td>\n",
       "      <td>0</td>\n",
       "      <td>25</td>\n",
       "      <td>2574</td>\n",
       "      <td>399.0</td>\n",
       "      <td>1.0</td>\n",
       "    </tr>\n",
       "    <tr>\n",
       "      <th>11</th>\n",
       "      <td>07.01.2013</td>\n",
       "      <td>0</td>\n",
       "      <td>25</td>\n",
       "      <td>2574</td>\n",
       "      <td>399.0</td>\n",
       "      <td>1.0</td>\n",
       "    </tr>\n",
       "    <tr>\n",
       "      <th>12</th>\n",
       "      <td>08.01.2013</td>\n",
       "      <td>0</td>\n",
       "      <td>25</td>\n",
       "      <td>2574</td>\n",
       "      <td>399.0</td>\n",
       "      <td>2.0</td>\n",
       "    </tr>\n",
       "  </tbody>\n",
       "</table>\n",
       "</div>"
      ],
      "text/plain": [
       "          date  date_block_num  shop_id  item_id  item_price  item_cnt_day\n",
       "0   02.01.2013               0       59    22154       999.0           1.0\n",
       "9   03.01.2013               0       25     2574       399.0           2.0\n",
       "10  05.01.2013               0       25     2574       399.0           1.0\n",
       "11  07.01.2013               0       25     2574       399.0           1.0\n",
       "12  08.01.2013               0       25     2574       399.0           2.0"
      ]
     },
     "execution_count": 7,
     "metadata": {},
     "output_type": "execute_result"
    }
   ],
   "source": [
    "if REMOVE_NEGATIVE_COUNTS:\n",
    "    sales = sales[sales.item_cnt_day >= 0]\n",
    "if REMOVE_NEGATIVE_PRICE:\n",
    "    sales = sales[sales.item_price >= 0]\n",
    "if REMOVE_NON_PREDICT_ITM: \n",
    "    testUniID = list(test.item_id.unique())\n",
    "\n",
    "    for idx in items.index:\n",
    "        id = items.loc[idx, \"item_id\"]\n",
    "        items.loc[idx, \"Required\"] = id in testUniID\n",
    "# pre merge to removed data that are not related for prediction\n",
    "# will drop the \"Required\" column for cleaner data. \n",
    "    sales = sales.merge(items, how=\"left\", on=\"item_id\")\n",
    "    \n",
    "    sales = sales[sales.Required == True]\n",
    "    \n",
    "# Drop column for cleaner data\n",
    "    sales = sales.iloc[:, 0:6]\n",
    "\n",
    "print()    \n",
    "print(\"Total Number of rows for sales data frame: {}\".format(len(sales))) \n",
    "print()\n",
    "sales.head()"
   ]
  },
  {
   "cell_type": "markdown",
   "metadata": {},
   "source": [
    "Let's check whether sales have duplicate data "
   ]
  },
  {
   "cell_type": "code",
   "execution_count": 8,
   "metadata": {},
   "outputs": [
    {
     "name": "stdout",
     "output_type": "stream",
     "text": [
      "number of duplicates : 11\n"
     ]
    },
    {
     "data": {
      "text/html": [
       "<div>\n",
       "<style scoped>\n",
       "    .dataframe tbody tr th:only-of-type {\n",
       "        vertical-align: middle;\n",
       "    }\n",
       "\n",
       "    .dataframe tbody tr th {\n",
       "        vertical-align: top;\n",
       "    }\n",
       "\n",
       "    .dataframe thead th {\n",
       "        text-align: right;\n",
       "    }\n",
       "</style>\n",
       "<table border=\"1\" class=\"dataframe\">\n",
       "  <thead>\n",
       "    <tr style=\"text-align: right;\">\n",
       "      <th></th>\n",
       "      <th>date</th>\n",
       "      <th>date_block_num</th>\n",
       "      <th>shop_id</th>\n",
       "      <th>item_id</th>\n",
       "      <th>item_price</th>\n",
       "      <th>item_cnt_day</th>\n",
       "    </tr>\n",
       "  </thead>\n",
       "  <tbody>\n",
       "    <tr>\n",
       "      <th>1492994</th>\n",
       "      <td>23.03.2014</td>\n",
       "      <td>14</td>\n",
       "      <td>21</td>\n",
       "      <td>3423</td>\n",
       "      <td>999.00</td>\n",
       "      <td>1.0</td>\n",
       "    </tr>\n",
       "    <tr>\n",
       "      <th>1492995</th>\n",
       "      <td>23.03.2014</td>\n",
       "      <td>14</td>\n",
       "      <td>21</td>\n",
       "      <td>3423</td>\n",
       "      <td>999.00</td>\n",
       "      <td>1.0</td>\n",
       "    </tr>\n",
       "    <tr>\n",
       "      <th>1861693</th>\n",
       "      <td>12.07.2014</td>\n",
       "      <td>18</td>\n",
       "      <td>25</td>\n",
       "      <td>3423</td>\n",
       "      <td>999.00</td>\n",
       "      <td>1.0</td>\n",
       "    </tr>\n",
       "    <tr>\n",
       "      <th>1861711</th>\n",
       "      <td>12.07.2014</td>\n",
       "      <td>18</td>\n",
       "      <td>25</td>\n",
       "      <td>3423</td>\n",
       "      <td>999.00</td>\n",
       "      <td>1.0</td>\n",
       "    </tr>\n",
       "    <tr>\n",
       "      <th>1431756</th>\n",
       "      <td>23.02.2014</td>\n",
       "      <td>13</td>\n",
       "      <td>50</td>\n",
       "      <td>3423</td>\n",
       "      <td>999.00</td>\n",
       "      <td>1.0</td>\n",
       "    </tr>\n",
       "    <tr>\n",
       "      <th>1431758</th>\n",
       "      <td>23.02.2014</td>\n",
       "      <td>13</td>\n",
       "      <td>50</td>\n",
       "      <td>3423</td>\n",
       "      <td>999.00</td>\n",
       "      <td>1.0</td>\n",
       "    </tr>\n",
       "    <tr>\n",
       "      <th>1667711</th>\n",
       "      <td>01.05.2014</td>\n",
       "      <td>16</td>\n",
       "      <td>50</td>\n",
       "      <td>3423</td>\n",
       "      <td>999.00</td>\n",
       "      <td>1.0</td>\n",
       "    </tr>\n",
       "    <tr>\n",
       "      <th>1667712</th>\n",
       "      <td>01.05.2014</td>\n",
       "      <td>16</td>\n",
       "      <td>50</td>\n",
       "      <td>3423</td>\n",
       "      <td>999.00</td>\n",
       "      <td>1.0</td>\n",
       "    </tr>\n",
       "    <tr>\n",
       "      <th>2266491</th>\n",
       "      <td>26.12.2014</td>\n",
       "      <td>23</td>\n",
       "      <td>17</td>\n",
       "      <td>3424</td>\n",
       "      <td>999.00</td>\n",
       "      <td>2.0</td>\n",
       "    </tr>\n",
       "    <tr>\n",
       "      <th>2266492</th>\n",
       "      <td>26.12.2014</td>\n",
       "      <td>23</td>\n",
       "      <td>17</td>\n",
       "      <td>3424</td>\n",
       "      <td>1199.00</td>\n",
       "      <td>1.0</td>\n",
       "    </tr>\n",
       "    <tr>\n",
       "      <th>2226136</th>\n",
       "      <td>22.12.2014</td>\n",
       "      <td>23</td>\n",
       "      <td>31</td>\n",
       "      <td>8237</td>\n",
       "      <td>99.00</td>\n",
       "      <td>1.0</td>\n",
       "    </tr>\n",
       "    <tr>\n",
       "      <th>2226140</th>\n",
       "      <td>22.12.2014</td>\n",
       "      <td>23</td>\n",
       "      <td>31</td>\n",
       "      <td>8237</td>\n",
       "      <td>149.00</td>\n",
       "      <td>1.0</td>\n",
       "    </tr>\n",
       "    <tr>\n",
       "      <th>2208378</th>\n",
       "      <td>31.12.2014</td>\n",
       "      <td>23</td>\n",
       "      <td>57</td>\n",
       "      <td>8237</td>\n",
       "      <td>99.00</td>\n",
       "      <td>1.0</td>\n",
       "    </tr>\n",
       "    <tr>\n",
       "      <th>2208379</th>\n",
       "      <td>31.12.2014</td>\n",
       "      <td>23</td>\n",
       "      <td>57</td>\n",
       "      <td>8237</td>\n",
       "      <td>149.00</td>\n",
       "      <td>1.0</td>\n",
       "    </tr>\n",
       "    <tr>\n",
       "      <th>142262</th>\n",
       "      <td>18.02.2013</td>\n",
       "      <td>1</td>\n",
       "      <td>16</td>\n",
       "      <td>15702</td>\n",
       "      <td>149.00</td>\n",
       "      <td>1.0</td>\n",
       "    </tr>\n",
       "    <tr>\n",
       "      <th>142263</th>\n",
       "      <td>18.02.2013</td>\n",
       "      <td>1</td>\n",
       "      <td>16</td>\n",
       "      <td>15702</td>\n",
       "      <td>549.00</td>\n",
       "      <td>1.0</td>\n",
       "    </tr>\n",
       "    <tr>\n",
       "      <th>2902070</th>\n",
       "      <td>07.10.2015</td>\n",
       "      <td>33</td>\n",
       "      <td>12</td>\n",
       "      <td>21619</td>\n",
       "      <td>399.00</td>\n",
       "      <td>1.0</td>\n",
       "    </tr>\n",
       "    <tr>\n",
       "      <th>2902071</th>\n",
       "      <td>07.10.2015</td>\n",
       "      <td>33</td>\n",
       "      <td>12</td>\n",
       "      <td>21619</td>\n",
       "      <td>499.00</td>\n",
       "      <td>1.0</td>\n",
       "    </tr>\n",
       "    <tr>\n",
       "      <th>2193118</th>\n",
       "      <td>31.12.2014</td>\n",
       "      <td>23</td>\n",
       "      <td>42</td>\n",
       "      <td>21619</td>\n",
       "      <td>499.00</td>\n",
       "      <td>1.0</td>\n",
       "    </tr>\n",
       "    <tr>\n",
       "      <th>2193120</th>\n",
       "      <td>31.12.2014</td>\n",
       "      <td>23</td>\n",
       "      <td>42</td>\n",
       "      <td>21619</td>\n",
       "      <td>499.00</td>\n",
       "      <td>1.0</td>\n",
       "    </tr>\n",
       "    <tr>\n",
       "      <th>2414471</th>\n",
       "      <td>12.02.2015</td>\n",
       "      <td>25</td>\n",
       "      <td>42</td>\n",
       "      <td>21619</td>\n",
       "      <td>465.05</td>\n",
       "      <td>1.0</td>\n",
       "    </tr>\n",
       "    <tr>\n",
       "      <th>2414472</th>\n",
       "      <td>12.02.2015</td>\n",
       "      <td>25</td>\n",
       "      <td>42</td>\n",
       "      <td>21619</td>\n",
       "      <td>499.00</td>\n",
       "      <td>1.0</td>\n",
       "    </tr>\n",
       "  </tbody>\n",
       "</table>\n",
       "</div>"
      ],
      "text/plain": [
       "               date  date_block_num  shop_id  item_id  item_price  \\\n",
       "1492994  23.03.2014              14       21     3423      999.00   \n",
       "1492995  23.03.2014              14       21     3423      999.00   \n",
       "1861693  12.07.2014              18       25     3423      999.00   \n",
       "1861711  12.07.2014              18       25     3423      999.00   \n",
       "1431756  23.02.2014              13       50     3423      999.00   \n",
       "1431758  23.02.2014              13       50     3423      999.00   \n",
       "1667711  01.05.2014              16       50     3423      999.00   \n",
       "1667712  01.05.2014              16       50     3423      999.00   \n",
       "2266491  26.12.2014              23       17     3424      999.00   \n",
       "2266492  26.12.2014              23       17     3424     1199.00   \n",
       "2226136  22.12.2014              23       31     8237       99.00   \n",
       "2226140  22.12.2014              23       31     8237      149.00   \n",
       "2208378  31.12.2014              23       57     8237       99.00   \n",
       "2208379  31.12.2014              23       57     8237      149.00   \n",
       "142262   18.02.2013               1       16    15702      149.00   \n",
       "142263   18.02.2013               1       16    15702      549.00   \n",
       "2902070  07.10.2015              33       12    21619      399.00   \n",
       "2902071  07.10.2015              33       12    21619      499.00   \n",
       "2193118  31.12.2014              23       42    21619      499.00   \n",
       "2193120  31.12.2014              23       42    21619      499.00   \n",
       "2414471  12.02.2015              25       42    21619      465.05   \n",
       "2414472  12.02.2015              25       42    21619      499.00   \n",
       "\n",
       "         item_cnt_day  \n",
       "1492994           1.0  \n",
       "1492995           1.0  \n",
       "1861693           1.0  \n",
       "1861711           1.0  \n",
       "1431756           1.0  \n",
       "1431758           1.0  \n",
       "1667711           1.0  \n",
       "1667712           1.0  \n",
       "2266491           2.0  \n",
       "2266492           1.0  \n",
       "2226136           1.0  \n",
       "2226140           1.0  \n",
       "2208378           1.0  \n",
       "2208379           1.0  \n",
       "142262            1.0  \n",
       "142263            1.0  \n",
       "2902070           1.0  \n",
       "2902071           1.0  \n",
       "2193118           1.0  \n",
       "2193120           1.0  \n",
       "2414471           1.0  \n",
       "2414472           1.0  "
      ]
     },
     "execution_count": 8,
     "metadata": {},
     "output_type": "execute_result"
    }
   ],
   "source": [
    "print(\"number of duplicates : {}\".format(\n",
    "    sales.duplicated(subset=[\"date\", \"shop_id\", \"item_id\"]).sum()))\n",
    "\n",
    "checksales = sales[sales.duplicated(subset=[\"date\", \"shop_id\", \n",
    "                                            \"item_id\"], keep=False)].copy()\n",
    "\n",
    "checksales.sort_values(by = [\"item_id\",\"shop_id\"])"
   ]
  },
  {
   "cell_type": "markdown",
   "metadata": {},
   "source": [
    "Let's check whether all the duplicate data is required for prediction (appear in test.csv) or not."
   ]
  },
  {
   "cell_type": "code",
   "execution_count": 9,
   "metadata": {},
   "outputs": [
    {
     "data": {
      "text/html": [
       "<div>\n",
       "<style scoped>\n",
       "    .dataframe tbody tr th:only-of-type {\n",
       "        vertical-align: middle;\n",
       "    }\n",
       "\n",
       "    .dataframe tbody tr th {\n",
       "        vertical-align: top;\n",
       "    }\n",
       "\n",
       "    .dataframe thead th {\n",
       "        text-align: right;\n",
       "    }\n",
       "</style>\n",
       "<table border=\"1\" class=\"dataframe\">\n",
       "  <thead>\n",
       "    <tr style=\"text-align: right;\">\n",
       "      <th></th>\n",
       "      <th>date</th>\n",
       "      <th>date_block_num</th>\n",
       "      <th>shop_id</th>\n",
       "      <th>item_id</th>\n",
       "      <th>item_price</th>\n",
       "      <th>item_cnt_day</th>\n",
       "      <th>Required</th>\n",
       "    </tr>\n",
       "  </thead>\n",
       "  <tbody>\n",
       "    <tr>\n",
       "      <th>142262</th>\n",
       "      <td>18.02.2013</td>\n",
       "      <td>1</td>\n",
       "      <td>16</td>\n",
       "      <td>15702</td>\n",
       "      <td>149.00</td>\n",
       "      <td>1.0</td>\n",
       "      <td>True</td>\n",
       "    </tr>\n",
       "    <tr>\n",
       "      <th>142263</th>\n",
       "      <td>18.02.2013</td>\n",
       "      <td>1</td>\n",
       "      <td>16</td>\n",
       "      <td>15702</td>\n",
       "      <td>549.00</td>\n",
       "      <td>1.0</td>\n",
       "      <td>True</td>\n",
       "    </tr>\n",
       "    <tr>\n",
       "      <th>1431756</th>\n",
       "      <td>23.02.2014</td>\n",
       "      <td>13</td>\n",
       "      <td>50</td>\n",
       "      <td>3423</td>\n",
       "      <td>999.00</td>\n",
       "      <td>1.0</td>\n",
       "      <td>True</td>\n",
       "    </tr>\n",
       "    <tr>\n",
       "      <th>1431758</th>\n",
       "      <td>23.02.2014</td>\n",
       "      <td>13</td>\n",
       "      <td>50</td>\n",
       "      <td>3423</td>\n",
       "      <td>999.00</td>\n",
       "      <td>1.0</td>\n",
       "      <td>True</td>\n",
       "    </tr>\n",
       "    <tr>\n",
       "      <th>1492994</th>\n",
       "      <td>23.03.2014</td>\n",
       "      <td>14</td>\n",
       "      <td>21</td>\n",
       "      <td>3423</td>\n",
       "      <td>999.00</td>\n",
       "      <td>1.0</td>\n",
       "      <td>True</td>\n",
       "    </tr>\n",
       "    <tr>\n",
       "      <th>1492995</th>\n",
       "      <td>23.03.2014</td>\n",
       "      <td>14</td>\n",
       "      <td>21</td>\n",
       "      <td>3423</td>\n",
       "      <td>999.00</td>\n",
       "      <td>1.0</td>\n",
       "      <td>True</td>\n",
       "    </tr>\n",
       "    <tr>\n",
       "      <th>1667711</th>\n",
       "      <td>01.05.2014</td>\n",
       "      <td>16</td>\n",
       "      <td>50</td>\n",
       "      <td>3423</td>\n",
       "      <td>999.00</td>\n",
       "      <td>1.0</td>\n",
       "      <td>True</td>\n",
       "    </tr>\n",
       "    <tr>\n",
       "      <th>1667712</th>\n",
       "      <td>01.05.2014</td>\n",
       "      <td>16</td>\n",
       "      <td>50</td>\n",
       "      <td>3423</td>\n",
       "      <td>999.00</td>\n",
       "      <td>1.0</td>\n",
       "      <td>True</td>\n",
       "    </tr>\n",
       "    <tr>\n",
       "      <th>1861693</th>\n",
       "      <td>12.07.2014</td>\n",
       "      <td>18</td>\n",
       "      <td>25</td>\n",
       "      <td>3423</td>\n",
       "      <td>999.00</td>\n",
       "      <td>1.0</td>\n",
       "      <td>True</td>\n",
       "    </tr>\n",
       "    <tr>\n",
       "      <th>1861711</th>\n",
       "      <td>12.07.2014</td>\n",
       "      <td>18</td>\n",
       "      <td>25</td>\n",
       "      <td>3423</td>\n",
       "      <td>999.00</td>\n",
       "      <td>1.0</td>\n",
       "      <td>True</td>\n",
       "    </tr>\n",
       "    <tr>\n",
       "      <th>2193118</th>\n",
       "      <td>31.12.2014</td>\n",
       "      <td>23</td>\n",
       "      <td>42</td>\n",
       "      <td>21619</td>\n",
       "      <td>499.00</td>\n",
       "      <td>1.0</td>\n",
       "      <td>True</td>\n",
       "    </tr>\n",
       "    <tr>\n",
       "      <th>2193120</th>\n",
       "      <td>31.12.2014</td>\n",
       "      <td>23</td>\n",
       "      <td>42</td>\n",
       "      <td>21619</td>\n",
       "      <td>499.00</td>\n",
       "      <td>1.0</td>\n",
       "      <td>True</td>\n",
       "    </tr>\n",
       "    <tr>\n",
       "      <th>2208378</th>\n",
       "      <td>31.12.2014</td>\n",
       "      <td>23</td>\n",
       "      <td>57</td>\n",
       "      <td>8237</td>\n",
       "      <td>99.00</td>\n",
       "      <td>1.0</td>\n",
       "      <td>True</td>\n",
       "    </tr>\n",
       "    <tr>\n",
       "      <th>2208379</th>\n",
       "      <td>31.12.2014</td>\n",
       "      <td>23</td>\n",
       "      <td>57</td>\n",
       "      <td>8237</td>\n",
       "      <td>149.00</td>\n",
       "      <td>1.0</td>\n",
       "      <td>True</td>\n",
       "    </tr>\n",
       "    <tr>\n",
       "      <th>2226136</th>\n",
       "      <td>22.12.2014</td>\n",
       "      <td>23</td>\n",
       "      <td>31</td>\n",
       "      <td>8237</td>\n",
       "      <td>99.00</td>\n",
       "      <td>1.0</td>\n",
       "      <td>True</td>\n",
       "    </tr>\n",
       "    <tr>\n",
       "      <th>2226140</th>\n",
       "      <td>22.12.2014</td>\n",
       "      <td>23</td>\n",
       "      <td>31</td>\n",
       "      <td>8237</td>\n",
       "      <td>149.00</td>\n",
       "      <td>1.0</td>\n",
       "      <td>True</td>\n",
       "    </tr>\n",
       "    <tr>\n",
       "      <th>2266491</th>\n",
       "      <td>26.12.2014</td>\n",
       "      <td>23</td>\n",
       "      <td>17</td>\n",
       "      <td>3424</td>\n",
       "      <td>999.00</td>\n",
       "      <td>2.0</td>\n",
       "      <td>True</td>\n",
       "    </tr>\n",
       "    <tr>\n",
       "      <th>2266492</th>\n",
       "      <td>26.12.2014</td>\n",
       "      <td>23</td>\n",
       "      <td>17</td>\n",
       "      <td>3424</td>\n",
       "      <td>1199.00</td>\n",
       "      <td>1.0</td>\n",
       "      <td>True</td>\n",
       "    </tr>\n",
       "    <tr>\n",
       "      <th>2414471</th>\n",
       "      <td>12.02.2015</td>\n",
       "      <td>25</td>\n",
       "      <td>42</td>\n",
       "      <td>21619</td>\n",
       "      <td>465.05</td>\n",
       "      <td>1.0</td>\n",
       "      <td>True</td>\n",
       "    </tr>\n",
       "    <tr>\n",
       "      <th>2414472</th>\n",
       "      <td>12.02.2015</td>\n",
       "      <td>25</td>\n",
       "      <td>42</td>\n",
       "      <td>21619</td>\n",
       "      <td>499.00</td>\n",
       "      <td>1.0</td>\n",
       "      <td>True</td>\n",
       "    </tr>\n",
       "    <tr>\n",
       "      <th>2902070</th>\n",
       "      <td>07.10.2015</td>\n",
       "      <td>33</td>\n",
       "      <td>12</td>\n",
       "      <td>21619</td>\n",
       "      <td>399.00</td>\n",
       "      <td>1.0</td>\n",
       "      <td>True</td>\n",
       "    </tr>\n",
       "    <tr>\n",
       "      <th>2902071</th>\n",
       "      <td>07.10.2015</td>\n",
       "      <td>33</td>\n",
       "      <td>12</td>\n",
       "      <td>21619</td>\n",
       "      <td>499.00</td>\n",
       "      <td>1.0</td>\n",
       "      <td>True</td>\n",
       "    </tr>\n",
       "  </tbody>\n",
       "</table>\n",
       "</div>"
      ],
      "text/plain": [
       "               date  date_block_num  shop_id  item_id  item_price  \\\n",
       "142262   18.02.2013               1       16    15702      149.00   \n",
       "142263   18.02.2013               1       16    15702      549.00   \n",
       "1431756  23.02.2014              13       50     3423      999.00   \n",
       "1431758  23.02.2014              13       50     3423      999.00   \n",
       "1492994  23.03.2014              14       21     3423      999.00   \n",
       "1492995  23.03.2014              14       21     3423      999.00   \n",
       "1667711  01.05.2014              16       50     3423      999.00   \n",
       "1667712  01.05.2014              16       50     3423      999.00   \n",
       "1861693  12.07.2014              18       25     3423      999.00   \n",
       "1861711  12.07.2014              18       25     3423      999.00   \n",
       "2193118  31.12.2014              23       42    21619      499.00   \n",
       "2193120  31.12.2014              23       42    21619      499.00   \n",
       "2208378  31.12.2014              23       57     8237       99.00   \n",
       "2208379  31.12.2014              23       57     8237      149.00   \n",
       "2226136  22.12.2014              23       31     8237       99.00   \n",
       "2226140  22.12.2014              23       31     8237      149.00   \n",
       "2266491  26.12.2014              23       17     3424      999.00   \n",
       "2266492  26.12.2014              23       17     3424     1199.00   \n",
       "2414471  12.02.2015              25       42    21619      465.05   \n",
       "2414472  12.02.2015              25       42    21619      499.00   \n",
       "2902070  07.10.2015              33       12    21619      399.00   \n",
       "2902071  07.10.2015              33       12    21619      499.00   \n",
       "\n",
       "         item_cnt_day Required  \n",
       "142262            1.0     True  \n",
       "142263            1.0     True  \n",
       "1431756           1.0     True  \n",
       "1431758           1.0     True  \n",
       "1492994           1.0     True  \n",
       "1492995           1.0     True  \n",
       "1667711           1.0     True  \n",
       "1667712           1.0     True  \n",
       "1861693           1.0     True  \n",
       "1861711           1.0     True  \n",
       "2193118           1.0     True  \n",
       "2193120           1.0     True  \n",
       "2208378           1.0     True  \n",
       "2208379           1.0     True  \n",
       "2226136           1.0     True  \n",
       "2226140           1.0     True  \n",
       "2266491           2.0     True  \n",
       "2266492           1.0     True  \n",
       "2414471           1.0     True  \n",
       "2414472           1.0     True  \n",
       "2902070           1.0     True  \n",
       "2902071           1.0     True  "
      ]
     },
     "execution_count": 9,
     "metadata": {},
     "output_type": "execute_result"
    }
   ],
   "source": [
    "testUniID = list(test.item_id.unique())\n",
    "\n",
    "for idx in checksales.index:\n",
    "    id = checksales.loc[idx, \"item_id\"]\n",
    "    checksales.loc[idx, \"Required\"] = id in testUniID\n",
    "\n",
    "#checksales[checksales.Required == False]\n",
    "checksales"
   ]
  },
  {
   "cell_type": "markdown",
   "metadata": {},
   "source": [
    "The difference betweeen the duplicate data is not far so we will keep the duplicate data."
   ]
  },
  {
   "cell_type": "markdown",
   "metadata": {},
   "source": [
    "Let's check on the date format"
   ]
  },
  {
   "cell_type": "code",
   "execution_count": 10,
   "metadata": {},
   "outputs": [
    {
     "data": {
      "text/plain": [
       "count        1442564\n",
       "unique          1034\n",
       "top       30.12.2014\n",
       "freq            6796\n",
       "Name: date, dtype: object"
      ]
     },
     "execution_count": 10,
     "metadata": {},
     "output_type": "execute_result"
    }
   ],
   "source": [
    "sales.date.describe()"
   ]
  },
  {
   "cell_type": "markdown",
   "metadata": {},
   "source": [
    "Let's convert the date to correct format"
   ]
  },
  {
   "cell_type": "code",
   "execution_count": 11,
   "metadata": {},
   "outputs": [
    {
     "data": {
      "text/plain": [
       "count                 1442564\n",
       "unique                   1034\n",
       "top       2014-12-30 00:00:00\n",
       "freq                     6796\n",
       "first     2013-01-01 00:00:00\n",
       "last      2015-12-10 00:00:00\n",
       "Name: date, dtype: object"
      ]
     },
     "execution_count": 11,
     "metadata": {},
     "output_type": "execute_result"
    }
   ],
   "source": [
    "sales['date'] = pd.to_datetime(sales['date'])\n",
    "\n",
    "sales.date.describe()"
   ]
  },
  {
   "cell_type": "markdown",
   "metadata": {},
   "source": [
    "The data is now in time stamp format"
   ]
  },
  {
   "cell_type": "markdown",
   "metadata": {},
   "source": [
    "**1.1.2 Items**"
   ]
  },
  {
   "cell_type": "code",
   "execution_count": 12,
   "metadata": {},
   "outputs": [
    {
     "name": "stdout",
     "output_type": "stream",
     "text": [
      "\n",
      "Total Number of rows for items data frame: 22170\n",
      "\n"
     ]
    },
    {
     "data": {
      "text/html": [
       "<div>\n",
       "<style scoped>\n",
       "    .dataframe tbody tr th:only-of-type {\n",
       "        vertical-align: middle;\n",
       "    }\n",
       "\n",
       "    .dataframe tbody tr th {\n",
       "        vertical-align: top;\n",
       "    }\n",
       "\n",
       "    .dataframe thead th {\n",
       "        text-align: right;\n",
       "    }\n",
       "</style>\n",
       "<table border=\"1\" class=\"dataframe\">\n",
       "  <thead>\n",
       "    <tr style=\"text-align: right;\">\n",
       "      <th></th>\n",
       "      <th>item_name</th>\n",
       "      <th>item_id</th>\n",
       "      <th>item_category_id</th>\n",
       "      <th>Required</th>\n",
       "    </tr>\n",
       "  </thead>\n",
       "  <tbody>\n",
       "    <tr>\n",
       "      <th>0</th>\n",
       "      <td>! ВО ВЛАСТИ НАВАЖДЕНИЯ (ПЛАСТ.)         D</td>\n",
       "      <td>0</td>\n",
       "      <td>40</td>\n",
       "      <td>False</td>\n",
       "    </tr>\n",
       "    <tr>\n",
       "      <th>1</th>\n",
       "      <td>!ABBYY FineReader 12 Professional Edition Full...</td>\n",
       "      <td>1</td>\n",
       "      <td>76</td>\n",
       "      <td>False</td>\n",
       "    </tr>\n",
       "    <tr>\n",
       "      <th>2</th>\n",
       "      <td>***В ЛУЧАХ СЛАВЫ   (UNV)                    D</td>\n",
       "      <td>2</td>\n",
       "      <td>40</td>\n",
       "      <td>False</td>\n",
       "    </tr>\n",
       "    <tr>\n",
       "      <th>3</th>\n",
       "      <td>***ГОЛУБАЯ ВОЛНА  (Univ)                      D</td>\n",
       "      <td>3</td>\n",
       "      <td>40</td>\n",
       "      <td>False</td>\n",
       "    </tr>\n",
       "    <tr>\n",
       "      <th>4</th>\n",
       "      <td>***КОРОБКА (СТЕКЛО)                       D</td>\n",
       "      <td>4</td>\n",
       "      <td>40</td>\n",
       "      <td>False</td>\n",
       "    </tr>\n",
       "  </tbody>\n",
       "</table>\n",
       "</div>"
      ],
      "text/plain": [
       "                                           item_name  item_id  \\\n",
       "0          ! ВО ВЛАСТИ НАВАЖДЕНИЯ (ПЛАСТ.)         D        0   \n",
       "1  !ABBYY FineReader 12 Professional Edition Full...        1   \n",
       "2      ***В ЛУЧАХ СЛАВЫ   (UNV)                    D        2   \n",
       "3    ***ГОЛУБАЯ ВОЛНА  (Univ)                      D        3   \n",
       "4        ***КОРОБКА (СТЕКЛО)                       D        4   \n",
       "\n",
       "   item_category_id Required  \n",
       "0                40    False  \n",
       "1                76    False  \n",
       "2                40    False  \n",
       "3                40    False  \n",
       "4                40    False  "
      ]
     },
     "execution_count": 12,
     "metadata": {},
     "output_type": "execute_result"
    }
   ],
   "source": [
    "print()\n",
    "print(\"Total Number of rows for items data frame: {}\".format(len(items)))\n",
    "print()\n",
    "items.head()"
   ]
  },
  {
   "cell_type": "code",
   "execution_count": 13,
   "metadata": {},
   "outputs": [
    {
     "name": "stdout",
     "output_type": "stream",
     "text": [
      "<class 'pandas.core.frame.DataFrame'>\n",
      "RangeIndex: 22170 entries, 0 to 22169\n",
      "Data columns (total 4 columns):\n",
      " #   Column            Non-Null Count  Dtype \n",
      "---  ------            --------------  ----- \n",
      " 0   item_name         22170 non-null  object\n",
      " 1   item_id           22170 non-null  int64 \n",
      " 2   item_category_id  22170 non-null  int64 \n",
      " 3   Required          22170 non-null  object\n",
      "dtypes: int64(2), object(2)\n",
      "memory usage: 692.9+ KB\n"
     ]
    }
   ],
   "source": [
    "items.info()"
   ]
  },
  {
   "cell_type": "markdown",
   "metadata": {},
   "source": [
    "Let's check on the item_name for Russian Name. The item_name duplication will also\n",
    "exclude item_name that are duplicate but different category. "
   ]
  },
  {
   "cell_type": "code",
   "execution_count": 14,
   "metadata": {},
   "outputs": [
    {
     "data": {
      "text/html": [
       "<div>\n",
       "<style scoped>\n",
       "    .dataframe tbody tr th:only-of-type {\n",
       "        vertical-align: middle;\n",
       "    }\n",
       "\n",
       "    .dataframe tbody tr th {\n",
       "        vertical-align: top;\n",
       "    }\n",
       "\n",
       "    .dataframe thead th {\n",
       "        text-align: right;\n",
       "    }\n",
       "</style>\n",
       "<table border=\"1\" class=\"dataframe\">\n",
       "  <thead>\n",
       "    <tr style=\"text-align: right;\">\n",
       "      <th></th>\n",
       "      <th>item_name</th>\n",
       "      <th>item_id</th>\n",
       "      <th>item_category_id</th>\n",
       "      <th>Required</th>\n",
       "    </tr>\n",
       "  </thead>\n",
       "  <tbody>\n",
       "  </tbody>\n",
       "</table>\n",
       "</div>"
      ],
      "text/plain": [
       "Empty DataFrame\n",
       "Columns: [item_name, item_id, item_category_id, Required]\n",
       "Index: []"
      ]
     },
     "execution_count": 14,
     "metadata": {},
     "output_type": "execute_result"
    }
   ],
   "source": [
    "checkitems = items[items.duplicated(\n",
    "    subset=[\"item_name\", \"item_category_id\"], keep=False)].copy()\n",
    "\n",
    "checkitems"
   ]
  },
  {
   "cell_type": "markdown",
   "metadata": {},
   "source": [
    "No duplication found for Russian item_name"
   ]
  },
  {
   "cell_type": "markdown",
   "metadata": {},
   "source": [
    "**1.1.3 Categories**"
   ]
  },
  {
   "cell_type": "code",
   "execution_count": 15,
   "metadata": {},
   "outputs": [
    {
     "name": "stdout",
     "output_type": "stream",
     "text": [
      "\n",
      "Total Number of rows for categories data frame: 84\n",
      "\n"
     ]
    },
    {
     "data": {
      "text/html": [
       "<div>\n",
       "<style scoped>\n",
       "    .dataframe tbody tr th:only-of-type {\n",
       "        vertical-align: middle;\n",
       "    }\n",
       "\n",
       "    .dataframe tbody tr th {\n",
       "        vertical-align: top;\n",
       "    }\n",
       "\n",
       "    .dataframe thead th {\n",
       "        text-align: right;\n",
       "    }\n",
       "</style>\n",
       "<table border=\"1\" class=\"dataframe\">\n",
       "  <thead>\n",
       "    <tr style=\"text-align: right;\">\n",
       "      <th></th>\n",
       "      <th>item_category_name</th>\n",
       "      <th>item_category_id</th>\n",
       "    </tr>\n",
       "  </thead>\n",
       "  <tbody>\n",
       "    <tr>\n",
       "      <th>0</th>\n",
       "      <td>PC - Гарнитуры/Наушники</td>\n",
       "      <td>0</td>\n",
       "    </tr>\n",
       "    <tr>\n",
       "      <th>1</th>\n",
       "      <td>Аксессуары - PS2</td>\n",
       "      <td>1</td>\n",
       "    </tr>\n",
       "    <tr>\n",
       "      <th>2</th>\n",
       "      <td>Аксессуары - PS3</td>\n",
       "      <td>2</td>\n",
       "    </tr>\n",
       "    <tr>\n",
       "      <th>3</th>\n",
       "      <td>Аксессуары - PS4</td>\n",
       "      <td>3</td>\n",
       "    </tr>\n",
       "    <tr>\n",
       "      <th>4</th>\n",
       "      <td>Аксессуары - PSP</td>\n",
       "      <td>4</td>\n",
       "    </tr>\n",
       "  </tbody>\n",
       "</table>\n",
       "</div>"
      ],
      "text/plain": [
       "        item_category_name  item_category_id\n",
       "0  PC - Гарнитуры/Наушники                 0\n",
       "1         Аксессуары - PS2                 1\n",
       "2         Аксессуары - PS3                 2\n",
       "3         Аксессуары - PS4                 3\n",
       "4         Аксессуары - PSP                 4"
      ]
     },
     "execution_count": 15,
     "metadata": {},
     "output_type": "execute_result"
    }
   ],
   "source": [
    "print()\n",
    "print(\"Total Number of rows for categories data frame: {}\".format(len(categories))) \n",
    "print()\n",
    "categories.head()"
   ]
  },
  {
   "cell_type": "code",
   "execution_count": 16,
   "metadata": {},
   "outputs": [
    {
     "name": "stdout",
     "output_type": "stream",
     "text": [
      "<class 'pandas.core.frame.DataFrame'>\n",
      "RangeIndex: 84 entries, 0 to 83\n",
      "Data columns (total 2 columns):\n",
      " #   Column              Non-Null Count  Dtype \n",
      "---  ------              --------------  ----- \n",
      " 0   item_category_name  84 non-null     object\n",
      " 1   item_category_id    84 non-null     int64 \n",
      "dtypes: int64(1), object(1)\n",
      "memory usage: 1.4+ KB\n"
     ]
    }
   ],
   "source": [
    "categories.info()"
   ]
  },
  {
   "cell_type": "markdown",
   "metadata": {},
   "source": [
    "Let's check duplicates on the categories name"
   ]
  },
  {
   "cell_type": "code",
   "execution_count": 17,
   "metadata": {},
   "outputs": [
    {
     "name": "stdout",
     "output_type": "stream",
     "text": [
      "number of duplicates : 0\n"
     ]
    }
   ],
   "source": [
    "print(\"number of duplicates : {}\".format(\n",
    "    categories.duplicated(subset=[\"item_category_name\"]).sum()))"
   ]
  },
  {
   "cell_type": "markdown",
   "metadata": {},
   "source": [
    "**1.1.4 Shops**"
   ]
  },
  {
   "cell_type": "code",
   "execution_count": 18,
   "metadata": {},
   "outputs": [
    {
     "name": "stdout",
     "output_type": "stream",
     "text": [
      "\n",
      "Number of rows for sales data frame : 60\n"
     ]
    },
    {
     "data": {
      "text/html": [
       "<div>\n",
       "<style scoped>\n",
       "    .dataframe tbody tr th:only-of-type {\n",
       "        vertical-align: middle;\n",
       "    }\n",
       "\n",
       "    .dataframe tbody tr th {\n",
       "        vertical-align: top;\n",
       "    }\n",
       "\n",
       "    .dataframe thead th {\n",
       "        text-align: right;\n",
       "    }\n",
       "</style>\n",
       "<table border=\"1\" class=\"dataframe\">\n",
       "  <thead>\n",
       "    <tr style=\"text-align: right;\">\n",
       "      <th></th>\n",
       "      <th>shop_name</th>\n",
       "      <th>shop_id</th>\n",
       "    </tr>\n",
       "  </thead>\n",
       "  <tbody>\n",
       "    <tr>\n",
       "      <th>0</th>\n",
       "      <td>!Якутск Орджоникидзе, 56 фран</td>\n",
       "      <td>0</td>\n",
       "    </tr>\n",
       "    <tr>\n",
       "      <th>1</th>\n",
       "      <td>!Якутск ТЦ \"Центральный\" фран</td>\n",
       "      <td>1</td>\n",
       "    </tr>\n",
       "    <tr>\n",
       "      <th>2</th>\n",
       "      <td>Адыгея ТЦ \"Мега\"</td>\n",
       "      <td>2</td>\n",
       "    </tr>\n",
       "    <tr>\n",
       "      <th>3</th>\n",
       "      <td>Балашиха ТРК \"Октябрь-Киномир\"</td>\n",
       "      <td>3</td>\n",
       "    </tr>\n",
       "    <tr>\n",
       "      <th>4</th>\n",
       "      <td>Волжский ТЦ \"Волга Молл\"</td>\n",
       "      <td>4</td>\n",
       "    </tr>\n",
       "  </tbody>\n",
       "</table>\n",
       "</div>"
      ],
      "text/plain": [
       "                        shop_name  shop_id\n",
       "0   !Якутск Орджоникидзе, 56 фран        0\n",
       "1   !Якутск ТЦ \"Центральный\" фран        1\n",
       "2                Адыгея ТЦ \"Мега\"        2\n",
       "3  Балашиха ТРК \"Октябрь-Киномир\"        3\n",
       "4        Волжский ТЦ \"Волга Молл\"        4"
      ]
     },
     "execution_count": 18,
     "metadata": {},
     "output_type": "execute_result"
    }
   ],
   "source": [
    "print()\n",
    "print(\"Number of rows for sales data frame : {:,.0f}\".format(len(shops)))\n",
    "shops.head()"
   ]
  },
  {
   "cell_type": "code",
   "execution_count": 19,
   "metadata": {},
   "outputs": [
    {
     "name": "stdout",
     "output_type": "stream",
     "text": [
      "<class 'pandas.core.frame.DataFrame'>\n",
      "RangeIndex: 60 entries, 0 to 59\n",
      "Data columns (total 2 columns):\n",
      " #   Column     Non-Null Count  Dtype \n",
      "---  ------     --------------  ----- \n",
      " 0   shop_name  60 non-null     object\n",
      " 1   shop_id    60 non-null     int64 \n",
      "dtypes: int64(1), object(1)\n",
      "memory usage: 1.1+ KB\n"
     ]
    }
   ],
   "source": [
    "shops.info()"
   ]
  },
  {
   "cell_type": "markdown",
   "metadata": {},
   "source": [
    "<br>\n",
    "Let's check duplicaton for shops\n",
    "<br><br>"
   ]
  },
  {
   "cell_type": "code",
   "execution_count": 20,
   "metadata": {},
   "outputs": [
    {
     "name": "stdout",
     "output_type": "stream",
     "text": [
      "number of duplicates : 0\n"
     ]
    }
   ],
   "source": [
    "print(\"number of duplicates : {}\".format(shops.duplicated().sum()))"
   ]
  },
  {
   "cell_type": "markdown",
   "metadata": {},
   "source": [
    "### 1.2 Check Key Figure values"
   ]
  },
  {
   "cell_type": "markdown",
   "metadata": {},
   "source": [
    "**1.2.1 Normalise all data for further analysis**"
   ]
  },
  {
   "cell_type": "code",
   "execution_count": 21,
   "metadata": {},
   "outputs": [
    {
     "data": {
      "text/html": [
       "<div>\n",
       "<style scoped>\n",
       "    .dataframe tbody tr th:only-of-type {\n",
       "        vertical-align: middle;\n",
       "    }\n",
       "\n",
       "    .dataframe tbody tr th {\n",
       "        vertical-align: top;\n",
       "    }\n",
       "\n",
       "    .dataframe thead th {\n",
       "        text-align: right;\n",
       "    }\n",
       "</style>\n",
       "<table border=\"1\" class=\"dataframe\">\n",
       "  <thead>\n",
       "    <tr style=\"text-align: right;\">\n",
       "      <th></th>\n",
       "      <th>date</th>\n",
       "      <th>date_block_num</th>\n",
       "      <th>shop_id</th>\n",
       "      <th>item_id</th>\n",
       "      <th>item_price</th>\n",
       "      <th>item_cnt_day</th>\n",
       "      <th>shop_name</th>\n",
       "      <th>item_name</th>\n",
       "      <th>item_category_id</th>\n",
       "      <th>Required</th>\n",
       "      <th>item_category_name</th>\n",
       "    </tr>\n",
       "  </thead>\n",
       "  <tbody>\n",
       "    <tr>\n",
       "      <th>0</th>\n",
       "      <td>2013-02-01</td>\n",
       "      <td>0</td>\n",
       "      <td>59</td>\n",
       "      <td>22154</td>\n",
       "      <td>999.0</td>\n",
       "      <td>1.0</td>\n",
       "      <td>Ярославль ТЦ \"Альтаир\"</td>\n",
       "      <td>ЯВЛЕНИЕ 2012 (BD)</td>\n",
       "      <td>37</td>\n",
       "      <td>True</td>\n",
       "      <td>Кино - Blu-Ray</td>\n",
       "    </tr>\n",
       "    <tr>\n",
       "      <th>1</th>\n",
       "      <td>2013-03-01</td>\n",
       "      <td>0</td>\n",
       "      <td>25</td>\n",
       "      <td>2574</td>\n",
       "      <td>399.0</td>\n",
       "      <td>2.0</td>\n",
       "      <td>Москва ТРК \"Атриум\"</td>\n",
       "      <td>DEL REY LANA  Born To Die  The Paradise Editio...</td>\n",
       "      <td>55</td>\n",
       "      <td>True</td>\n",
       "      <td>Музыка - CD локального производства</td>\n",
       "    </tr>\n",
       "    <tr>\n",
       "      <th>2</th>\n",
       "      <td>2013-05-01</td>\n",
       "      <td>0</td>\n",
       "      <td>25</td>\n",
       "      <td>2574</td>\n",
       "      <td>399.0</td>\n",
       "      <td>1.0</td>\n",
       "      <td>Москва ТРК \"Атриум\"</td>\n",
       "      <td>DEL REY LANA  Born To Die  The Paradise Editio...</td>\n",
       "      <td>55</td>\n",
       "      <td>True</td>\n",
       "      <td>Музыка - CD локального производства</td>\n",
       "    </tr>\n",
       "    <tr>\n",
       "      <th>3</th>\n",
       "      <td>2013-07-01</td>\n",
       "      <td>0</td>\n",
       "      <td>25</td>\n",
       "      <td>2574</td>\n",
       "      <td>399.0</td>\n",
       "      <td>1.0</td>\n",
       "      <td>Москва ТРК \"Атриум\"</td>\n",
       "      <td>DEL REY LANA  Born To Die  The Paradise Editio...</td>\n",
       "      <td>55</td>\n",
       "      <td>True</td>\n",
       "      <td>Музыка - CD локального производства</td>\n",
       "    </tr>\n",
       "    <tr>\n",
       "      <th>4</th>\n",
       "      <td>2013-08-01</td>\n",
       "      <td>0</td>\n",
       "      <td>25</td>\n",
       "      <td>2574</td>\n",
       "      <td>399.0</td>\n",
       "      <td>2.0</td>\n",
       "      <td>Москва ТРК \"Атриум\"</td>\n",
       "      <td>DEL REY LANA  Born To Die  The Paradise Editio...</td>\n",
       "      <td>55</td>\n",
       "      <td>True</td>\n",
       "      <td>Музыка - CD локального производства</td>\n",
       "    </tr>\n",
       "  </tbody>\n",
       "</table>\n",
       "</div>"
      ],
      "text/plain": [
       "        date  date_block_num  shop_id  item_id  item_price  item_cnt_day  \\\n",
       "0 2013-02-01               0       59    22154       999.0           1.0   \n",
       "1 2013-03-01               0       25     2574       399.0           2.0   \n",
       "2 2013-05-01               0       25     2574       399.0           1.0   \n",
       "3 2013-07-01               0       25     2574       399.0           1.0   \n",
       "4 2013-08-01               0       25     2574       399.0           2.0   \n",
       "\n",
       "                shop_name                                          item_name  \\\n",
       "0  Ярославль ТЦ \"Альтаир\"                                  ЯВЛЕНИЕ 2012 (BD)   \n",
       "1     Москва ТРК \"Атриум\"  DEL REY LANA  Born To Die  The Paradise Editio...   \n",
       "2     Москва ТРК \"Атриум\"  DEL REY LANA  Born To Die  The Paradise Editio...   \n",
       "3     Москва ТРК \"Атриум\"  DEL REY LANA  Born To Die  The Paradise Editio...   \n",
       "4     Москва ТРК \"Атриум\"  DEL REY LANA  Born To Die  The Paradise Editio...   \n",
       "\n",
       "   item_category_id Required                   item_category_name  \n",
       "0                37     True                       Кино - Blu-Ray  \n",
       "1                55     True  Музыка - CD локального производства  \n",
       "2                55     True  Музыка - CD локального производства  \n",
       "3                55     True  Музыка - CD локального производства  \n",
       "4                55     True  Музыка - CD локального производства  "
      ]
     },
     "execution_count": 21,
     "metadata": {},
     "output_type": "execute_result"
    }
   ],
   "source": [
    "normData = sales.merge(shops, how=\"left\", on=\"shop_id\")\n",
    "normData = normData.merge(items, how=\"left\", on=\"item_id\")\n",
    "normData = normData.merge(categories, how=\"left\", on=\"item_category_id\")\n",
    "normData.head()"
   ]
  },
  {
   "cell_type": "code",
   "execution_count": 22,
   "metadata": {},
   "outputs": [
    {
     "name": "stdout",
     "output_type": "stream",
     "text": [
      "<class 'pandas.core.frame.DataFrame'>\n",
      "Int64Index: 1442564 entries, 0 to 1442563\n",
      "Data columns (total 11 columns):\n",
      " #   Column              Non-Null Count    Dtype         \n",
      "---  ------              --------------    -----         \n",
      " 0   date                1442564 non-null  datetime64[ns]\n",
      " 1   date_block_num      1442564 non-null  int64         \n",
      " 2   shop_id             1442564 non-null  int64         \n",
      " 3   item_id             1442564 non-null  int64         \n",
      " 4   item_price          1442564 non-null  float64       \n",
      " 5   item_cnt_day        1442564 non-null  float64       \n",
      " 6   shop_name           1442564 non-null  object        \n",
      " 7   item_name           1442564 non-null  object        \n",
      " 8   item_category_id    1442564 non-null  int64         \n",
      " 9   Required            1442564 non-null  object        \n",
      " 10  item_category_name  1442564 non-null  object        \n",
      "dtypes: datetime64[ns](1), float64(2), int64(4), object(4)\n",
      "memory usage: 132.1+ MB\n"
     ]
    }
   ],
   "source": [
    "normData.info()"
   ]
  },
  {
   "cell_type": "markdown",
   "metadata": {},
   "source": [
    "Check for null value"
   ]
  },
  {
   "cell_type": "code",
   "execution_count": 23,
   "metadata": {},
   "outputs": [
    {
     "data": {
      "text/plain": [
       "date                  0\n",
       "date_block_num        0\n",
       "shop_id               0\n",
       "item_id               0\n",
       "item_price            0\n",
       "item_cnt_day          0\n",
       "shop_name             0\n",
       "item_name             0\n",
       "item_category_id      0\n",
       "Required              0\n",
       "item_category_name    0\n",
       "dtype: int64"
      ]
     },
     "execution_count": 23,
     "metadata": {},
     "output_type": "execute_result"
    }
   ],
   "source": [
    "# Check whether there is null value or not\n",
    "normData.isna().sum()"
   ]
  },
  {
   "cell_type": "markdown",
   "metadata": {},
   "source": [
    "**1.2.2 Check Key Figure Values**"
   ]
  },
  {
   "cell_type": "markdown",
   "metadata": {},
   "source": [
    "Let's have a general look on all the key figure."
   ]
  },
  {
   "cell_type": "code",
   "execution_count": 24,
   "metadata": {},
   "outputs": [
    {
     "data": {
      "text/html": [
       "<div>\n",
       "<style scoped>\n",
       "    .dataframe tbody tr th:only-of-type {\n",
       "        vertical-align: middle;\n",
       "    }\n",
       "\n",
       "    .dataframe tbody tr th {\n",
       "        vertical-align: top;\n",
       "    }\n",
       "\n",
       "    .dataframe thead th {\n",
       "        text-align: right;\n",
       "    }\n",
       "</style>\n",
       "<table border=\"1\" class=\"dataframe\">\n",
       "  <thead>\n",
       "    <tr style=\"text-align: right;\">\n",
       "      <th></th>\n",
       "      <th>date_block_num</th>\n",
       "      <th>shop_id</th>\n",
       "      <th>item_id</th>\n",
       "      <th>item_price</th>\n",
       "      <th>item_cnt_day</th>\n",
       "      <th>item_category_id</th>\n",
       "    </tr>\n",
       "  </thead>\n",
       "  <tbody>\n",
       "    <tr>\n",
       "      <th>count</th>\n",
       "      <td>1.442564e+06</td>\n",
       "      <td>1.442564e+06</td>\n",
       "      <td>1.442564e+06</td>\n",
       "      <td>1.442564e+06</td>\n",
       "      <td>1.442564e+06</td>\n",
       "      <td>1.442564e+06</td>\n",
       "    </tr>\n",
       "    <tr>\n",
       "      <th>mean</th>\n",
       "      <td>1.879477e+01</td>\n",
       "      <td>3.279293e+01</td>\n",
       "      <td>9.650329e+03</td>\n",
       "      <td>1.020788e+03</td>\n",
       "      <td>1.335614e+00</td>\n",
       "      <td>4.074066e+01</td>\n",
       "    </tr>\n",
       "    <tr>\n",
       "      <th>std</th>\n",
       "      <td>9.083670e+00</td>\n",
       "      <td>1.616813e+01</td>\n",
       "      <td>6.305674e+03</td>\n",
       "      <td>1.805546e+03</td>\n",
       "      <td>3.191628e+00</td>\n",
       "      <td>1.863186e+01</td>\n",
       "    </tr>\n",
       "    <tr>\n",
       "      <th>min</th>\n",
       "      <td>0.000000e+00</td>\n",
       "      <td>0.000000e+00</td>\n",
       "      <td>3.000000e+01</td>\n",
       "      <td>5.000000e-01</td>\n",
       "      <td>1.000000e+00</td>\n",
       "      <td>2.000000e+00</td>\n",
       "    </tr>\n",
       "    <tr>\n",
       "      <th>25%</th>\n",
       "      <td>1.200000e+01</td>\n",
       "      <td>2.200000e+01</td>\n",
       "      <td>4.181000e+03</td>\n",
       "      <td>2.990000e+02</td>\n",
       "      <td>1.000000e+00</td>\n",
       "      <td>2.800000e+01</td>\n",
       "    </tr>\n",
       "    <tr>\n",
       "      <th>50%</th>\n",
       "      <td>2.000000e+01</td>\n",
       "      <td>3.100000e+01</td>\n",
       "      <td>7.856000e+03</td>\n",
       "      <td>5.490000e+02</td>\n",
       "      <td>1.000000e+00</td>\n",
       "      <td>4.000000e+01</td>\n",
       "    </tr>\n",
       "    <tr>\n",
       "      <th>75%</th>\n",
       "      <td>2.600000e+01</td>\n",
       "      <td>4.700000e+01</td>\n",
       "      <td>1.525700e+04</td>\n",
       "      <td>1.199000e+03</td>\n",
       "      <td>1.000000e+00</td>\n",
       "      <td>5.500000e+01</td>\n",
       "    </tr>\n",
       "    <tr>\n",
       "      <th>max</th>\n",
       "      <td>3.300000e+01</td>\n",
       "      <td>5.900000e+01</td>\n",
       "      <td>2.216700e+04</td>\n",
       "      <td>5.920000e+04</td>\n",
       "      <td>2.169000e+03</td>\n",
       "      <td>8.300000e+01</td>\n",
       "    </tr>\n",
       "  </tbody>\n",
       "</table>\n",
       "</div>"
      ],
      "text/plain": [
       "       date_block_num       shop_id       item_id    item_price  item_cnt_day  \\\n",
       "count    1.442564e+06  1.442564e+06  1.442564e+06  1.442564e+06  1.442564e+06   \n",
       "mean     1.879477e+01  3.279293e+01  9.650329e+03  1.020788e+03  1.335614e+00   \n",
       "std      9.083670e+00  1.616813e+01  6.305674e+03  1.805546e+03  3.191628e+00   \n",
       "min      0.000000e+00  0.000000e+00  3.000000e+01  5.000000e-01  1.000000e+00   \n",
       "25%      1.200000e+01  2.200000e+01  4.181000e+03  2.990000e+02  1.000000e+00   \n",
       "50%      2.000000e+01  3.100000e+01  7.856000e+03  5.490000e+02  1.000000e+00   \n",
       "75%      2.600000e+01  4.700000e+01  1.525700e+04  1.199000e+03  1.000000e+00   \n",
       "max      3.300000e+01  5.900000e+01  2.216700e+04  5.920000e+04  2.169000e+03   \n",
       "\n",
       "       item_category_id  \n",
       "count      1.442564e+06  \n",
       "mean       4.074066e+01  \n",
       "std        1.863186e+01  \n",
       "min        2.000000e+00  \n",
       "25%        2.800000e+01  \n",
       "50%        4.000000e+01  \n",
       "75%        5.500000e+01  \n",
       "max        8.300000e+01  "
      ]
     },
     "execution_count": 24,
     "metadata": {},
     "output_type": "execute_result"
    }
   ],
   "source": [
    "normData.describe()"
   ]
  },
  {
   "cell_type": "markdown",
   "metadata": {},
   "source": [
    "**1.2.3 Check item_price**"
   ]
  },
  {
   "cell_type": "markdown",
   "metadata": {},
   "source": [
    "****Note: This section will be impacted/will not able to show intended result by setting the remove parameter.**<br>\n",
    "**Set all remove parameter to False to correct data**"
   ]
  },
  {
   "cell_type": "code",
   "execution_count": 25,
   "metadata": {},
   "outputs": [
    {
     "data": {
      "text/plain": [
       "count    1.442564e+06\n",
       "mean     1.020788e+03\n",
       "std      1.805546e+03\n",
       "min      5.000000e-01\n",
       "25%      2.990000e+02\n",
       "50%      5.490000e+02\n",
       "75%      1.199000e+03\n",
       "max      5.920000e+04\n",
       "Name: item_price, dtype: float64"
      ]
     },
     "execution_count": 25,
     "metadata": {},
     "output_type": "execute_result"
    }
   ],
   "source": [
    "normData.item_price.describe()"
   ]
  },
  {
   "cell_type": "markdown",
   "metadata": {},
   "source": [
    "Let's put the item_pricing into a box plot"
   ]
  },
  {
   "cell_type": "code",
   "execution_count": 26,
   "metadata": {},
   "outputs": [
    {
     "data": {
      "image/png": "[encoded data removed]",
      "text/plain": [
       "<Figure size 1440x576 with 1 Axes>"
      ]
     },
     "metadata": {
      "needs_background": "light"
     },
     "output_type": "display_data"
    }
   ],
   "source": [
    "fig = plt.figure(figsize=(20, 8))\n",
    "ax = plt.axes()\n",
    "fig.suptitle(\"Item Prices box plot\")\n",
    "sns.boxplot(x=normData.item_price, ax=ax)\n",
    "plt.show()"
   ]
  },
  {
   "cell_type": "markdown",
   "metadata": {},
   "source": [
    "It seems that there is a extreme outlier and let's look further into the extreme outlier.\n",
    "\n",
    "The sales_price is higher than 300000. "
   ]
  },
  {
   "cell_type": "code",
   "execution_count": 27,
   "metadata": {},
   "outputs": [
    {
     "data": {
      "text/html": [
       "<div>\n",
       "<style scoped>\n",
       "    .dataframe tbody tr th:only-of-type {\n",
       "        vertical-align: middle;\n",
       "    }\n",
       "\n",
       "    .dataframe tbody tr th {\n",
       "        vertical-align: top;\n",
       "    }\n",
       "\n",
       "    .dataframe thead th {\n",
       "        text-align: right;\n",
       "    }\n",
       "</style>\n",
       "<table border=\"1\" class=\"dataframe\">\n",
       "  <thead>\n",
       "    <tr style=\"text-align: right;\">\n",
       "      <th></th>\n",
       "      <th>date</th>\n",
       "      <th>date_block_num</th>\n",
       "      <th>shop_id</th>\n",
       "      <th>item_id</th>\n",
       "      <th>item_price</th>\n",
       "      <th>item_cnt_day</th>\n",
       "      <th>shop_name</th>\n",
       "      <th>item_name</th>\n",
       "      <th>item_category_id</th>\n",
       "      <th>Required</th>\n",
       "      <th>item_category_name</th>\n",
       "    </tr>\n",
       "  </thead>\n",
       "  <tbody>\n",
       "  </tbody>\n",
       "</table>\n",
       "</div>"
      ],
      "text/plain": [
       "Empty DataFrame\n",
       "Columns: [date, date_block_num, shop_id, item_id, item_price, item_cnt_day, shop_name, item_name, item_category_id, Required, item_category_name]\n",
       "Index: []"
      ]
     },
     "execution_count": 27,
     "metadata": {},
     "output_type": "execute_result"
    }
   ],
   "source": [
    "normData[normData.item_price >= 300000]"
   ]
  },
  {
   "cell_type": "markdown",
   "metadata": {},
   "source": [
    "Note: the result above will be empty if the remove parameter is set. "
   ]
  },
  {
   "cell_type": "markdown",
   "metadata": {},
   "source": [
    "It appears that there is only 1 item for item_price >= 300000. Let's check how many 6066 item_id in the data set. "
   ]
  },
  {
   "cell_type": "code",
   "execution_count": 28,
   "metadata": {},
   "outputs": [
    {
     "name": "stdout",
     "output_type": "stream",
     "text": [
      "Number of record with item_id 6066: 0\n"
     ]
    }
   ],
   "source": [
    "print(\"Number of record with item_id 6066: {}\".format(len(normData[normData.item_id == 6066])))"
   ]
  },
  {
   "cell_type": "markdown",
   "metadata": {},
   "source": [
    "Only 1 record therefore we can definately delete the outlier. "
   ]
  },
  {
   "cell_type": "code",
   "execution_count": 29,
   "metadata": {},
   "outputs": [],
   "source": [
    "normData = normData[normData.item_price < 300000]"
   ]
  },
  {
   "cell_type": "code",
   "execution_count": 30,
   "metadata": {},
   "outputs": [
    {
     "data": {
      "image/png": "[encoded data removed]",
      "text/plain": [
       "<Figure size 1440x576 with 1 Axes>"
      ]
     },
     "metadata": {
      "needs_background": "light"
     },
     "output_type": "display_data"
    }
   ],
   "source": [
    "fig = plt.figure(figsize=(20, 8))\n",
    "ax = plt.axes()\n",
    "fig.suptitle(\"Item Prices\")\n",
    "sns.boxplot(x=normData.item_price, ax=ax)\n",
    "plt.show()"
   ]
  },
  {
   "cell_type": "markdown",
   "metadata": {},
   "source": [
    "**1.2.4 Check item count**"
   ]
  },
  {
   "cell_type": "code",
   "execution_count": 31,
   "metadata": {},
   "outputs": [
    {
     "data": {
      "text/plain": [
       "count    1.442564e+06\n",
       "mean     1.335614e+00\n",
       "std      3.191628e+00\n",
       "min      1.000000e+00\n",
       "25%      1.000000e+00\n",
       "50%      1.000000e+00\n",
       "75%      1.000000e+00\n",
       "max      2.169000e+03\n",
       "Name: item_cnt_day, dtype: float64"
      ]
     },
     "execution_count": 31,
     "metadata": {},
     "output_type": "execute_result"
    }
   ],
   "source": [
    "normData.item_cnt_day.describe()"
   ]
  },
  {
   "cell_type": "code",
   "execution_count": 32,
   "metadata": {},
   "outputs": [
    {
     "data": {
      "image/png": "[encoded data removed]",
      "text/plain": [
       "<Figure size 1440x576 with 1 Axes>"
      ]
     },
     "metadata": {
      "needs_background": "light"
     },
     "output_type": "display_data"
    }
   ],
   "source": [
    "fig = plt.figure(figsize=(20, 8))\n",
    "ax = plt.axes()\n",
    "fig.suptitle(\"Item Count Day\")\n",
    "sns.boxplot(x=normData.item_cnt_day, ax=ax)\n",
    "plt.show()"
   ]
  },
  {
   "cell_type": "markdown",
   "metadata": {},
   "source": [
    "Let's check the outlier "
   ]
  },
  {
   "cell_type": "code",
   "execution_count": 33,
   "metadata": {},
   "outputs": [
    {
     "data": {
      "text/html": [
       "<div>\n",
       "<style scoped>\n",
       "    .dataframe tbody tr th:only-of-type {\n",
       "        vertical-align: middle;\n",
       "    }\n",
       "\n",
       "    .dataframe tbody tr th {\n",
       "        vertical-align: top;\n",
       "    }\n",
       "\n",
       "    .dataframe thead th {\n",
       "        text-align: right;\n",
       "    }\n",
       "</style>\n",
       "<table border=\"1\" class=\"dataframe\">\n",
       "  <thead>\n",
       "    <tr style=\"text-align: right;\">\n",
       "      <th></th>\n",
       "      <th>date</th>\n",
       "      <th>date_block_num</th>\n",
       "      <th>shop_id</th>\n",
       "      <th>item_id</th>\n",
       "      <th>item_price</th>\n",
       "      <th>item_cnt_day</th>\n",
       "      <th>shop_name</th>\n",
       "      <th>item_name</th>\n",
       "      <th>item_category_id</th>\n",
       "      <th>Required</th>\n",
       "      <th>item_category_name</th>\n",
       "    </tr>\n",
       "  </thead>\n",
       "  <tbody>\n",
       "    <tr>\n",
       "      <th>556428</th>\n",
       "      <td>2014-06-28</td>\n",
       "      <td>17</td>\n",
       "      <td>25</td>\n",
       "      <td>20949</td>\n",
       "      <td>5.000000</td>\n",
       "      <td>501.0</td>\n",
       "      <td>Москва ТРК \"Атриум\"</td>\n",
       "      <td>Фирменный пакет майка 1С Интерес белый (34*42)...</td>\n",
       "      <td>71</td>\n",
       "      <td>True</td>\n",
       "      <td>Подарки - Сумки, Альбомы, Коврики д/мыши</td>\n",
       "    </tr>\n",
       "    <tr>\n",
       "      <th>892548</th>\n",
       "      <td>2014-12-19</td>\n",
       "      <td>23</td>\n",
       "      <td>12</td>\n",
       "      <td>20949</td>\n",
       "      <td>4.000000</td>\n",
       "      <td>500.0</td>\n",
       "      <td>Интернет-магазин ЧС</td>\n",
       "      <td>Фирменный пакет майка 1С Интерес белый (34*42)...</td>\n",
       "      <td>71</td>\n",
       "      <td>True</td>\n",
       "      <td>Подарки - Сумки, Альбомы, Коврики д/мыши</td>\n",
       "    </tr>\n",
       "    <tr>\n",
       "      <th>942094</th>\n",
       "      <td>2015-01-15</td>\n",
       "      <td>24</td>\n",
       "      <td>12</td>\n",
       "      <td>20949</td>\n",
       "      <td>4.000000</td>\n",
       "      <td>1000.0</td>\n",
       "      <td>Интернет-магазин ЧС</td>\n",
       "      <td>Фирменный пакет майка 1С Интерес белый (34*42)...</td>\n",
       "      <td>71</td>\n",
       "      <td>True</td>\n",
       "      <td>Подарки - Сумки, Альбомы, Коврики д/мыши</td>\n",
       "    </tr>\n",
       "    <tr>\n",
       "      <th>1152716</th>\n",
       "      <td>2015-04-14</td>\n",
       "      <td>27</td>\n",
       "      <td>12</td>\n",
       "      <td>3731</td>\n",
       "      <td>1904.548077</td>\n",
       "      <td>624.0</td>\n",
       "      <td>Интернет-магазин ЧС</td>\n",
       "      <td>Grand Theft Auto V [PC, русские субтитры]</td>\n",
       "      <td>30</td>\n",
       "      <td>True</td>\n",
       "      <td>Игры PC - Стандартные издания</td>\n",
       "    </tr>\n",
       "    <tr>\n",
       "      <th>1167937</th>\n",
       "      <td>2015-05-19</td>\n",
       "      <td>28</td>\n",
       "      <td>12</td>\n",
       "      <td>11373</td>\n",
       "      <td>155.192950</td>\n",
       "      <td>539.0</td>\n",
       "      <td>Интернет-магазин ЧС</td>\n",
       "      <td>Доставка до пункта выдачи (Boxberry)</td>\n",
       "      <td>9</td>\n",
       "      <td>True</td>\n",
       "      <td>Доставка товара</td>\n",
       "    </tr>\n",
       "    <tr>\n",
       "      <th>1417590</th>\n",
       "      <td>2015-10-14</td>\n",
       "      <td>33</td>\n",
       "      <td>12</td>\n",
       "      <td>20949</td>\n",
       "      <td>4.000000</td>\n",
       "      <td>500.0</td>\n",
       "      <td>Интернет-магазин ЧС</td>\n",
       "      <td>Фирменный пакет майка 1С Интерес белый (34*42)...</td>\n",
       "      <td>71</td>\n",
       "      <td>True</td>\n",
       "      <td>Подарки - Сумки, Альбомы, Коврики д/мыши</td>\n",
       "    </tr>\n",
       "    <tr>\n",
       "      <th>1417977</th>\n",
       "      <td>2015-10-28</td>\n",
       "      <td>33</td>\n",
       "      <td>12</td>\n",
       "      <td>11373</td>\n",
       "      <td>0.908714</td>\n",
       "      <td>2169.0</td>\n",
       "      <td>Интернет-магазин ЧС</td>\n",
       "      <td>Доставка до пункта выдачи (Boxberry)</td>\n",
       "      <td>9</td>\n",
       "      <td>True</td>\n",
       "      <td>Доставка товара</td>\n",
       "    </tr>\n",
       "  </tbody>\n",
       "</table>\n",
       "</div>"
      ],
      "text/plain": [
       "              date  date_block_num  shop_id  item_id   item_price  \\\n",
       "556428  2014-06-28              17       25    20949     5.000000   \n",
       "892548  2014-12-19              23       12    20949     4.000000   \n",
       "942094  2015-01-15              24       12    20949     4.000000   \n",
       "1152716 2015-04-14              27       12     3731  1904.548077   \n",
       "1167937 2015-05-19              28       12    11373   155.192950   \n",
       "1417590 2015-10-14              33       12    20949     4.000000   \n",
       "1417977 2015-10-28              33       12    11373     0.908714   \n",
       "\n",
       "         item_cnt_day            shop_name  \\\n",
       "556428          501.0  Москва ТРК \"Атриум\"   \n",
       "892548          500.0  Интернет-магазин ЧС   \n",
       "942094         1000.0  Интернет-магазин ЧС   \n",
       "1152716         624.0  Интернет-магазин ЧС   \n",
       "1167937         539.0  Интернет-магазин ЧС   \n",
       "1417590         500.0  Интернет-магазин ЧС   \n",
       "1417977        2169.0  Интернет-магазин ЧС   \n",
       "\n",
       "                                                 item_name  item_category_id  \\\n",
       "556428   Фирменный пакет майка 1С Интерес белый (34*42)...                71   \n",
       "892548   Фирменный пакет майка 1С Интерес белый (34*42)...                71   \n",
       "942094   Фирменный пакет майка 1С Интерес белый (34*42)...                71   \n",
       "1152716          Grand Theft Auto V [PC, русские субтитры]                30   \n",
       "1167937               Доставка до пункта выдачи (Boxberry)                 9   \n",
       "1417590  Фирменный пакет майка 1С Интерес белый (34*42)...                71   \n",
       "1417977               Доставка до пункта выдачи (Boxberry)                 9   \n",
       "\n",
       "        Required                        item_category_name  \n",
       "556428      True  Подарки - Сумки, Альбомы, Коврики д/мыши  \n",
       "892548      True  Подарки - Сумки, Альбомы, Коврики д/мыши  \n",
       "942094      True  Подарки - Сумки, Альбомы, Коврики д/мыши  \n",
       "1152716     True             Игры PC - Стандартные издания  \n",
       "1167937     True                           Доставка товара  \n",
       "1417590     True  Подарки - Сумки, Альбомы, Коврики д/мыши  \n",
       "1417977     True                           Доставка товара  "
      ]
     },
     "execution_count": 33,
     "metadata": {},
     "output_type": "execute_result"
    }
   ],
   "source": [
    "checkItemCnt = normData[normData.item_cnt_day >= 500]\n",
    "\n",
    "checkItemCnt"
   ]
  },
  {
   "cell_type": "code",
   "execution_count": 34,
   "metadata": {},
   "outputs": [
    {
     "name": "stderr",
     "output_type": "stream",
     "text": [
      "C:\\Users\\KANGHEA\\Anaconda3\\lib\\site-packages\\pandas\\core\\indexing.py:966: SettingWithCopyWarning: \n",
      "A value is trying to be set on a copy of a slice from a DataFrame.\n",
      "Try using .loc[row_indexer,col_indexer] = value instead\n",
      "\n",
      "See the caveats in the documentation: https://pandas.pydata.org/pandas-docs/stable/user_guide/indexing.html#returning-a-view-versus-a-copy\n",
      "  self.obj[item] = s\n"
     ]
    },
    {
     "data": {
      "text/html": [
       "<div>\n",
       "<style scoped>\n",
       "    .dataframe tbody tr th:only-of-type {\n",
       "        vertical-align: middle;\n",
       "    }\n",
       "\n",
       "    .dataframe tbody tr th {\n",
       "        vertical-align: top;\n",
       "    }\n",
       "\n",
       "    .dataframe thead th {\n",
       "        text-align: right;\n",
       "    }\n",
       "</style>\n",
       "<table border=\"1\" class=\"dataframe\">\n",
       "  <thead>\n",
       "    <tr style=\"text-align: right;\">\n",
       "      <th></th>\n",
       "      <th>date</th>\n",
       "      <th>date_block_num</th>\n",
       "      <th>shop_id</th>\n",
       "      <th>item_id</th>\n",
       "      <th>item_price</th>\n",
       "      <th>item_cnt_day</th>\n",
       "      <th>shop_name</th>\n",
       "      <th>item_name</th>\n",
       "      <th>item_category_id</th>\n",
       "      <th>Required</th>\n",
       "      <th>item_category_name</th>\n",
       "    </tr>\n",
       "  </thead>\n",
       "  <tbody>\n",
       "    <tr>\n",
       "      <th>1152716</th>\n",
       "      <td>2015-04-14</td>\n",
       "      <td>27</td>\n",
       "      <td>12</td>\n",
       "      <td>3731</td>\n",
       "      <td>1904.548077</td>\n",
       "      <td>624.0</td>\n",
       "      <td>Интернет-магазин ЧС</td>\n",
       "      <td>Grand Theft Auto V [PC, русские субтитры]</td>\n",
       "      <td>30</td>\n",
       "      <td>True</td>\n",
       "      <td>Игры PC - Стандартные издания</td>\n",
       "    </tr>\n",
       "    <tr>\n",
       "      <th>1167937</th>\n",
       "      <td>2015-05-19</td>\n",
       "      <td>28</td>\n",
       "      <td>12</td>\n",
       "      <td>11373</td>\n",
       "      <td>155.192950</td>\n",
       "      <td>539.0</td>\n",
       "      <td>Интернет-магазин ЧС</td>\n",
       "      <td>Доставка до пункта выдачи (Boxberry)</td>\n",
       "      <td>9</td>\n",
       "      <td>True</td>\n",
       "      <td>Доставка товара</td>\n",
       "    </tr>\n",
       "    <tr>\n",
       "      <th>1417977</th>\n",
       "      <td>2015-10-28</td>\n",
       "      <td>33</td>\n",
       "      <td>12</td>\n",
       "      <td>11373</td>\n",
       "      <td>0.908714</td>\n",
       "      <td>2169.0</td>\n",
       "      <td>Интернет-магазин ЧС</td>\n",
       "      <td>Доставка до пункта выдачи (Boxberry)</td>\n",
       "      <td>9</td>\n",
       "      <td>True</td>\n",
       "      <td>Доставка товара</td>\n",
       "    </tr>\n",
       "    <tr>\n",
       "      <th>556428</th>\n",
       "      <td>2014-06-28</td>\n",
       "      <td>17</td>\n",
       "      <td>25</td>\n",
       "      <td>20949</td>\n",
       "      <td>5.000000</td>\n",
       "      <td>501.0</td>\n",
       "      <td>Москва ТРК \"Атриум\"</td>\n",
       "      <td>Фирменный пакет майка 1С Интерес белый (34*42)...</td>\n",
       "      <td>71</td>\n",
       "      <td>True</td>\n",
       "      <td>Подарки - Сумки, Альбомы, Коврики д/мыши</td>\n",
       "    </tr>\n",
       "    <tr>\n",
       "      <th>892548</th>\n",
       "      <td>2014-12-19</td>\n",
       "      <td>23</td>\n",
       "      <td>12</td>\n",
       "      <td>20949</td>\n",
       "      <td>4.000000</td>\n",
       "      <td>500.0</td>\n",
       "      <td>Интернет-магазин ЧС</td>\n",
       "      <td>Фирменный пакет майка 1С Интерес белый (34*42)...</td>\n",
       "      <td>71</td>\n",
       "      <td>True</td>\n",
       "      <td>Подарки - Сумки, Альбомы, Коврики д/мыши</td>\n",
       "    </tr>\n",
       "    <tr>\n",
       "      <th>942094</th>\n",
       "      <td>2015-01-15</td>\n",
       "      <td>24</td>\n",
       "      <td>12</td>\n",
       "      <td>20949</td>\n",
       "      <td>4.000000</td>\n",
       "      <td>1000.0</td>\n",
       "      <td>Интернет-магазин ЧС</td>\n",
       "      <td>Фирменный пакет майка 1С Интерес белый (34*42)...</td>\n",
       "      <td>71</td>\n",
       "      <td>True</td>\n",
       "      <td>Подарки - Сумки, Альбомы, Коврики д/мыши</td>\n",
       "    </tr>\n",
       "    <tr>\n",
       "      <th>1417590</th>\n",
       "      <td>2015-10-14</td>\n",
       "      <td>33</td>\n",
       "      <td>12</td>\n",
       "      <td>20949</td>\n",
       "      <td>4.000000</td>\n",
       "      <td>500.0</td>\n",
       "      <td>Интернет-магазин ЧС</td>\n",
       "      <td>Фирменный пакет майка 1С Интерес белый (34*42)...</td>\n",
       "      <td>71</td>\n",
       "      <td>True</td>\n",
       "      <td>Подарки - Сумки, Альбомы, Коврики д/мыши</td>\n",
       "    </tr>\n",
       "  </tbody>\n",
       "</table>\n",
       "</div>"
      ],
      "text/plain": [
       "              date  date_block_num  shop_id  item_id   item_price  \\\n",
       "1152716 2015-04-14              27       12     3731  1904.548077   \n",
       "1167937 2015-05-19              28       12    11373   155.192950   \n",
       "1417977 2015-10-28              33       12    11373     0.908714   \n",
       "556428  2014-06-28              17       25    20949     5.000000   \n",
       "892548  2014-12-19              23       12    20949     4.000000   \n",
       "942094  2015-01-15              24       12    20949     4.000000   \n",
       "1417590 2015-10-14              33       12    20949     4.000000   \n",
       "\n",
       "         item_cnt_day            shop_name  \\\n",
       "1152716         624.0  Интернет-магазин ЧС   \n",
       "1167937         539.0  Интернет-магазин ЧС   \n",
       "1417977        2169.0  Интернет-магазин ЧС   \n",
       "556428          501.0  Москва ТРК \"Атриум\"   \n",
       "892548          500.0  Интернет-магазин ЧС   \n",
       "942094         1000.0  Интернет-магазин ЧС   \n",
       "1417590         500.0  Интернет-магазин ЧС   \n",
       "\n",
       "                                                 item_name  item_category_id  \\\n",
       "1152716          Grand Theft Auto V [PC, русские субтитры]                30   \n",
       "1167937               Доставка до пункта выдачи (Boxberry)                 9   \n",
       "1417977               Доставка до пункта выдачи (Boxberry)                 9   \n",
       "556428   Фирменный пакет майка 1С Интерес белый (34*42)...                71   \n",
       "892548   Фирменный пакет майка 1С Интерес белый (34*42)...                71   \n",
       "942094   Фирменный пакет майка 1С Интерес белый (34*42)...                71   \n",
       "1417590  Фирменный пакет майка 1С Интерес белый (34*42)...                71   \n",
       "\n",
       "        Required                        item_category_name  \n",
       "1152716     True             Игры PC - Стандартные издания  \n",
       "1167937     True                           Доставка товара  \n",
       "1417977     True                           Доставка товара  \n",
       "556428      True  Подарки - Сумки, Альбомы, Коврики д/мыши  \n",
       "892548      True  Подарки - Сумки, Альбомы, Коврики д/мыши  \n",
       "942094      True  Подарки - Сумки, Альбомы, Коврики д/мыши  \n",
       "1417590     True  Подарки - Сумки, Альбомы, Коврики д/мыши  "
      ]
     },
     "execution_count": 34,
     "metadata": {},
     "output_type": "execute_result"
    }
   ],
   "source": [
    "for idx in checkItemCnt.index:\n",
    "    id = checkItemCnt.loc[idx, \"item_id\"]\n",
    "    checkItemCnt.loc[idx, \"Required\"] = id in testUniID\n",
    "\n",
    "checkItemCnt.sort_values(by= \"item_id\")\n",
    "    \n",
    "#checkItemCnt[checkItemCnt.Required == True]"
   ]
  },
  {
   "cell_type": "markdown",
   "metadata": {},
   "source": [
    "It appears that some of the item_id do have high item_cnt_day number. \n",
    "\n",
    "Let's look further into 3731 and 8057 as they only have 1 rows"
   ]
  },
  {
   "cell_type": "code",
   "execution_count": 35,
   "metadata": {},
   "outputs": [
    {
     "data": {
      "text/html": [
       "<div>\n",
       "<style scoped>\n",
       "    .dataframe tbody tr th:only-of-type {\n",
       "        vertical-align: middle;\n",
       "    }\n",
       "\n",
       "    .dataframe tbody tr th {\n",
       "        vertical-align: top;\n",
       "    }\n",
       "\n",
       "    .dataframe thead th {\n",
       "        text-align: right;\n",
       "    }\n",
       "</style>\n",
       "<table border=\"1\" class=\"dataframe\">\n",
       "  <thead>\n",
       "    <tr style=\"text-align: right;\">\n",
       "      <th></th>\n",
       "      <th>date</th>\n",
       "      <th>date_block_num</th>\n",
       "      <th>shop_id</th>\n",
       "      <th>item_id</th>\n",
       "      <th>item_price</th>\n",
       "      <th>item_cnt_day</th>\n",
       "      <th>shop_name</th>\n",
       "      <th>item_name</th>\n",
       "      <th>item_category_id</th>\n",
       "      <th>Required</th>\n",
       "      <th>item_category_name</th>\n",
       "    </tr>\n",
       "  </thead>\n",
       "  <tbody>\n",
       "    <tr>\n",
       "      <th>1109549</th>\n",
       "      <td>2015-04-30</td>\n",
       "      <td>27</td>\n",
       "      <td>29</td>\n",
       "      <td>3731</td>\n",
       "      <td>1999.000000</td>\n",
       "      <td>1.0</td>\n",
       "      <td>Москва ТЦ \"Новый век\" (Новокосино)</td>\n",
       "      <td>Grand Theft Auto V [PC, русские субтитры]</td>\n",
       "      <td>30</td>\n",
       "      <td>True</td>\n",
       "      <td>Игры PC - Стандартные издания</td>\n",
       "    </tr>\n",
       "    <tr>\n",
       "      <th>1288345</th>\n",
       "      <td>2015-07-19</td>\n",
       "      <td>30</td>\n",
       "      <td>34</td>\n",
       "      <td>3731</td>\n",
       "      <td>1999.000000</td>\n",
       "      <td>1.0</td>\n",
       "      <td>Н.Новгород ТРЦ \"РИО\"</td>\n",
       "      <td>Grand Theft Auto V [PC, русские субтитры]</td>\n",
       "      <td>30</td>\n",
       "      <td>True</td>\n",
       "      <td>Игры PC - Стандартные издания</td>\n",
       "    </tr>\n",
       "    <tr>\n",
       "      <th>1288344</th>\n",
       "      <td>2015-07-15</td>\n",
       "      <td>30</td>\n",
       "      <td>34</td>\n",
       "      <td>3731</td>\n",
       "      <td>1999.000000</td>\n",
       "      <td>1.0</td>\n",
       "      <td>Н.Новгород ТРЦ \"РИО\"</td>\n",
       "      <td>Grand Theft Auto V [PC, русские субтитры]</td>\n",
       "      <td>30</td>\n",
       "      <td>True</td>\n",
       "      <td>Игры PC - Стандартные издания</td>\n",
       "    </tr>\n",
       "    <tr>\n",
       "      <th>1288343</th>\n",
       "      <td>2015-04-07</td>\n",
       "      <td>30</td>\n",
       "      <td>34</td>\n",
       "      <td>3731</td>\n",
       "      <td>1999.000000</td>\n",
       "      <td>1.0</td>\n",
       "      <td>Н.Новгород ТРЦ \"РИО\"</td>\n",
       "      <td>Grand Theft Auto V [PC, русские субтитры]</td>\n",
       "      <td>30</td>\n",
       "      <td>True</td>\n",
       "      <td>Игры PC - Стандартные издания</td>\n",
       "    </tr>\n",
       "    <tr>\n",
       "      <th>1288342</th>\n",
       "      <td>2015-02-07</td>\n",
       "      <td>30</td>\n",
       "      <td>34</td>\n",
       "      <td>3731</td>\n",
       "      <td>1999.000000</td>\n",
       "      <td>1.0</td>\n",
       "      <td>Н.Новгород ТРЦ \"РИО\"</td>\n",
       "      <td>Grand Theft Auto V [PC, русские субтитры]</td>\n",
       "      <td>30</td>\n",
       "      <td>True</td>\n",
       "      <td>Игры PC - Стандартные издания</td>\n",
       "    </tr>\n",
       "    <tr>\n",
       "      <th>...</th>\n",
       "      <td>...</td>\n",
       "      <td>...</td>\n",
       "      <td>...</td>\n",
       "      <td>...</td>\n",
       "      <td>...</td>\n",
       "      <td>...</td>\n",
       "      <td>...</td>\n",
       "      <td>...</td>\n",
       "      <td>...</td>\n",
       "      <td>...</td>\n",
       "      <td>...</td>\n",
       "    </tr>\n",
       "    <tr>\n",
       "      <th>1150270</th>\n",
       "      <td>2015-04-14</td>\n",
       "      <td>27</td>\n",
       "      <td>18</td>\n",
       "      <td>3731</td>\n",
       "      <td>1930.034483</td>\n",
       "      <td>145.0</td>\n",
       "      <td>Красноярск ТЦ \"Июнь\"</td>\n",
       "      <td>Grand Theft Auto V [PC, русские субтитры]</td>\n",
       "      <td>30</td>\n",
       "      <td>True</td>\n",
       "      <td>Игры PC - Стандартные издания</td>\n",
       "    </tr>\n",
       "    <tr>\n",
       "      <th>1111192</th>\n",
       "      <td>2015-04-14</td>\n",
       "      <td>27</td>\n",
       "      <td>31</td>\n",
       "      <td>3731</td>\n",
       "      <td>1946.953216</td>\n",
       "      <td>171.0</td>\n",
       "      <td>Москва ТЦ \"Семеновский\"</td>\n",
       "      <td>Grand Theft Auto V [PC, русские субтитры]</td>\n",
       "      <td>30</td>\n",
       "      <td>True</td>\n",
       "      <td>Игры PC - Стандартные издания</td>\n",
       "    </tr>\n",
       "    <tr>\n",
       "      <th>1120332</th>\n",
       "      <td>2015-04-14</td>\n",
       "      <td>27</td>\n",
       "      <td>25</td>\n",
       "      <td>3731</td>\n",
       "      <td>1941.995169</td>\n",
       "      <td>207.0</td>\n",
       "      <td>Москва ТРК \"Атриум\"</td>\n",
       "      <td>Grand Theft Auto V [PC, русские субтитры]</td>\n",
       "      <td>30</td>\n",
       "      <td>True</td>\n",
       "      <td>Игры PC - Стандартные издания</td>\n",
       "    </tr>\n",
       "    <tr>\n",
       "      <th>1143881</th>\n",
       "      <td>2015-04-14</td>\n",
       "      <td>27</td>\n",
       "      <td>42</td>\n",
       "      <td>3731</td>\n",
       "      <td>1918.732441</td>\n",
       "      <td>299.0</td>\n",
       "      <td>СПб ТК \"Невский Центр\"</td>\n",
       "      <td>Grand Theft Auto V [PC, русские субтитры]</td>\n",
       "      <td>30</td>\n",
       "      <td>True</td>\n",
       "      <td>Игры PC - Стандартные издания</td>\n",
       "    </tr>\n",
       "    <tr>\n",
       "      <th>1152716</th>\n",
       "      <td>2015-04-14</td>\n",
       "      <td>27</td>\n",
       "      <td>12</td>\n",
       "      <td>3731</td>\n",
       "      <td>1904.548077</td>\n",
       "      <td>624.0</td>\n",
       "      <td>Интернет-магазин ЧС</td>\n",
       "      <td>Grand Theft Auto V [PC, русские субтитры]</td>\n",
       "      <td>30</td>\n",
       "      <td>True</td>\n",
       "      <td>Игры PC - Стандартные издания</td>\n",
       "    </tr>\n",
       "  </tbody>\n",
       "</table>\n",
       "<p>2348 rows × 11 columns</p>\n",
       "</div>"
      ],
      "text/plain": [
       "              date  date_block_num  shop_id  item_id   item_price  \\\n",
       "1109549 2015-04-30              27       29     3731  1999.000000   \n",
       "1288345 2015-07-19              30       34     3731  1999.000000   \n",
       "1288344 2015-07-15              30       34     3731  1999.000000   \n",
       "1288343 2015-04-07              30       34     3731  1999.000000   \n",
       "1288342 2015-02-07              30       34     3731  1999.000000   \n",
       "...            ...             ...      ...      ...          ...   \n",
       "1150270 2015-04-14              27       18     3731  1930.034483   \n",
       "1111192 2015-04-14              27       31     3731  1946.953216   \n",
       "1120332 2015-04-14              27       25     3731  1941.995169   \n",
       "1143881 2015-04-14              27       42     3731  1918.732441   \n",
       "1152716 2015-04-14              27       12     3731  1904.548077   \n",
       "\n",
       "         item_cnt_day                           shop_name  \\\n",
       "1109549           1.0  Москва ТЦ \"Новый век\" (Новокосино)   \n",
       "1288345           1.0                Н.Новгород ТРЦ \"РИО\"   \n",
       "1288344           1.0                Н.Новгород ТРЦ \"РИО\"   \n",
       "1288343           1.0                Н.Новгород ТРЦ \"РИО\"   \n",
       "1288342           1.0                Н.Новгород ТРЦ \"РИО\"   \n",
       "...               ...                                 ...   \n",
       "1150270         145.0                Красноярск ТЦ \"Июнь\"   \n",
       "1111192         171.0             Москва ТЦ \"Семеновский\"   \n",
       "1120332         207.0                 Москва ТРК \"Атриум\"   \n",
       "1143881         299.0              СПб ТК \"Невский Центр\"   \n",
       "1152716         624.0                 Интернет-магазин ЧС   \n",
       "\n",
       "                                         item_name  item_category_id Required  \\\n",
       "1109549  Grand Theft Auto V [PC, русские субтитры]                30     True   \n",
       "1288345  Grand Theft Auto V [PC, русские субтитры]                30     True   \n",
       "1288344  Grand Theft Auto V [PC, русские субтитры]                30     True   \n",
       "1288343  Grand Theft Auto V [PC, русские субтитры]                30     True   \n",
       "1288342  Grand Theft Auto V [PC, русские субтитры]                30     True   \n",
       "...                                            ...               ...      ...   \n",
       "1150270  Grand Theft Auto V [PC, русские субтитры]                30     True   \n",
       "1111192  Grand Theft Auto V [PC, русские субтитры]                30     True   \n",
       "1120332  Grand Theft Auto V [PC, русские субтитры]                30     True   \n",
       "1143881  Grand Theft Auto V [PC, русские субтитры]                30     True   \n",
       "1152716  Grand Theft Auto V [PC, русские субтитры]                30     True   \n",
       "\n",
       "                    item_category_name  \n",
       "1109549  Игры PC - Стандартные издания  \n",
       "1288345  Игры PC - Стандартные издания  \n",
       "1288344  Игры PC - Стандартные издания  \n",
       "1288343  Игры PC - Стандартные издания  \n",
       "1288342  Игры PC - Стандартные издания  \n",
       "...                                ...  \n",
       "1150270  Игры PC - Стандартные издания  \n",
       "1111192  Игры PC - Стандартные издания  \n",
       "1120332  Игры PC - Стандартные издания  \n",
       "1143881  Игры PC - Стандартные издания  \n",
       "1152716  Игры PC - Стандартные издания  \n",
       "\n",
       "[2348 rows x 11 columns]"
      ]
     },
     "execution_count": 35,
     "metadata": {},
     "output_type": "execute_result"
    }
   ],
   "source": [
    "checkItemCnt = normData[normData.item_id == 3731]\n",
    "\n",
    "checkItemCnt.sort_values(by = 'item_cnt_day')"
   ]
  },
  {
   "cell_type": "code",
   "execution_count": 36,
   "metadata": {},
   "outputs": [
    {
     "data": {
      "text/html": [
       "<div>\n",
       "<style scoped>\n",
       "    .dataframe tbody tr th:only-of-type {\n",
       "        vertical-align: middle;\n",
       "    }\n",
       "\n",
       "    .dataframe tbody tr th {\n",
       "        vertical-align: top;\n",
       "    }\n",
       "\n",
       "    .dataframe thead th {\n",
       "        text-align: right;\n",
       "    }\n",
       "</style>\n",
       "<table border=\"1\" class=\"dataframe\">\n",
       "  <thead>\n",
       "    <tr style=\"text-align: right;\">\n",
       "      <th></th>\n",
       "      <th>date</th>\n",
       "      <th>date_block_num</th>\n",
       "      <th>shop_id</th>\n",
       "      <th>item_id</th>\n",
       "      <th>item_price</th>\n",
       "      <th>item_cnt_day</th>\n",
       "      <th>shop_name</th>\n",
       "      <th>item_name</th>\n",
       "      <th>item_category_id</th>\n",
       "      <th>Required</th>\n",
       "      <th>item_category_name</th>\n",
       "    </tr>\n",
       "  </thead>\n",
       "  <tbody>\n",
       "  </tbody>\n",
       "</table>\n",
       "</div>"
      ],
      "text/plain": [
       "Empty DataFrame\n",
       "Columns: [date, date_block_num, shop_id, item_id, item_price, item_cnt_day, shop_name, item_name, item_category_id, Required, item_category_name]\n",
       "Index: []"
      ]
     },
     "execution_count": 36,
     "metadata": {},
     "output_type": "execute_result"
    }
   ],
   "source": [
    "checkItemCnt = normData[normData.item_id == 8057]\n",
    "\n",
    "checkItemCnt.sort_values(by = 'item_cnt_day')"
   ]
  },
  {
   "cell_type": "markdown",
   "metadata": {},
   "source": [
    "Based on the section above, it item_cnd_day for 3731 and 8057 seem normal. Their item counts is normal comparing the same item id. \n"
   ]
  },
  {
   "cell_type": "markdown",
   "metadata": {},
   "source": [
    "## 2. Exploratory Data Analysis"
   ]
  },
  {
   "cell_type": "markdown",
   "metadata": {},
   "source": [
    "First we will need to add date related new columns for better analysis "
   ]
  },
  {
   "cell_type": "code",
   "execution_count": 37,
   "metadata": {},
   "outputs": [],
   "source": [
    "normData['date_month'] = normData['date'].dt.month\n",
    "normData['date_year'] = normData['date'].dt.year\n",
    "#Calculate total normData\n",
    "normData['total_sales'] =  normData['item_price'] * normData['item_cnt_day']"
   ]
  },
  {
   "cell_type": "markdown",
   "metadata": {},
   "source": [
    "Prepare the sales year split by year for reusability"
   ]
  },
  {
   "cell_type": "markdown",
   "metadata": {},
   "source": [
    "**Run code below to get the cleaned data as CSV**"
   ]
  },
  {
   "cell_type": "code",
   "execution_count": 38,
   "metadata": {},
   "outputs": [],
   "source": [
    "#Save data as CSV file\n",
    "\n",
    "normData.to_csv('predictFutureSalesClean.csv') "
   ]
  },
  {
   "cell_type": "code",
   "execution_count": 39,
   "metadata": {},
   "outputs": [],
   "source": [
    "sales2013 = normData[normData['date_year'] == 2013]\n",
    "sales2014 = normData[normData['date_year'] == 2014]\n",
    "sales2015 = normData[normData['date_year'] == 2015]"
   ]
  },
  {
   "cell_type": "markdown",
   "metadata": {},
   "source": [
    "### 2.1 General Sales Trend"
   ]
  },
  {
   "cell_type": "code",
   "execution_count": 40,
   "metadata": {},
   "outputs": [],
   "source": [
    "# Find aggregate sales by day\n",
    "salesMonYea2013 = sales2013.groupby(['date_month','date_year'])[['total_sales']].agg('sum').reset_index()\n",
    "salesMonYea2014 = sales2014.groupby(['date_month','date_year'])[['total_sales']].agg('sum').reset_index()\n",
    "salesMonYea2015 = sales2015.groupby(['date_month','date_year'])[['total_sales']].agg('sum').reset_index()\n",
    "\n",
    "totalSales = pd.concat([salesMonYea2013,salesMonYea2014,salesMonYea2015])"
   ]
  },
  {
   "cell_type": "code",
   "execution_count": 41,
   "metadata": {},
   "outputs": [
    {
     "data": {
      "image/png": "[encoded data removed]",
      "text/plain": [
       "<Figure size 1440x576 with 1 Axes>"
      ]
     },
     "metadata": {
      "needs_background": "light"
     },
     "output_type": "display_data"
    }
   ],
   "source": [
    "fig0,ax0=plt.subplots(figsize=(20,8));\n",
    "sns.lineplot(x='date_month', y = 'total_sales', data = totalSales,\n",
    "           hue='date_year', palette = 'Accent')\n",
    "\n",
    "plt.title(\"Total Sales\", fontsize = 20)\n",
    "plt.xlabel(\"Month\", fontsize = 15)\n",
    "plt.ylabel(\"Total Sales\", fontsize = 15)\n",
    "legend = ax0.legend()\n",
    "legend.texts[0].set_text(\"Year\")\n",
    "plt.show()"
   ]
  },
  {
   "cell_type": "markdown",
   "metadata": {},
   "source": [
    "Let's look at the heatmap for sales trend"
   ]
  },
  {
   "cell_type": "code",
   "execution_count": 42,
   "metadata": {},
   "outputs": [
    {
     "data": {
      "image/png": "[encoded data removed]",
      "text/plain": [
       "<Figure size 1152x720 with 3 Axes>"
      ]
     },
     "metadata": {
      "needs_background": "light"
     },
     "output_type": "display_data"
    }
   ],
   "source": [
    "calHeatMap = normData[[\"date\", \"item_cnt_day\"]]\n",
    "\n",
    "calHeatMap.set_index(\"date\", inplace = True)\n",
    "\n",
    "calHeatMap = calHeatMap.resample(\"D\")[\"item_cnt_day\"].sum()\n",
    "\n",
    "calmap.calendarplot(calHeatMap, # pass the series\n",
    "                    fig_kws = {'figsize': (16,10)}, \n",
    "                    cmap='YlGn',\n",
    "                    fillcolor='grey',\n",
    "                    yearlabel_kws = {'color':'black', 'fontsize':14}, \n",
    "                    subplot_kws = {'title':'Total sales per year'}\n",
    "                   );"
   ]
  },
  {
   "cell_type": "markdown",
   "metadata": {},
   "source": [
    "Let's check item count trend as well"
   ]
  },
  {
   "cell_type": "code",
   "execution_count": 43,
   "metadata": {},
   "outputs": [],
   "source": [
    "# Find aggregate sales by day\n",
    "itemCntYea2013 = sales2013.groupby(['date_month','date_year'])[['item_cnt_day']].agg('sum').reset_index()\n",
    "itemCntYea2014 = sales2014.groupby(['date_month','date_year'])[['item_cnt_day']].agg('sum').reset_index()\n",
    "itemCntYea2015 = sales2015.groupby(['date_month','date_year'])[['item_cnt_day']].agg('sum').reset_index()\n",
    "\n",
    "itemCntYea = pd.concat([itemCntYea2013,itemCntYea2014,itemCntYea2015])"
   ]
  },
  {
   "cell_type": "code",
   "execution_count": 44,
   "metadata": {},
   "outputs": [
    {
     "data": {
      "image/png": "[encoded data removed]",
      "text/plain": [
       "<Figure size 1440x576 with 1 Axes>"
      ]
     },
     "metadata": {
      "needs_background": "light"
     },
     "output_type": "display_data"
    }
   ],
   "source": [
    "fig0,ax0=plt.subplots(figsize=(20,8));\n",
    "sns.lineplot(x='date_month', y = 'item_cnt_day', data = itemCntYea,\n",
    "           hue='date_year', palette = 'Accent')\n",
    "\n",
    "plt.title(\"Total Item Count\", fontsize = 20)\n",
    "plt.xlabel(\"Month\", fontsize = 15)\n",
    "plt.ylabel(\"Total Item Count\", fontsize = 15)\n",
    "legend = ax0.legend()\n",
    "legend.texts[0].set_text(\"Year\")\n",
    "plt.show()"
   ]
  },
  {
   "cell_type": "markdown",
   "metadata": {},
   "source": [
    "### 2.2 Items"
   ]
  },
  {
   "cell_type": "code",
   "execution_count": 45,
   "metadata": {},
   "outputs": [
    {
     "data": {
      "text/html": [
       "<div>\n",
       "<style scoped>\n",
       "    .dataframe tbody tr th:only-of-type {\n",
       "        vertical-align: middle;\n",
       "    }\n",
       "\n",
       "    .dataframe tbody tr th {\n",
       "        vertical-align: top;\n",
       "    }\n",
       "\n",
       "    .dataframe thead th {\n",
       "        text-align: right;\n",
       "    }\n",
       "</style>\n",
       "<table border=\"1\" class=\"dataframe\">\n",
       "  <thead>\n",
       "    <tr style=\"text-align: right;\">\n",
       "      <th></th>\n",
       "      <th>item_id</th>\n",
       "      <th>total_sales</th>\n",
       "    </tr>\n",
       "  </thead>\n",
       "  <tbody>\n",
       "    <tr>\n",
       "      <th>0</th>\n",
       "      <td>30</td>\n",
       "      <td>722217.65</td>\n",
       "    </tr>\n",
       "    <tr>\n",
       "      <th>1</th>\n",
       "      <td>31</td>\n",
       "      <td>864296.24</td>\n",
       "    </tr>\n",
       "    <tr>\n",
       "      <th>2</th>\n",
       "      <td>32</td>\n",
       "      <td>532038.52</td>\n",
       "    </tr>\n",
       "    <tr>\n",
       "      <th>3</th>\n",
       "      <td>33</td>\n",
       "      <td>213040.50</td>\n",
       "    </tr>\n",
       "    <tr>\n",
       "      <th>4</th>\n",
       "      <td>38</td>\n",
       "      <td>158783.85</td>\n",
       "    </tr>\n",
       "    <tr>\n",
       "      <th>...</th>\n",
       "      <td>...</td>\n",
       "      <td>...</td>\n",
       "    </tr>\n",
       "    <tr>\n",
       "      <th>4732</th>\n",
       "      <td>22162</td>\n",
       "      <td>269111.52</td>\n",
       "    </tr>\n",
       "    <tr>\n",
       "      <th>4733</th>\n",
       "      <td>22163</td>\n",
       "      <td>12368.49</td>\n",
       "    </tr>\n",
       "    <tr>\n",
       "      <th>4734</th>\n",
       "      <td>22164</td>\n",
       "      <td>354395.03</td>\n",
       "    </tr>\n",
       "    <tr>\n",
       "      <th>4735</th>\n",
       "      <td>22166</td>\n",
       "      <td>52200.00</td>\n",
       "    </tr>\n",
       "    <tr>\n",
       "      <th>4736</th>\n",
       "      <td>22167</td>\n",
       "      <td>393407.75</td>\n",
       "    </tr>\n",
       "  </tbody>\n",
       "</table>\n",
       "<p>4737 rows × 2 columns</p>\n",
       "</div>"
      ],
      "text/plain": [
       "      item_id  total_sales\n",
       "0          30    722217.65\n",
       "1          31    864296.24\n",
       "2          32    532038.52\n",
       "3          33    213040.50\n",
       "4          38    158783.85\n",
       "...       ...          ...\n",
       "4732    22162    269111.52\n",
       "4733    22163     12368.49\n",
       "4734    22164    354395.03\n",
       "4735    22166     52200.00\n",
       "4736    22167    393407.75\n",
       "\n",
       "[4737 rows x 2 columns]"
      ]
     },
     "execution_count": 45,
     "metadata": {},
     "output_type": "execute_result"
    }
   ],
   "source": [
    "\n",
    "item_sales = normData.groupby(['item_id'])[['total_sales']].agg('sum').reset_index()\n",
    "\n",
    "item_sales"
   ]
  },
  {
   "cell_type": "markdown",
   "metadata": {},
   "source": [
    "Let's explore the graph for Top 10 Total Sales by Item"
   ]
  },
  {
   "cell_type": "code",
   "execution_count": 46,
   "metadata": {},
   "outputs": [
    {
     "data": {
      "image/png": "[encoded data removed]",
      "text/plain": [
       "<Figure size 1440x720 with 4 Axes>"
      ]
     },
     "metadata": {
      "needs_background": "light"
     },
     "output_type": "display_data"
    }
   ],
   "source": [
    "def buildItemSalesGraph(df,ax0,year):\n",
    "    \n",
    "    item_sales = df.groupby(['item_id'])[['total_sales']].agg('sum').reset_index()\n",
    "    \n",
    "    item_sales = item_sales.sort_values(by=['total_sales'], ascending =False)\n",
    "\n",
    "    item_sales = item_sales.head(n = 10)\n",
    "    \n",
    "    axTotal= sns.barplot(ax=ax0, x = item_sales.item_id, \n",
    "                y = item_sales.total_sales,\n",
    "               order= item_sales.sort_values('total_sales').item_id,\n",
    "                color = 'lightsteelblue')\n",
    "   \n",
    "    if year == '':\n",
    "        axTotal.title.set_text('Top 10 Item by Sales for All Years')\n",
    "    else: \n",
    "        title = 'Top 10 Item by Sales ' + str(year)\n",
    "        axTotal.title.set_text(title)\n",
    "    \n",
    "    axTotal.set_xlabel('Item ID')\n",
    "    axTotal.set_ylabel('Total Sales')\n",
    "    axTotal.yaxis.set_tick_params(labelbottom=True)\n",
    "    \n",
    "# Checking best item selling by sales - Top 10\n",
    "# Prepare subplots\n",
    "fig, axes = plt.subplots(2, 2, figsize=(20, 10), sharey=True)\n",
    "\n",
    "buildItemSalesGraph(normData,axes[0,0],'')\n",
    "buildItemSalesGraph(sales2013,axes[0,1],2013)\n",
    "buildItemSalesGraph(sales2014,axes[1,0],2014)\n",
    "buildItemSalesGraph(sales2015,axes[1,1],2015)"
   ]
  },
  {
   "cell_type": "markdown",
   "metadata": {},
   "source": [
    "Let's explore the graph for Top 10 Total Sales by Item"
   ]
  },
  {
   "cell_type": "code",
   "execution_count": 47,
   "metadata": {},
   "outputs": [
    {
     "data": {
      "image/png": "[encoded data removed]",
      "text/plain": [
       "<Figure size 1440x720 with 4 Axes>"
      ]
     },
     "metadata": {
      "needs_background": "light"
     },
     "output_type": "display_data"
    }
   ],
   "source": [
    "def buildItemCntGraph(df,ax0,year):\n",
    "\n",
    "    sales_item_cnt = df.groupby(['item_id'])[['item_cnt_day']].agg('sum').reset_index()\n",
    "\n",
    "    sales_item_cnt = sales_item_cnt.sort_values(by=['item_cnt_day'], ascending =False)\n",
    "\n",
    "    sales_item_cnt = sales_item_cnt.head(n = 10)\n",
    "\n",
    "    ax= sns.barplot(ax=ax0, x = sales_item_cnt.item_id, \n",
    "                y = sales_item_cnt.item_cnt_day,\n",
    "               order=sales_item_cnt.sort_values('item_cnt_day').item_id,\n",
    "                   color = 'lightsteelblue')\n",
    "    \n",
    "    if year == '':\n",
    "        ax.title.set_text('Top 10 Item by Count for All Years')\n",
    "    else: \n",
    "        title = 'Top 10 Item by Count ' + str(year)\n",
    "        ax.title.set_text(title)\n",
    "    \n",
    "    ax.set_xlabel('Item ID')\n",
    "    ax.set_ylabel('Total Item Count')\n",
    "    ax.yaxis.set_tick_params(labelbottom=True)\n",
    "    \n",
    "# Checking best item selling by sales - Top 10\n",
    "# Prepare subplots\n",
    "fig, axes = plt.subplots(2, 2, figsize=(20, 10), sharey=True)\n",
    "\n",
    "buildItemCntGraph(normData,axes[0,0],'')\n",
    "buildItemCntGraph(sales2013,axes[0,1],2013)\n",
    "buildItemCntGraph(sales2014,axes[1,0],2014)\n",
    "buildItemCntGraph(sales2015,axes[1,1],2015)"
   ]
  },
  {
   "cell_type": "markdown",
   "metadata": {},
   "source": [
    "### 2.3 Shop "
   ]
  },
  {
   "cell_type": "code",
   "execution_count": 48,
   "metadata": {},
   "outputs": [
    {
     "data": {
      "image/png": "[encoded data removed]",
      "text/plain": [
       "<Figure size 1440x720 with 4 Axes>"
      ]
     },
     "metadata": {
      "needs_background": "light"
     },
     "output_type": "display_data"
    }
   ],
   "source": [
    "# Checking Shop with top 10 Sales\n",
    "# Prepare subplots\n",
    "def buildShopSalesGraph(df,ax0,year):\n",
    "\n",
    "    sales_shop = df.groupby(['shop_id'])[['total_sales']].agg('sum').reset_index()\n",
    "\n",
    "    sales_shop = sales_shop.sort_values(by=['total_sales'], ascending =False)\n",
    "\n",
    "    sales_shop = sales_shop.head(n = 10)\n",
    "\n",
    "    ax= sns.barplot(ax=ax0, x = sales_shop.shop_id, \n",
    "                y = sales_shop.total_sales,\n",
    "               order=sales_shop.sort_values('total_sales').shop_id,\n",
    "                   color = 'lightsteelblue')\n",
    "    \n",
    "    if year == '':\n",
    "        ax.title.set_text('Top 10 Shop by Sales for All Years')\n",
    "    else: \n",
    "        title = 'Top 10 Shop by Sales ' + str(year)\n",
    "        ax.title.set_text(title)\n",
    "    \n",
    "    ax.set_xlabel('Shop ID')\n",
    "    ax.set_ylabel('Total Sales')\n",
    "    ax.yaxis.set_tick_params(labelbottom=True)\n",
    "\n",
    "# Checking best item selling by sales - Top 10\n",
    "# Prepare subplots\n",
    "fig, axes = plt.subplots(2, 2, figsize=(20, 10), sharey=True)\n",
    "\n",
    "buildShopSalesGraph(normData,axes[0,0],'')\n",
    "buildShopSalesGraph(sales2013,axes[0,1],2013)\n",
    "buildShopSalesGraph(sales2014,axes[1,0],2014)\n",
    "buildShopSalesGraph(sales2015,axes[1,1],2015)"
   ]
  },
  {
   "cell_type": "code",
   "execution_count": 49,
   "metadata": {},
   "outputs": [
    {
     "data": {
      "image/png": "[encoded data removed]",
      "text/plain": [
       "<Figure size 1440x720 with 4 Axes>"
      ]
     },
     "metadata": {
      "needs_background": "light"
     },
     "output_type": "display_data"
    }
   ],
   "source": [
    "# Checking Top 10 shop with Item count\n",
    "# Prepare subplots\n",
    "def buildShopCntGraph(df,ax0,year):\n",
    "\n",
    "    sales_shop = df.groupby(['shop_id'])[['item_cnt_day']].agg('sum').reset_index()\n",
    "\n",
    "    sales_shop = sales_shop.sort_values(by=['item_cnt_day'], ascending =False)\n",
    "\n",
    "    sales_shop = sales_shop.head(n = 10)\n",
    "\n",
    "    ax= sns.barplot(ax=ax0, x = sales_shop.shop_id, \n",
    "                y = sales_shop.item_cnt_day,\n",
    "               order=sales_shop.sort_values('item_cnt_day').shop_id,\n",
    "                   color = 'lightsteelblue')\n",
    "    \n",
    "    if year == '':\n",
    "        ax.title.set_text('Top 10 Shop by Item Count for All Years')\n",
    "    else: \n",
    "        title = 'Top 10 Shop by Item Count ' + str(year)\n",
    "        ax.title.set_text(title)\n",
    "    \n",
    "    ax.set_xlabel('Shop ID')\n",
    "    ax.set_ylabel('Item Count')\n",
    "    ax.yaxis.set_tick_params(labelbottom=True)\n",
    "\n",
    "# Checking best item selling by sales - Top 10\n",
    "# Prepare subplots\n",
    "fig, axes = plt.subplots(2, 2, figsize=(20, 10),sharey=True)\n",
    "\n",
    "buildShopCntGraph(normData,axes[0,0],'')\n",
    "buildShopCntGraph(sales2013,axes[0,1],2013)\n",
    "buildShopCntGraph(sales2014,axes[1,0],2014)\n",
    "buildShopCntGraph(sales2015,axes[1,1],2015)\n",
    "\n"
   ]
  },
  {
   "cell_type": "markdown",
   "metadata": {},
   "source": [
    "### 2.4 Categories"
   ]
  },
  {
   "cell_type": "code",
   "execution_count": 50,
   "metadata": {},
   "outputs": [
    {
     "data": {
      "image/png": "[encoded data removed]",
      "text/plain": [
       "<Figure size 1440x720 with 4 Axes>"
      ]
     },
     "metadata": {
      "needs_background": "light"
     },
     "output_type": "display_data"
    }
   ],
   "source": [
    "# Checking Top 10 shop with Item count\n",
    "# Prepare subplots\n",
    "def buildCatSalesGraph(df,ax0,year):\n",
    "\n",
    "    sales_cat = df.groupby(['item_category_id'])[['total_sales']].agg('sum').reset_index()\n",
    "\n",
    "    sales_cat = sales_cat.sort_values(by=['total_sales'], ascending =False)\n",
    "\n",
    "    sales_cat = sales_cat.head(n = 10)\n",
    "\n",
    "    ax= sns.barplot(ax=ax0, x = sales_cat.item_category_id, \n",
    "                y = sales_cat.total_sales,\n",
    "               order=sales_cat.sort_values('total_sales').item_category_id,\n",
    "                   color = 'lightsteelblue')\n",
    "    \n",
    "    if year == '':\n",
    "        ax.title.set_text('Top 10 Categories by Total Sales for All Years')\n",
    "    else: \n",
    "        title = 'Top 10 Categories by Total Sales ' + str(year)\n",
    "        ax.title.set_text(title)\n",
    "    \n",
    "    ax.set_xlabel('Item Category')\n",
    "    ax.set_ylabel('Total Sales')\n",
    "    ax.yaxis.set_tick_params(labelbottom=True)\n",
    "\n",
    "# Checking best item selling by sales - Top 10\n",
    "# Prepare subplots\n",
    "fig, axes = plt.subplots(2, 2, figsize=(20, 10),sharey=True)\n",
    "\n",
    "buildCatSalesGraph(normData,axes[0,0],'')\n",
    "buildCatSalesGraph(sales2013,axes[0,1],2013)\n",
    "buildCatSalesGraph(sales2014,axes[1,0],2014)\n",
    "buildCatSalesGraph(sales2015,axes[1,1],2015)"
   ]
  },
  {
   "cell_type": "code",
   "execution_count": 51,
   "metadata": {},
   "outputs": [
    {
     "data": {
      "image/png": "[encoded data removed]",
      "text/plain": [
       "<Figure size 1440x720 with 4 Axes>"
      ]
     },
     "metadata": {
      "needs_background": "light"
     },
     "output_type": "display_data"
    }
   ],
   "source": [
    "# Checking Top 10 shop with Item count\n",
    "# Prepare subplots\n",
    "def buildCatCntGraph(df,ax0,year):\n",
    "\n",
    "    sales_cat = df.groupby(['item_category_id'])[['item_cnt_day']].agg('sum').reset_index()\n",
    "\n",
    "    sales_cat = sales_cat.sort_values(by=['item_cnt_day'], ascending =False)\n",
    "\n",
    "    sales_cat = sales_cat.head(n = 10)\n",
    "\n",
    "    ax= sns.barplot(ax=ax0, x = sales_cat.item_category_id, \n",
    "                y = sales_cat.item_cnt_day,\n",
    "               order=sales_cat.sort_values('item_cnt_day').item_category_id,\n",
    "                   color = 'lightsteelblue')\n",
    "    \n",
    "    if year == '':\n",
    "        ax.title.set_text('Top 10 Shop by Item Count for All Years')\n",
    "    else: \n",
    "        title = 'Top 10 Shop by Item Count ' + str(year)\n",
    "        ax.title.set_text(title)\n",
    "    \n",
    "    ax.set_xlabel('Item Category')\n",
    "    ax.set_ylabel('Item Count')\n",
    "    ax.yaxis.set_tick_params(labelbottom=True)\n",
    "\n",
    "# Checking best item selling by sales - Top 10\n",
    "# Prepare subplots\n",
    "fig, axes = plt.subplots(2, 2, figsize=(20, 10),sharey=True)\n",
    "\n",
    "buildCatCntGraph(normData,axes[0,0],'')\n",
    "buildCatCntGraph(sales2013,axes[0,1],2013)\n",
    "buildCatCntGraph(sales2014,axes[1,0],2014)\n",
    "buildCatCntGraph(sales2015,axes[1,1],2015)\n",
    "\n"
   ]
  }
 ],
 "metadata": {
  "kernelspec": {
   "display_name": "Python 3",
   "language": "python",
   "name": "python3"
  },
  "language_info": {
   "codemirror_mode": {
    "name": "ipython",
    "version": 3
   },
   "file_extension": ".py",
   "mimetype": "text/x-python",
   "name": "python",
   "nbconvert_exporter": "python",
   "pygments_lexer": "ipython3",
   "version": "3.8.3"
  }
 },
 "nbformat": 4,
 "nbformat_minor": 4
}
