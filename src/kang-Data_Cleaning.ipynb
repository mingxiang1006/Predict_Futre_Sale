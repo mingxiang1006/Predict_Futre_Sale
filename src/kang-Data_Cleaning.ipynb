{
 "cells": [
  {
   "cell_type": "markdown",
   "metadata": {},
   "source": [
    "# Data Cleaning and Validation"
   ]
  },
  {
   "cell_type": "code",
   "execution_count": 1,
   "metadata": {},
   "outputs": [
    {
     "data": {
      "text/html": [
       "<div>\n",
       "<style scoped>\n",
       "    .dataframe tbody tr th:only-of-type {\n",
       "        vertical-align: middle;\n",
       "    }\n",
       "\n",
       "    .dataframe tbody tr th {\n",
       "        vertical-align: top;\n",
       "    }\n",
       "\n",
       "    .dataframe thead th {\n",
       "        text-align: right;\n",
       "    }\n",
       "</style>\n",
       "<table border=\"1\" class=\"dataframe\">\n",
       "  <thead>\n",
       "    <tr style=\"text-align: right;\">\n",
       "      <th></th>\n",
       "      <th>date</th>\n",
       "      <th>date_block_num</th>\n",
       "      <th>shop_id</th>\n",
       "      <th>item_id</th>\n",
       "      <th>item_id.1</th>\n",
       "      <th>item_price</th>\n",
       "      <th>item_cnt_day</th>\n",
       "      <th>item_name</th>\n",
       "      <th>item_category_id</th>\n",
       "      <th>item_category_name</th>\n",
       "      <th>shop_name</th>\n",
       "    </tr>\n",
       "  </thead>\n",
       "  <tbody>\n",
       "    <tr>\n",
       "      <th>0</th>\n",
       "      <td>2013-01-02</td>\n",
       "      <td>0</td>\n",
       "      <td>59</td>\n",
       "      <td>22154</td>\n",
       "      <td>22154</td>\n",
       "      <td>999.00</td>\n",
       "      <td>1.0</td>\n",
       "      <td>ЯВЛЕНИЕ 2012 (BD)</td>\n",
       "      <td>37</td>\n",
       "      <td>Кино - Blu-Ray</td>\n",
       "      <td>Ярославль ТЦ \"Альтаир\"</td>\n",
       "    </tr>\n",
       "    <tr>\n",
       "      <th>1</th>\n",
       "      <td>2013-01-03</td>\n",
       "      <td>0</td>\n",
       "      <td>25</td>\n",
       "      <td>2552</td>\n",
       "      <td>2552</td>\n",
       "      <td>899.00</td>\n",
       "      <td>1.0</td>\n",
       "      <td>DEEP PURPLE  The House Of Blue Light  LP</td>\n",
       "      <td>58</td>\n",
       "      <td>Музыка - Винил</td>\n",
       "      <td>Москва ТРК \"Атриум\"</td>\n",
       "    </tr>\n",
       "    <tr>\n",
       "      <th>2</th>\n",
       "      <td>2013-01-05</td>\n",
       "      <td>0</td>\n",
       "      <td>25</td>\n",
       "      <td>2552</td>\n",
       "      <td>2552</td>\n",
       "      <td>899.00</td>\n",
       "      <td>-1.0</td>\n",
       "      <td>DEEP PURPLE  The House Of Blue Light  LP</td>\n",
       "      <td>58</td>\n",
       "      <td>Музыка - Винил</td>\n",
       "      <td>Москва ТРК \"Атриум\"</td>\n",
       "    </tr>\n",
       "    <tr>\n",
       "      <th>3</th>\n",
       "      <td>2013-01-06</td>\n",
       "      <td>0</td>\n",
       "      <td>25</td>\n",
       "      <td>2554</td>\n",
       "      <td>2554</td>\n",
       "      <td>1709.05</td>\n",
       "      <td>1.0</td>\n",
       "      <td>DEEP PURPLE  Who Do You Think We Are  LP</td>\n",
       "      <td>58</td>\n",
       "      <td>Музыка - Винил</td>\n",
       "      <td>Москва ТРК \"Атриум\"</td>\n",
       "    </tr>\n",
       "    <tr>\n",
       "      <th>4</th>\n",
       "      <td>2013-01-15</td>\n",
       "      <td>0</td>\n",
       "      <td>25</td>\n",
       "      <td>2555</td>\n",
       "      <td>2555</td>\n",
       "      <td>1099.00</td>\n",
       "      <td>1.0</td>\n",
       "      <td>DEEP PURPLE 30 Very Best Of 2CD (Фирм.)</td>\n",
       "      <td>56</td>\n",
       "      <td>Музыка - CD фирменного производства</td>\n",
       "      <td>Москва ТРК \"Атриум\"</td>\n",
       "    </tr>\n",
       "  </tbody>\n",
       "</table>\n",
       "</div>"
      ],
      "text/plain": [
       "         date  date_block_num  shop_id  item_id  item_id.1  item_price  \\\n",
       "0  2013-01-02               0       59    22154      22154      999.00   \n",
       "1  2013-01-03               0       25     2552       2552      899.00   \n",
       "2  2013-01-05               0       25     2552       2552      899.00   \n",
       "3  2013-01-06               0       25     2554       2554     1709.05   \n",
       "4  2013-01-15               0       25     2555       2555     1099.00   \n",
       "\n",
       "   item_cnt_day                                 item_name  item_category_id  \\\n",
       "0           1.0                         ЯВЛЕНИЕ 2012 (BD)                37   \n",
       "1           1.0  DEEP PURPLE  The House Of Blue Light  LP                58   \n",
       "2          -1.0  DEEP PURPLE  The House Of Blue Light  LP                58   \n",
       "3           1.0  DEEP PURPLE  Who Do You Think We Are  LP                58   \n",
       "4           1.0   DEEP PURPLE 30 Very Best Of 2CD (Фирм.)                56   \n",
       "\n",
       "                    item_category_name               shop_name  \n",
       "0                       Кино - Blu-Ray  Ярославль ТЦ \"Альтаир\"  \n",
       "1                       Музыка - Винил     Москва ТРК \"Атриум\"  \n",
       "2                       Музыка - Винил     Москва ТРК \"Атриум\"  \n",
       "3                       Музыка - Винил     Москва ТРК \"Атриум\"  \n",
       "4  Музыка - CD фирменного производства     Москва ТРК \"Атриум\"  "
      ]
     },
     "execution_count": 1,
     "metadata": {},
     "output_type": "execute_result"
    }
   ],
   "source": [
    "import pandas as pd\n",
    "import matplotlib.pyplot as plt # basic plotting\n",
    "import seaborn as sns # for prettier plots\n",
    "import numpy as np\n",
    "import calmap\n",
    "\n",
    "# Read data from CSV files\n",
    "# Recommendation: We will need to include \n",
    "\n",
    "DA_Data = pd.read_csv(\"C:/Users/KANGHEA/OneDrive - Hilti/Study/WQD7003/Assignment/GroupAssignment/DA_Data.csv\")\n",
    "\n",
    "DA_Data.head()"
   ]
  },
  {
   "cell_type": "markdown",
   "metadata": {},
   "source": [
    "From first 5 rows, we can already infer that there is data quality issue: \n",
    "1) There is negative value showing in the itm_cnt_day. itm_cnt_day - number of products sold."
   ]
  },
  {
   "cell_type": "markdown",
   "metadata": {},
   "source": [
    "# General Check"
   ]
  },
  {
   "cell_type": "markdown",
   "metadata": {},
   "source": [
    "# Build more feature"
   ]
  },
  {
   "cell_type": "code",
   "execution_count": 2,
   "metadata": {},
   "outputs": [],
   "source": [
    "# change date frame date to date format for further reporting\n",
    "DA_Data['date'] = pd.to_datetime(DA_Data['date'])\n",
    "DA_Data['date_month'] = DA_Data['date'].dt.month\n",
    "DA_Data['date_year'] = DA_Data['date'].dt.year"
   ]
  },
  {
   "cell_type": "markdown",
   "metadata": {},
   "source": [
    "# Check Null value in data frame"
   ]
  },
  {
   "cell_type": "code",
   "execution_count": 3,
   "metadata": {},
   "outputs": [
    {
     "data": {
      "text/plain": [
       "date                  0\n",
       "date_block_num        0\n",
       "shop_id               0\n",
       "item_id               0\n",
       "item_id.1             0\n",
       "item_price            0\n",
       "item_cnt_day          0\n",
       "item_name             0\n",
       "item_category_id      0\n",
       "item_category_name    0\n",
       "shop_name             0\n",
       "date_month            0\n",
       "date_year             0\n",
       "dtype: int64"
      ]
     },
     "execution_count": 3,
     "metadata": {},
     "output_type": "execute_result"
    }
   ],
   "source": [
    "# Check whether there is null value or not\n",
    "DA_Data.isna().sum()"
   ]
  },
  {
   "cell_type": "markdown",
   "metadata": {},
   "source": [
    "# Check whether we have redundant data for cal day and item id"
   ]
  },
  {
   "cell_type": "code",
   "execution_count": 18,
   "metadata": {},
   "outputs": [
    {
     "data": {
      "text/plain": [
       "date       28\n",
       "item_id    28\n",
       "shop_id    28\n",
       "count      28\n",
       "dtype: int64"
      ]
     },
     "execution_count": 18,
     "metadata": {},
     "output_type": "execute_result"
    }
   ],
   "source": [
    "redundantData = DA_Data \n",
    "redundantData['count'] = ''\n",
    "#redundantData = redundantData.groupby(['date', 'item_id', 'shop_id'])[['count']].agg(['count']).reset_index()\n",
    "redundantData = redundantData.groupby(['date','item_id','shop_id'])[['count']].agg('count').reset_index()\n",
    "\n",
    "redundantData.sort_values( by=['count'],inplace=True, ascending=False )\n",
    "\n",
    "redundantData = redundantData.loc[redundantData['count'] > 1]\n",
    "\n",
    "redundantData.count()\n",
    "\n",
    "#to do: compare more row and find out the difference\n",
    "#redundantData.head()"
   ]
  },
  {
   "cell_type": "markdown",
   "metadata": {},
   "source": [
    "It seems that there are data with 2 rows. Maybe double count? Let's check"
   ]
  },
  {
   "cell_type": "code",
   "execution_count": 5,
   "metadata": {},
   "outputs": [
    {
     "data": {
      "text/html": [
       "<div>\n",
       "<style scoped>\n",
       "    .dataframe tbody tr th:only-of-type {\n",
       "        vertical-align: middle;\n",
       "    }\n",
       "\n",
       "    .dataframe tbody tr th {\n",
       "        vertical-align: top;\n",
       "    }\n",
       "\n",
       "    .dataframe thead th {\n",
       "        text-align: right;\n",
       "    }\n",
       "</style>\n",
       "<table border=\"1\" class=\"dataframe\">\n",
       "  <thead>\n",
       "    <tr style=\"text-align: right;\">\n",
       "      <th></th>\n",
       "      <th>date</th>\n",
       "      <th>date_block_num</th>\n",
       "      <th>shop_id</th>\n",
       "      <th>item_id</th>\n",
       "      <th>item_id.1</th>\n",
       "      <th>item_price</th>\n",
       "      <th>item_cnt_day</th>\n",
       "      <th>item_name</th>\n",
       "      <th>item_category_id</th>\n",
       "      <th>item_category_name</th>\n",
       "      <th>shop_name</th>\n",
       "      <th>date_month</th>\n",
       "      <th>date_year</th>\n",
       "      <th>count</th>\n",
       "    </tr>\n",
       "  </thead>\n",
       "  <tbody>\n",
       "    <tr>\n",
       "      <th>1507628</th>\n",
       "      <td>2014-03-09</td>\n",
       "      <td>14</td>\n",
       "      <td>31</td>\n",
       "      <td>12133</td>\n",
       "      <td>12133</td>\n",
       "      <td>399.0</td>\n",
       "      <td>1.0</td>\n",
       "      <td>Игровой набор с микророботами Вориорз для поед...</td>\n",
       "      <td>62</td>\n",
       "      <td>Подарки - Гаджеты, роботы, спорт</td>\n",
       "      <td>Москва ТЦ \"Семеновский\"</td>\n",
       "      <td>3</td>\n",
       "      <td>2014</td>\n",
       "      <td></td>\n",
       "    </tr>\n",
       "    <tr>\n",
       "      <th>1507629</th>\n",
       "      <td>2014-03-09</td>\n",
       "      <td>14</td>\n",
       "      <td>31</td>\n",
       "      <td>12133</td>\n",
       "      <td>12133</td>\n",
       "      <td>599.0</td>\n",
       "      <td>1.0</td>\n",
       "      <td>Игровой набор с микророботами Вориорз для поед...</td>\n",
       "      <td>62</td>\n",
       "      <td>Подарки - Гаджеты, роботы, спорт</td>\n",
       "      <td>Москва ТЦ \"Семеновский\"</td>\n",
       "      <td>3</td>\n",
       "      <td>2014</td>\n",
       "      <td></td>\n",
       "    </tr>\n",
       "  </tbody>\n",
       "</table>\n",
       "</div>"
      ],
      "text/plain": [
       "              date  date_block_num  shop_id  item_id  item_id.1  item_price  \\\n",
       "1507628 2014-03-09              14       31    12133      12133       399.0   \n",
       "1507629 2014-03-09              14       31    12133      12133       599.0   \n",
       "\n",
       "         item_cnt_day                                          item_name  \\\n",
       "1507628           1.0  Игровой набор с микророботами Вориорз для поед...   \n",
       "1507629           1.0  Игровой набор с микророботами Вориорз для поед...   \n",
       "\n",
       "         item_category_id                item_category_name  \\\n",
       "1507628                62  Подарки - Гаджеты, роботы, спорт   \n",
       "1507629                62  Подарки - Гаджеты, роботы, спорт   \n",
       "\n",
       "                       shop_name  date_month  date_year count  \n",
       "1507628  Москва ТЦ \"Семеновский\"           3       2014        \n",
       "1507629  Москва ТЦ \"Семеновский\"           3       2014        "
      ]
     },
     "execution_count": 5,
     "metadata": {},
     "output_type": "execute_result"
    }
   ],
   "source": [
    "#furtherchecking\n",
    "redundantData = DA_Data.loc[(DA_Data['item_id'] == 12133) & (DA_Data['shop_id'] == 31) & (DA_Data['date'] == '2014-03-09')]\n",
    "redundantData"
   ]
  },
  {
   "cell_type": "markdown",
   "metadata": {},
   "source": [
    "# Check the item_cnt_day"
   ]
  },
  {
   "cell_type": "code",
   "execution_count": 6,
   "metadata": {},
   "outputs": [
    {
     "data": {
      "text/plain": [
       "count    2.935849e+06\n",
       "mean     1.242641e+00\n",
       "std      2.618834e+00\n",
       "min     -2.200000e+01\n",
       "25%      1.000000e+00\n",
       "50%      1.000000e+00\n",
       "75%      1.000000e+00\n",
       "max      2.169000e+03\n",
       "Name: item_cnt_day, dtype: float64"
      ]
     },
     "execution_count": 6,
     "metadata": {},
     "output_type": "execute_result"
    }
   ],
   "source": [
    "# Quick checking the summary of item_cnt_day\n",
    "DA_Data['item_cnt_day'].describe()"
   ]
  },
  {
   "cell_type": "markdown",
   "metadata": {},
   "source": [
    "# Visualize distribution of the field item_cnt_day"
   ]
  },
  {
   "cell_type": "code",
   "execution_count": 7,
   "metadata": {},
   "outputs": [
    {
     "data": {
      "image/png": "[encoded data removed]",
      "text/plain": [
       "<Figure size 432x288 with 1 Axes>"
      ]
     },
     "metadata": {
      "needs_background": "light"
     },
     "output_type": "display_data"
    }
   ],
   "source": [
    "plt.boxplot(DA_Data['item_cnt_day'])\n",
    "plt.show()"
   ]
  },
  {
   "cell_type": "markdown",
   "metadata": {},
   "source": [
    "# Find the number of record based on the percentile: (2 and 98)"
   ]
  },
  {
   "cell_type": "code",
   "execution_count": 20,
   "metadata": {},
   "outputs": [
    {
     "name": "stdout",
     "output_type": "stream",
     "text": [
      "Number of Total Rows in dataframe :  2935849\n",
      "Number of Upper Limit Rows in dataframe :  57570\n",
      "Number of Upper Limit Rows in dataframe :  7356\n"
     ]
    }
   ],
   "source": [
    "# Get the 98th and 2nd percentile as the limits of our outliers\n",
    "upper_limit = np.percentile(DA_Data.item_cnt_day.values, 98) \n",
    "lower_limit = np.percentile(DA_Data.item_cnt_day.values, 2) \n",
    "# Filter the outliers from the dataframe\n",
    "print('Number of Total Rows in dataframe : ' , DA_Data.shape[0])\n",
    "\n",
    "upper_limit = DA_Data.loc[DA_Data['item_cnt_day']>upper_limit]\n",
    "\n",
    "print('Number of Upper Limit Rows in dataframe : ' , upper_limit.shape[0])\n",
    "\n",
    "lower_limit = DA_Data.loc[DA_Data['item_cnt_day']<lower_limit]\n",
    "\n",
    "print('Number of Upper Limit Rows in dataframe : ' , lower_limit.shape[0])\n",
    "\n",
    "# Do a bellplot "
   ]
  },
  {
   "cell_type": "markdown",
   "metadata": {},
   "source": [
    "# Check the item_price"
   ]
  },
  {
   "cell_type": "code",
   "execution_count": 9,
   "metadata": {},
   "outputs": [
    {
     "data": {
      "text/plain": [
       "count    2.935849e+06\n",
       "mean     8.908532e+02\n",
       "std      1.729800e+03\n",
       "min     -1.000000e+00\n",
       "25%      2.490000e+02\n",
       "50%      3.990000e+02\n",
       "75%      9.990000e+02\n",
       "max      3.079800e+05\n",
       "Name: item_price, dtype: float64"
      ]
     },
     "execution_count": 9,
     "metadata": {},
     "output_type": "execute_result"
    }
   ],
   "source": [
    "# Check the summary of the item_price \n",
    "DA_Data['item_price'].describe()"
   ]
  },
  {
   "cell_type": "markdown",
   "metadata": {},
   "source": [
    "# Visualize distribution of the field item_cnt_day"
   ]
  },
  {
   "cell_type": "code",
   "execution_count": 10,
   "metadata": {},
   "outputs": [
    {
     "data": {
      "image/png": "[encoded data removed]",
      "text/plain": [
       "<Figure size 432x288 with 1 Axes>"
      ]
     },
     "metadata": {
      "needs_background": "light"
     },
     "output_type": "display_data"
    }
   ],
   "source": [
    "plt.boxplot(DA_Data['item_price'])\n",
    "\n",
    "plt.show()"
   ]
  },
  {
   "cell_type": "markdown",
   "metadata": {},
   "source": [
    "# Find the number of record based on the percentile: (2 and 98)"
   ]
  },
  {
   "cell_type": "code",
   "execution_count": 11,
   "metadata": {},
   "outputs": [
    {
     "name": "stdout",
     "output_type": "stream",
     "text": [
      "Number of Total Rows in dataframe :  2935849\n",
      "Number of Upper Limit Rows in dataframe :  58341\n",
      "Number of Lower Limit Rows in dataframe :  57266\n"
     ]
    }
   ],
   "source": [
    "# Get the 98th and 2nd percentile as the limits of our outliers\n",
    "\n",
    "upper_limit = np.percentile(DA_Data.item_price.values, 98) \n",
    "lower_limit = np.percentile(DA_Data.item_price.values, 2) \n",
    "# Filter the outliers from the dataframe\n",
    "print('Number of Total Rows in dataframe : ' , DA_Data.shape[0])\n",
    "\n",
    "upper_limit = DA_Data.loc[DA_Data['item_price']>upper_limit]\n",
    "\n",
    "\n",
    "print('Number of Upper Limit Rows in dataframe : ' , upper_limit.shape[0])\n",
    "\n",
    "lower_limit = DA_Data.loc[DA_Data['item_price']<lower_limit]\n",
    "\n",
    "print('Number of Lower Limit Rows in dataframe : ' , lower_limit.shape[0])"
   ]
  },
  {
   "cell_type": "markdown",
   "metadata": {},
   "source": [
    "# Validate whether date_block_num is correctly assigned. "
   ]
  },
  {
   "cell_type": "code",
   "execution_count": 12,
   "metadata": {},
   "outputs": [
    {
     "name": "stdout",
     "output_type": "stream",
     "text": [
      "Number of differece between date_blok_num and CalBlockNum :  0\n"
     ]
    }
   ],
   "source": [
    "# Check the CalBlockNum whether all block num is calculated correctly or not. \n",
    "testDatBNum = DA_Data\n",
    "\n",
    "testDatBNum['date'] = pd.to_datetime(DA_Data['date'])\n",
    "\n",
    "testDatBNum['firstDate'] = pd.to_datetime(\"2013-01-01\")\n",
    "\n",
    "testDatBNum\n",
    "\n",
    "testDatBNum['CalBlockNum'] = 12 * (testDatBNum.date.dt.year - testDatBNum.firstDate.dt.year) + (testDatBNum.date.dt.month - testDatBNum.firstDate.dt.month )\n",
    "\n",
    "print(\"Number of differece between date_blok_num and CalBlockNum : \",testDatBNum.query('date_block_num != CalBlockNum').shape[0])\n"
   ]
  },
  {
   "cell_type": "markdown",
   "metadata": {},
   "source": [
    "# Checking Shop ID Validity/Accuracy"
   ]
  },
  {
   "cell_type": "code",
   "execution_count": 13,
   "metadata": {},
   "outputs": [
    {
     "name": "stdout",
     "output_type": "stream",
     "text": [
      "Number of empty shop id:  0\n"
     ]
    },
    {
     "name": "stderr",
     "output_type": "stream",
     "text": [
      "C:\\Users\\KANGHEA\\Anaconda3\\lib\\site-packages\\pandas\\core\\ops\\array_ops.py:253: FutureWarning: elementwise comparison failed; returning scalar instead, but in the future will perform elementwise comparison\n",
      "  res_values = method(rvalues)\n"
     ]
    },
    {
     "data": {
      "text/html": [
       "<div>\n",
       "<style scoped>\n",
       "    .dataframe tbody tr th:only-of-type {\n",
       "        vertical-align: middle;\n",
       "    }\n",
       "\n",
       "    .dataframe tbody tr th {\n",
       "        vertical-align: top;\n",
       "    }\n",
       "\n",
       "    .dataframe thead th {\n",
       "        text-align: right;\n",
       "    }\n",
       "</style>\n",
       "<table border=\"1\" class=\"dataframe\">\n",
       "  <thead>\n",
       "    <tr style=\"text-align: right;\">\n",
       "      <th></th>\n",
       "      <th>shop_id</th>\n",
       "    </tr>\n",
       "  </thead>\n",
       "  <tbody>\n",
       "    <tr>\n",
       "      <th>37589</th>\n",
       "      <td>0</td>\n",
       "    </tr>\n",
       "    <tr>\n",
       "      <th>41348</th>\n",
       "      <td>1</td>\n",
       "    </tr>\n",
       "    <tr>\n",
       "      <th>31951</th>\n",
       "      <td>2</td>\n",
       "    </tr>\n",
       "    <tr>\n",
       "      <th>32890</th>\n",
       "      <td>3</td>\n",
       "    </tr>\n",
       "    <tr>\n",
       "      <th>30072</th>\n",
       "      <td>4</td>\n",
       "    </tr>\n",
       "    <tr>\n",
       "      <th>164026</th>\n",
       "      <td>5</td>\n",
       "    </tr>\n",
       "    <tr>\n",
       "      <th>31260</th>\n",
       "      <td>6</td>\n",
       "    </tr>\n",
       "    <tr>\n",
       "      <th>34769</th>\n",
       "      <td>7</td>\n",
       "    </tr>\n",
       "    <tr>\n",
       "      <th>52625</th>\n",
       "      <td>8</td>\n",
       "    </tr>\n",
       "    <tr>\n",
       "      <th>1012860</th>\n",
       "      <td>9</td>\n",
       "    </tr>\n",
       "    <tr>\n",
       "      <th>53564</th>\n",
       "      <td>10</td>\n",
       "    </tr>\n",
       "    <tr>\n",
       "      <th>2461045</th>\n",
       "      <td>11</td>\n",
       "    </tr>\n",
       "    <tr>\n",
       "      <th>58263</th>\n",
       "      <td>12</td>\n",
       "    </tr>\n",
       "    <tr>\n",
       "      <th>56882</th>\n",
       "      <td>13</td>\n",
       "    </tr>\n",
       "    <tr>\n",
       "      <th>56384</th>\n",
       "      <td>14</td>\n",
       "    </tr>\n",
       "    <tr>\n",
       "      <th>45576</th>\n",
       "      <td>15</td>\n",
       "    </tr>\n",
       "    <tr>\n",
       "      <th>45107</th>\n",
       "      <td>16</td>\n",
       "    </tr>\n",
       "    <tr>\n",
       "      <th>568782</th>\n",
       "      <td>17</td>\n",
       "    </tr>\n",
       "    <tr>\n",
       "      <th>9984</th>\n",
       "      <td>18</td>\n",
       "    </tr>\n",
       "    <tr>\n",
       "      <th>7518</th>\n",
       "      <td>19</td>\n",
       "    </tr>\n",
       "    <tr>\n",
       "      <th>2056203</th>\n",
       "      <td>20</td>\n",
       "    </tr>\n",
       "    <tr>\n",
       "      <th>11774</th>\n",
       "      <td>21</td>\n",
       "    </tr>\n",
       "    <tr>\n",
       "      <th>7810</th>\n",
       "      <td>22</td>\n",
       "    </tr>\n",
       "    <tr>\n",
       "      <th>2466</th>\n",
       "      <td>23</td>\n",
       "    </tr>\n",
       "    <tr>\n",
       "      <th>1880</th>\n",
       "      <td>24</td>\n",
       "    </tr>\n",
       "    <tr>\n",
       "      <th>1</th>\n",
       "      <td>25</td>\n",
       "    </tr>\n",
       "    <tr>\n",
       "      <th>22554</th>\n",
       "      <td>26</td>\n",
       "    </tr>\n",
       "    <tr>\n",
       "      <th>17061</th>\n",
       "      <td>27</td>\n",
       "    </tr>\n",
       "    <tr>\n",
       "      <th>15036</th>\n",
       "      <td>28</td>\n",
       "    </tr>\n",
       "    <tr>\n",
       "      <th>18795</th>\n",
       "      <td>29</td>\n",
       "    </tr>\n",
       "    <tr>\n",
       "      <th>63614</th>\n",
       "      <td>30</td>\n",
       "    </tr>\n",
       "    <tr>\n",
       "      <th>60143</th>\n",
       "      <td>31</td>\n",
       "    </tr>\n",
       "    <tr>\n",
       "      <th>67086</th>\n",
       "      <td>32</td>\n",
       "    </tr>\n",
       "    <tr>\n",
       "      <th>1878791</th>\n",
       "      <td>33</td>\n",
       "    </tr>\n",
       "    <tr>\n",
       "      <th>1803319</th>\n",
       "      <td>34</td>\n",
       "    </tr>\n",
       "    <tr>\n",
       "      <th>68822</th>\n",
       "      <td>35</td>\n",
       "    </tr>\n",
       "    <tr>\n",
       "      <th>2893625</th>\n",
       "      <td>36</td>\n",
       "    </tr>\n",
       "    <tr>\n",
       "      <th>105277</th>\n",
       "      <td>37</td>\n",
       "    </tr>\n",
       "    <tr>\n",
       "      <th>102088</th>\n",
       "      <td>38</td>\n",
       "    </tr>\n",
       "    <tr>\n",
       "      <th>1530388</th>\n",
       "      <td>39</td>\n",
       "    </tr>\n",
       "    <tr>\n",
       "      <th>1533149</th>\n",
       "      <td>40</td>\n",
       "    </tr>\n",
       "    <tr>\n",
       "      <th>101805</th>\n",
       "      <td>41</td>\n",
       "    </tr>\n",
       "    <tr>\n",
       "      <th>91389</th>\n",
       "      <td>42</td>\n",
       "    </tr>\n",
       "    <tr>\n",
       "      <th>93125</th>\n",
       "      <td>43</td>\n",
       "    </tr>\n",
       "    <tr>\n",
       "      <th>103541</th>\n",
       "      <td>44</td>\n",
       "    </tr>\n",
       "    <tr>\n",
       "      <th>112221</th>\n",
       "      <td>45</td>\n",
       "    </tr>\n",
       "    <tr>\n",
       "      <th>108749</th>\n",
       "      <td>46</td>\n",
       "    </tr>\n",
       "    <tr>\n",
       "      <th>87918</th>\n",
       "      <td>47</td>\n",
       "    </tr>\n",
       "    <tr>\n",
       "      <th>1609821</th>\n",
       "      <td>48</td>\n",
       "    </tr>\n",
       "    <tr>\n",
       "      <th>1207132</th>\n",
       "      <td>49</td>\n",
       "    </tr>\n",
       "    <tr>\n",
       "      <th>89653</th>\n",
       "      <td>50</td>\n",
       "    </tr>\n",
       "    <tr>\n",
       "      <th>95729</th>\n",
       "      <td>51</td>\n",
       "    </tr>\n",
       "    <tr>\n",
       "      <th>94861</th>\n",
       "      <td>52</td>\n",
       "    </tr>\n",
       "    <tr>\n",
       "      <th>60142</th>\n",
       "      <td>53</td>\n",
       "    </tr>\n",
       "    <tr>\n",
       "      <th>74464</th>\n",
       "      <td>54</td>\n",
       "    </tr>\n",
       "    <tr>\n",
       "      <th>503292</th>\n",
       "      <td>55</td>\n",
       "    </tr>\n",
       "    <tr>\n",
       "      <th>74030</th>\n",
       "      <td>56</td>\n",
       "    </tr>\n",
       "    <tr>\n",
       "      <th>259653</th>\n",
       "      <td>57</td>\n",
       "    </tr>\n",
       "    <tr>\n",
       "      <th>332032</th>\n",
       "      <td>58</td>\n",
       "    </tr>\n",
       "    <tr>\n",
       "      <th>0</th>\n",
       "      <td>59</td>\n",
       "    </tr>\n",
       "  </tbody>\n",
       "</table>\n",
       "</div>"
      ],
      "text/plain": [
       "         shop_id\n",
       "37589          0\n",
       "41348          1\n",
       "31951          2\n",
       "32890          3\n",
       "30072          4\n",
       "164026         5\n",
       "31260          6\n",
       "34769          7\n",
       "52625          8\n",
       "1012860        9\n",
       "53564         10\n",
       "2461045       11\n",
       "58263         12\n",
       "56882         13\n",
       "56384         14\n",
       "45576         15\n",
       "45107         16\n",
       "568782        17\n",
       "9984          18\n",
       "7518          19\n",
       "2056203       20\n",
       "11774         21\n",
       "7810          22\n",
       "2466          23\n",
       "1880          24\n",
       "1             25\n",
       "22554         26\n",
       "17061         27\n",
       "15036         28\n",
       "18795         29\n",
       "63614         30\n",
       "60143         31\n",
       "67086         32\n",
       "1878791       33\n",
       "1803319       34\n",
       "68822         35\n",
       "2893625       36\n",
       "105277        37\n",
       "102088        38\n",
       "1530388       39\n",
       "1533149       40\n",
       "101805        41\n",
       "91389         42\n",
       "93125         43\n",
       "103541        44\n",
       "112221        45\n",
       "108749        46\n",
       "87918         47\n",
       "1609821       48\n",
       "1207132       49\n",
       "89653         50\n",
       "95729         51\n",
       "94861         52\n",
       "60142         53\n",
       "74464         54\n",
       "503292        55\n",
       "74030         56\n",
       "259653        57\n",
       "332032        58\n",
       "0             59"
      ]
     },
     "execution_count": 13,
     "metadata": {},
     "output_type": "execute_result"
    }
   ],
   "source": [
    "# Checking Shop ID availability\n",
    "\n",
    "# Check any empty or NA value\n",
    "noEmptyID = DA_Data.loc[DA_Data['shop_id'] == ''].shape[0]\n",
    "\n",
    "print(\"Number of empty shop id: \", noEmptyID)\n",
    "\n",
    "DA_Data.isna().sum()\n",
    "\n",
    "checkShopID = pd.DataFrame(DA_Data, columns = ['shop_id'])\n",
    "\n",
    "checkShopID = checkShopID.drop_duplicates()\n",
    "\n",
    "checkShopID.sort_values(by=['shop_id'])"
   ]
  },
  {
   "cell_type": "markdown",
   "metadata": {},
   "source": [
    "# Total Sales General Trend"
   ]
  },
  {
   "cell_type": "code",
   "execution_count": 15,
   "metadata": {},
   "outputs": [],
   "source": [
    "# Find aggregate sales by day\n",
    "DA_Data['total_sales'] =  DA_Data['item_price'] * DA_Data['item_cnt_day']\n",
    "\n",
    "# Split the data into year for fast performance\n",
    "aggrSalesDay2013 = DA_Data.loc[DA_Data['date_year'] == 2013]\n",
    "aggrSalesDay2014 = DA_Data.loc[DA_Data['date_year'] == 2014]\n",
    "aggrSalesDay2015 = DA_Data.loc[DA_Data['date_year'] == 2015]\n",
    "\n",
    "aggrSalesDay2013 = aggrSalesDay2013.groupby(['date_month','date_year'])[['total_sales']].agg('sum').reset_index()\n",
    "aggrSalesDay2014 = aggrSalesDay2014.groupby(['date_month','date_year'])[['total_sales']].agg('sum').reset_index()\n",
    "aggrSalesDay2015 = aggrSalesDay2015.groupby(['date_month','date_year'])[['total_sales']].agg('sum').reset_index()\n",
    "\n",
    "aggrSalesDay = pd.concat([aggrSalesDay2013,aggrSalesDay2014,aggrSalesDay2015])\n",
    "\n",
    "#aggrSalesDay\n",
    "#try resample in ming's code. \n",
    "#create itm_count_day\n"
   ]
  },
  {
   "cell_type": "code",
   "execution_count": 16,
   "metadata": {},
   "outputs": [
    {
     "data": {
      "image/png": "[encoded data removed]",
      "text/plain": [
       "<Figure size 432x288 with 1 Axes>"
      ]
     },
     "metadata": {
      "needs_background": "light"
     },
     "output_type": "display_data"
    }
   ],
   "source": [
    "sns.lineplot(x='date_month', y = 'total_sales', data = aggrSalesDay,\n",
    "           hue='date_year' , palette = 'Accent')\n",
    "plt.title(\"Total Sales\", fontsize = 20)\n",
    "plt.xlabel(\"Month\", fontsize = 15)\n",
    "plt.ylabel(\"Total Sales\", fontsize = 15)\n",
    "plt.show()"
   ]
  },
  {
   "cell_type": "markdown",
   "metadata": {},
   "source": [
    "Buld a heat map to check the activity by year, month, and week "
   ]
  },
  {
   "cell_type": "code",
   "execution_count": 17,
   "metadata": {},
   "outputs": [
    {
     "data": {
      "image/png": "[encoded data removed]",
      "text/plain": [
       "<Figure size 1152x720 with 3 Axes>"
      ]
     },
     "metadata": {
      "needs_background": "light"
     },
     "output_type": "display_data"
    }
   ],
   "source": [
    "calHeatMap = DA_Data[[\"date\", \"item_cnt_day\"]]\n",
    "\n",
    "calHeatMap.set_index(\"date\", inplace = True)\n",
    "\n",
    "calHeatMap = calHeatMap.resample(\"D\")[\"item_cnt_day\"].sum()\n",
    "\n",
    "calmap.calendarplot(calHeatMap, # pass the series\n",
    "                    fig_kws = {'figsize': (16,10)}, \n",
    "                    yearlabel_kws = {'color':'black', 'fontsize':14}, \n",
    "                    subplot_kws = {'title':'Total sales per year'}\n",
    "                   );"
   ]
  },
  {
   "cell_type": "code",
   "execution_count": null,
   "metadata": {},
   "outputs": [],
   "source": []
  },
  {
   "cell_type": "code",
   "execution_count": null,
   "metadata": {},
   "outputs": [],
   "source": []
  },
  {
   "cell_type": "code",
   "execution_count": null,
   "metadata": {},
   "outputs": [],
   "source": []
  }
 ],
 "metadata": {
  "kernelspec": {
   "display_name": "Python 3",
   "language": "python",
   "name": "python3"
  },
  "language_info": {
   "codemirror_mode": {
    "name": "ipython",
    "version": 3
   },
   "file_extension": ".py",
   "mimetype": "text/x-python",
   "name": "python",
   "nbconvert_exporter": "python",
   "pygments_lexer": "ipython3",
   "version": "3.8.3"
  }
 },
 "nbformat": 4,
 "nbformat_minor": 4
}
