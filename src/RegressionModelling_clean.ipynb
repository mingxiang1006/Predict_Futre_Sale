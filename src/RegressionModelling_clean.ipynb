{
 "cells": [
  {
   "cell_type": "markdown",
   "metadata": {
    "id": "qai_3AHSDsjV"
   },
   "source": [
    "# Importing Libraries"
   ]
  },
  {
   "cell_type": "code",
   "execution_count": 1,
   "metadata": {
    "id": "2al40RFBD2QT"
   },
   "outputs": [],
   "source": [
    "import numpy as np\n",
    "import pandas as pd\n",
    "\n",
    "import matplotlib.pyplot as plt\n",
    "import matplotlib.patches as patches\n",
    "import seaborn as sns\n",
    "import plotly.express as px\n",
    "import plotly.graph_objs as go\n",
    "from plotly.offline import iplot\n",
    "\n",
    "\n",
    "from sklearn.preprocessing import StandardScaler\n",
    "from sklearn.model_selection import train_test_split\n",
    "from sklearn.metrics import r2_score\n",
    "from math import sqrt\n",
    "from sklearn.linear_model import Ridge\n",
    "from sklearn.linear_model import Lasso\n",
    "from sklearn.tree import DecisionTreeRegressor\n",
    "from sklearn.ensemble import RandomForestRegressor\n",
    "from sklearn.preprocessing import LabelEncoder\n",
    "from sklearn.model_selection import KFold\n",
    "from sklearn.model_selection import train_test_split\n",
    "from sklearn.model_selection import GridSearchCV\n",
    "from sklearn.model_selection import RandomizedSearchCV\n",
    "from sklearn.metrics import mean_squared_error\n",
    "from sklearn.metrics import mean_absolute_error\n",
    "from sklearn.metrics import accuracy_score\n",
    "import warnings\n"
   ]
  },
  {
   "cell_type": "code",
   "execution_count": 2,
   "metadata": {
    "id": "P2upRQfhE3WU"
   },
   "outputs": [],
   "source": [
    "#Loading our data\n",
    "train_df = pd.read_csv(r'C:/Testing/DA/predictFutureSalesClean.csv')"
   ]
  },
  {
   "cell_type": "code",
   "execution_count": 3,
   "metadata": {
    "colab": {
     "base_uri": "https://localhost:8080/",
     "height": 428
    },
    "id": "uuCSwLSmIp05",
    "outputId": "ccc12cf9-1af6-4718-be87-99a9bb176af0"
   },
   "outputs": [
    {
     "data": {
      "text/html": [
       "<div>\n",
       "<style scoped>\n",
       "    .dataframe tbody tr th:only-of-type {\n",
       "        vertical-align: middle;\n",
       "    }\n",
       "\n",
       "    .dataframe tbody tr th {\n",
       "        vertical-align: top;\n",
       "    }\n",
       "\n",
       "    .dataframe thead th {\n",
       "        text-align: right;\n",
       "    }\n",
       "</style>\n",
       "<table border=\"1\" class=\"dataframe\">\n",
       "  <thead>\n",
       "    <tr style=\"text-align: right;\">\n",
       "      <th></th>\n",
       "      <th>Unnamed: 0</th>\n",
       "      <th>date</th>\n",
       "      <th>date_block_num</th>\n",
       "      <th>shop_id</th>\n",
       "      <th>item_id</th>\n",
       "      <th>item_price</th>\n",
       "      <th>item_cnt_day</th>\n",
       "      <th>shop_name</th>\n",
       "      <th>item_name</th>\n",
       "      <th>item_category_id</th>\n",
       "      <th>Required</th>\n",
       "      <th>item_category_name</th>\n",
       "      <th>date_month</th>\n",
       "      <th>date_year</th>\n",
       "      <th>total_sales</th>\n",
       "    </tr>\n",
       "  </thead>\n",
       "  <tbody>\n",
       "    <tr>\n",
       "      <th>0</th>\n",
       "      <td>0</td>\n",
       "      <td>2013-01-02</td>\n",
       "      <td>0</td>\n",
       "      <td>59</td>\n",
       "      <td>22154</td>\n",
       "      <td>999.0</td>\n",
       "      <td>1.0</td>\n",
       "      <td>Ярославль ТЦ \"Альтаир\"</td>\n",
       "      <td>ЯВЛЕНИЕ 2012 (BD)</td>\n",
       "      <td>37</td>\n",
       "      <td>True</td>\n",
       "      <td>Кино - Blu-Ray</td>\n",
       "      <td>1</td>\n",
       "      <td>2013</td>\n",
       "      <td>999.0</td>\n",
       "    </tr>\n",
       "    <tr>\n",
       "      <th>1</th>\n",
       "      <td>1</td>\n",
       "      <td>2013-01-03</td>\n",
       "      <td>0</td>\n",
       "      <td>25</td>\n",
       "      <td>2574</td>\n",
       "      <td>399.0</td>\n",
       "      <td>2.0</td>\n",
       "      <td>Москва ТРК \"Атриум\"</td>\n",
       "      <td>DEL REY LANA  Born To Die  The Paradise Editio...</td>\n",
       "      <td>55</td>\n",
       "      <td>True</td>\n",
       "      <td>Музыка - CD локального производства</td>\n",
       "      <td>1</td>\n",
       "      <td>2013</td>\n",
       "      <td>798.0</td>\n",
       "    </tr>\n",
       "    <tr>\n",
       "      <th>2</th>\n",
       "      <td>2</td>\n",
       "      <td>2013-01-05</td>\n",
       "      <td>0</td>\n",
       "      <td>25</td>\n",
       "      <td>2574</td>\n",
       "      <td>399.0</td>\n",
       "      <td>1.0</td>\n",
       "      <td>Москва ТРК \"Атриум\"</td>\n",
       "      <td>DEL REY LANA  Born To Die  The Paradise Editio...</td>\n",
       "      <td>55</td>\n",
       "      <td>True</td>\n",
       "      <td>Музыка - CD локального производства</td>\n",
       "      <td>1</td>\n",
       "      <td>2013</td>\n",
       "      <td>399.0</td>\n",
       "    </tr>\n",
       "    <tr>\n",
       "      <th>3</th>\n",
       "      <td>3</td>\n",
       "      <td>2013-01-07</td>\n",
       "      <td>0</td>\n",
       "      <td>25</td>\n",
       "      <td>2574</td>\n",
       "      <td>399.0</td>\n",
       "      <td>1.0</td>\n",
       "      <td>Москва ТРК \"Атриум\"</td>\n",
       "      <td>DEL REY LANA  Born To Die  The Paradise Editio...</td>\n",
       "      <td>55</td>\n",
       "      <td>True</td>\n",
       "      <td>Музыка - CD локального производства</td>\n",
       "      <td>1</td>\n",
       "      <td>2013</td>\n",
       "      <td>399.0</td>\n",
       "    </tr>\n",
       "    <tr>\n",
       "      <th>4</th>\n",
       "      <td>4</td>\n",
       "      <td>2013-01-08</td>\n",
       "      <td>0</td>\n",
       "      <td>25</td>\n",
       "      <td>2574</td>\n",
       "      <td>399.0</td>\n",
       "      <td>2.0</td>\n",
       "      <td>Москва ТРК \"Атриум\"</td>\n",
       "      <td>DEL REY LANA  Born To Die  The Paradise Editio...</td>\n",
       "      <td>55</td>\n",
       "      <td>True</td>\n",
       "      <td>Музыка - CD локального производства</td>\n",
       "      <td>1</td>\n",
       "      <td>2013</td>\n",
       "      <td>798.0</td>\n",
       "    </tr>\n",
       "  </tbody>\n",
       "</table>\n",
       "</div>"
      ],
      "text/plain": [
       "   Unnamed: 0        date  date_block_num  shop_id  item_id  item_price  \\\n",
       "0           0  2013-01-02               0       59    22154       999.0   \n",
       "1           1  2013-01-03               0       25     2574       399.0   \n",
       "2           2  2013-01-05               0       25     2574       399.0   \n",
       "3           3  2013-01-07               0       25     2574       399.0   \n",
       "4           4  2013-01-08               0       25     2574       399.0   \n",
       "\n",
       "   item_cnt_day               shop_name  \\\n",
       "0           1.0  Ярославль ТЦ \"Альтаир\"   \n",
       "1           2.0     Москва ТРК \"Атриум\"   \n",
       "2           1.0     Москва ТРК \"Атриум\"   \n",
       "3           1.0     Москва ТРК \"Атриум\"   \n",
       "4           2.0     Москва ТРК \"Атриум\"   \n",
       "\n",
       "                                           item_name  item_category_id  \\\n",
       "0                                  ЯВЛЕНИЕ 2012 (BD)                37   \n",
       "1  DEL REY LANA  Born To Die  The Paradise Editio...                55   \n",
       "2  DEL REY LANA  Born To Die  The Paradise Editio...                55   \n",
       "3  DEL REY LANA  Born To Die  The Paradise Editio...                55   \n",
       "4  DEL REY LANA  Born To Die  The Paradise Editio...                55   \n",
       "\n",
       "   Required                   item_category_name  date_month  date_year  \\\n",
       "0      True                       Кино - Blu-Ray           1       2013   \n",
       "1      True  Музыка - CD локального производства           1       2013   \n",
       "2      True  Музыка - CD локального производства           1       2013   \n",
       "3      True  Музыка - CD локального производства           1       2013   \n",
       "4      True  Музыка - CD локального производства           1       2013   \n",
       "\n",
       "   total_sales  \n",
       "0        999.0  \n",
       "1        798.0  \n",
       "2        399.0  \n",
       "3        399.0  \n",
       "4        798.0  "
      ]
     },
     "execution_count": 3,
     "metadata": {},
     "output_type": "execute_result"
    }
   ],
   "source": [
    "train_df.head()"
   ]
  },
  {
   "cell_type": "code",
   "execution_count": 4,
   "metadata": {
    "colab": {
     "base_uri": "https://localhost:8080/"
    },
    "id": "p_41FWKILeHK",
    "outputId": "115aabed-95bb-4c46-cbe4-4026f54fb951"
   },
   "outputs": [
    {
     "name": "stdout",
     "output_type": "stream",
     "text": [
      "<class 'pandas.core.frame.DataFrame'>\n",
      "RangeIndex: 1442564 entries, 0 to 1442563\n",
      "Data columns (total 15 columns):\n",
      " #   Column              Non-Null Count    Dtype  \n",
      "---  ------              --------------    -----  \n",
      " 0   Unnamed: 0          1442564 non-null  int64  \n",
      " 1   date                1442564 non-null  object \n",
      " 2   date_block_num      1442564 non-null  int64  \n",
      " 3   shop_id             1442564 non-null  int64  \n",
      " 4   item_id             1442564 non-null  int64  \n",
      " 5   item_price          1442564 non-null  float64\n",
      " 6   item_cnt_day        1442564 non-null  float64\n",
      " 7   shop_name           1442564 non-null  object \n",
      " 8   item_name           1442564 non-null  object \n",
      " 9   item_category_id    1442564 non-null  int64  \n",
      " 10  Required            1442564 non-null  bool   \n",
      " 11  item_category_name  1442564 non-null  object \n",
      " 12  date_month          1442564 non-null  int64  \n",
      " 13  date_year           1442564 non-null  int64  \n",
      " 14  total_sales         1442564 non-null  float64\n",
      "dtypes: bool(1), float64(3), int64(7), object(4)\n",
      "memory usage: 155.5+ MB\n"
     ]
    }
   ],
   "source": [
    "#info of train\n",
    "train_df.info()"
   ]
  },
  {
   "cell_type": "markdown",
   "metadata": {},
   "source": [
    "# Separating Numerical From Categorical Data"
   ]
  },
  {
   "cell_type": "code",
   "execution_count": 5,
   "metadata": {
    "id": "rjG64lJtLtCk"
   },
   "outputs": [],
   "source": [
    "# Separating categorical data from numerical data\n",
    "train_categorical_data = train_df.select_dtypes(exclude=['int64', 'float','int32'])\n",
    "train_numerical_data = train_df.select_dtypes(include=['int64', 'float','int32'])"
   ]
  },
  {
   "cell_type": "markdown",
   "metadata": {},
   "source": [
    "# Using Label Encoder To Convert Categorical to Numerical Data"
   ]
  },
  {
   "cell_type": "code",
   "execution_count": 6,
   "metadata": {
    "id": "QfGBnBnIpMdI"
   },
   "outputs": [],
   "source": [
    "# Label Encode and Hot Encode for Categorical Columns\n",
    "# the category data here will be converted to numbers format\n",
    "le = LabelEncoder()\n",
    "train_categorical_data = train_categorical_data.apply(LabelEncoder().fit_transform)"
   ]
  },
  {
   "cell_type": "code",
   "execution_count": 7,
   "metadata": {
    "colab": {
     "base_uri": "https://localhost:8080/",
     "height": 204
    },
    "id": "FZr7_3deqY4C",
    "outputId": "b46e3d79-ea94-4921-e4e1-b809c8e3dca0"
   },
   "outputs": [
    {
     "data": {
      "text/html": [
       "<div>\n",
       "<style scoped>\n",
       "    .dataframe tbody tr th:only-of-type {\n",
       "        vertical-align: middle;\n",
       "    }\n",
       "\n",
       "    .dataframe tbody tr th {\n",
       "        vertical-align: top;\n",
       "    }\n",
       "\n",
       "    .dataframe thead th {\n",
       "        text-align: right;\n",
       "    }\n",
       "</style>\n",
       "<table border=\"1\" class=\"dataframe\">\n",
       "  <thead>\n",
       "    <tr style=\"text-align: right;\">\n",
       "      <th></th>\n",
       "      <th>date</th>\n",
       "      <th>shop_name</th>\n",
       "      <th>item_name</th>\n",
       "      <th>Required</th>\n",
       "      <th>item_category_name</th>\n",
       "    </tr>\n",
       "  </thead>\n",
       "  <tbody>\n",
       "    <tr>\n",
       "      <th>0</th>\n",
       "      <td>1</td>\n",
       "      <td>59</td>\n",
       "      <td>4731</td>\n",
       "      <td>0</td>\n",
       "      <td>26</td>\n",
       "    </tr>\n",
       "    <tr>\n",
       "      <th>1</th>\n",
       "      <td>2</td>\n",
       "      <td>25</td>\n",
       "      <td>461</td>\n",
       "      <td>0</td>\n",
       "      <td>37</td>\n",
       "    </tr>\n",
       "    <tr>\n",
       "      <th>2</th>\n",
       "      <td>4</td>\n",
       "      <td>25</td>\n",
       "      <td>461</td>\n",
       "      <td>0</td>\n",
       "      <td>37</td>\n",
       "    </tr>\n",
       "    <tr>\n",
       "      <th>3</th>\n",
       "      <td>6</td>\n",
       "      <td>25</td>\n",
       "      <td>461</td>\n",
       "      <td>0</td>\n",
       "      <td>37</td>\n",
       "    </tr>\n",
       "    <tr>\n",
       "      <th>4</th>\n",
       "      <td>7</td>\n",
       "      <td>25</td>\n",
       "      <td>461</td>\n",
       "      <td>0</td>\n",
       "      <td>37</td>\n",
       "    </tr>\n",
       "  </tbody>\n",
       "</table>\n",
       "</div>"
      ],
      "text/plain": [
       "   date  shop_name  item_name  Required  item_category_name\n",
       "0     1         59       4731         0                  26\n",
       "1     2         25        461         0                  37\n",
       "2     4         25        461         0                  37\n",
       "3     6         25        461         0                  37\n",
       "4     7         25        461         0                  37"
      ]
     },
     "execution_count": 7,
     "metadata": {},
     "output_type": "execute_result"
    }
   ],
   "source": [
    "#Looking into our categrical data after conversion\n",
    "train_categorical_data.head()"
   ]
  },
  {
   "cell_type": "markdown",
   "metadata": {},
   "source": [
    "# Concatenating Both Categorical and Numerical Data"
   ]
  },
  {
   "cell_type": "code",
   "execution_count": 8,
   "metadata": {
    "id": "glX5h-uKqaiJ"
   },
   "outputs": [],
   "source": [
    "# Concatenating both Catagorical Data and Numerical Data\n",
    "# Y will be our new dataframe why X will be our lable\n",
    "X = pd.concat([train_categorical_data, train_numerical_data], axis=1)\n",
    "y = train_df['item_cnt_day']"
   ]
  },
  {
   "cell_type": "code",
   "execution_count": 9,
   "metadata": {
    "colab": {
     "base_uri": "https://localhost:8080/",
     "height": 221
    },
    "id": "mtD4sRinquph",
    "outputId": "ac431b06-6ed7-4380-9155-e959d6818d79"
   },
   "outputs": [
    {
     "data": {
      "text/html": [
       "<div>\n",
       "<style scoped>\n",
       "    .dataframe tbody tr th:only-of-type {\n",
       "        vertical-align: middle;\n",
       "    }\n",
       "\n",
       "    .dataframe tbody tr th {\n",
       "        vertical-align: top;\n",
       "    }\n",
       "\n",
       "    .dataframe thead th {\n",
       "        text-align: right;\n",
       "    }\n",
       "</style>\n",
       "<table border=\"1\" class=\"dataframe\">\n",
       "  <thead>\n",
       "    <tr style=\"text-align: right;\">\n",
       "      <th></th>\n",
       "      <th>date</th>\n",
       "      <th>shop_name</th>\n",
       "      <th>item_name</th>\n",
       "      <th>Required</th>\n",
       "      <th>item_category_name</th>\n",
       "      <th>Unnamed: 0</th>\n",
       "      <th>date_block_num</th>\n",
       "      <th>shop_id</th>\n",
       "      <th>item_id</th>\n",
       "      <th>item_price</th>\n",
       "      <th>item_cnt_day</th>\n",
       "      <th>item_category_id</th>\n",
       "      <th>date_month</th>\n",
       "      <th>date_year</th>\n",
       "      <th>total_sales</th>\n",
       "    </tr>\n",
       "  </thead>\n",
       "  <tbody>\n",
       "    <tr>\n",
       "      <th>0</th>\n",
       "      <td>1</td>\n",
       "      <td>59</td>\n",
       "      <td>4731</td>\n",
       "      <td>0</td>\n",
       "      <td>26</td>\n",
       "      <td>0</td>\n",
       "      <td>0</td>\n",
       "      <td>59</td>\n",
       "      <td>22154</td>\n",
       "      <td>999.0</td>\n",
       "      <td>1.0</td>\n",
       "      <td>37</td>\n",
       "      <td>1</td>\n",
       "      <td>2013</td>\n",
       "      <td>999.0</td>\n",
       "    </tr>\n",
       "    <tr>\n",
       "      <th>1</th>\n",
       "      <td>2</td>\n",
       "      <td>25</td>\n",
       "      <td>461</td>\n",
       "      <td>0</td>\n",
       "      <td>37</td>\n",
       "      <td>1</td>\n",
       "      <td>0</td>\n",
       "      <td>25</td>\n",
       "      <td>2574</td>\n",
       "      <td>399.0</td>\n",
       "      <td>2.0</td>\n",
       "      <td>55</td>\n",
       "      <td>1</td>\n",
       "      <td>2013</td>\n",
       "      <td>798.0</td>\n",
       "    </tr>\n",
       "    <tr>\n",
       "      <th>2</th>\n",
       "      <td>4</td>\n",
       "      <td>25</td>\n",
       "      <td>461</td>\n",
       "      <td>0</td>\n",
       "      <td>37</td>\n",
       "      <td>2</td>\n",
       "      <td>0</td>\n",
       "      <td>25</td>\n",
       "      <td>2574</td>\n",
       "      <td>399.0</td>\n",
       "      <td>1.0</td>\n",
       "      <td>55</td>\n",
       "      <td>1</td>\n",
       "      <td>2013</td>\n",
       "      <td>399.0</td>\n",
       "    </tr>\n",
       "    <tr>\n",
       "      <th>3</th>\n",
       "      <td>6</td>\n",
       "      <td>25</td>\n",
       "      <td>461</td>\n",
       "      <td>0</td>\n",
       "      <td>37</td>\n",
       "      <td>3</td>\n",
       "      <td>0</td>\n",
       "      <td>25</td>\n",
       "      <td>2574</td>\n",
       "      <td>399.0</td>\n",
       "      <td>1.0</td>\n",
       "      <td>55</td>\n",
       "      <td>1</td>\n",
       "      <td>2013</td>\n",
       "      <td>399.0</td>\n",
       "    </tr>\n",
       "    <tr>\n",
       "      <th>4</th>\n",
       "      <td>7</td>\n",
       "      <td>25</td>\n",
       "      <td>461</td>\n",
       "      <td>0</td>\n",
       "      <td>37</td>\n",
       "      <td>4</td>\n",
       "      <td>0</td>\n",
       "      <td>25</td>\n",
       "      <td>2574</td>\n",
       "      <td>399.0</td>\n",
       "      <td>2.0</td>\n",
       "      <td>55</td>\n",
       "      <td>1</td>\n",
       "      <td>2013</td>\n",
       "      <td>798.0</td>\n",
       "    </tr>\n",
       "  </tbody>\n",
       "</table>\n",
       "</div>"
      ],
      "text/plain": [
       "   date  shop_name  item_name  Required  item_category_name  Unnamed: 0  \\\n",
       "0     1         59       4731         0                  26           0   \n",
       "1     2         25        461         0                  37           1   \n",
       "2     4         25        461         0                  37           2   \n",
       "3     6         25        461         0                  37           3   \n",
       "4     7         25        461         0                  37           4   \n",
       "\n",
       "   date_block_num  shop_id  item_id  item_price  item_cnt_day  \\\n",
       "0               0       59    22154       999.0           1.0   \n",
       "1               0       25     2574       399.0           2.0   \n",
       "2               0       25     2574       399.0           1.0   \n",
       "3               0       25     2574       399.0           1.0   \n",
       "4               0       25     2574       399.0           2.0   \n",
       "\n",
       "   item_category_id  date_month  date_year  total_sales  \n",
       "0                37           1       2013        999.0  \n",
       "1                55           1       2013        798.0  \n",
       "2                55           1       2013        399.0  \n",
       "3                55           1       2013        399.0  \n",
       "4                55           1       2013        798.0  "
      ]
     },
     "execution_count": 9,
     "metadata": {},
     "output_type": "execute_result"
    }
   ],
   "source": [
    "#Checking the X\n",
    "X.head()"
   ]
  },
  {
   "cell_type": "code",
   "execution_count": 10,
   "metadata": {
    "colab": {
     "base_uri": "https://localhost:8080/"
    },
    "id": "lDmimuFiq9Cl",
    "outputId": "98db03ec-6585-4961-85f5-98a50a66cbd8"
   },
   "outputs": [
    {
     "data": {
      "text/plain": [
       "0    1.0\n",
       "1    2.0\n",
       "2    1.0\n",
       "3    1.0\n",
       "4    2.0\n",
       "Name: item_cnt_day, dtype: float64"
      ]
     },
     "execution_count": 10,
     "metadata": {},
     "output_type": "execute_result"
    }
   ],
   "source": [
    "# Checking the y\n",
    "y.head()"
   ]
  },
  {
   "cell_type": "markdown",
   "metadata": {
    "id": "jJTSyrRarrmG"
   },
   "source": [
    "# Splitting data into train and test"
   ]
  },
  {
   "cell_type": "code",
   "execution_count": 11,
   "metadata": {
    "id": "E4jHfUEir2Nd"
   },
   "outputs": [],
   "source": [
    "# Splitting the data into Train and Test\n",
    "X_train, X_test, y_train, y_test = train_test_split(X, y, test_size = 0.3, random_state = 42)"
   ]
  },
  {
   "cell_type": "code",
   "execution_count": 12,
   "metadata": {
    "colab": {
     "base_uri": "https://localhost:8080/",
     "height": 221
    },
    "id": "7EmUKdE1L7kJ",
    "outputId": "f0d1a60b-7df0-4052-ab0f-22031ad2762e"
   },
   "outputs": [
    {
     "data": {
      "text/html": [
       "<div>\n",
       "<style scoped>\n",
       "    .dataframe tbody tr th:only-of-type {\n",
       "        vertical-align: middle;\n",
       "    }\n",
       "\n",
       "    .dataframe tbody tr th {\n",
       "        vertical-align: top;\n",
       "    }\n",
       "\n",
       "    .dataframe thead th {\n",
       "        text-align: right;\n",
       "    }\n",
       "</style>\n",
       "<table border=\"1\" class=\"dataframe\">\n",
       "  <thead>\n",
       "    <tr style=\"text-align: right;\">\n",
       "      <th></th>\n",
       "      <th>date</th>\n",
       "      <th>shop_name</th>\n",
       "      <th>item_name</th>\n",
       "      <th>Required</th>\n",
       "      <th>item_category_name</th>\n",
       "      <th>Unnamed: 0</th>\n",
       "      <th>date_block_num</th>\n",
       "      <th>shop_id</th>\n",
       "      <th>item_id</th>\n",
       "      <th>item_price</th>\n",
       "      <th>item_cnt_day</th>\n",
       "      <th>item_category_id</th>\n",
       "      <th>date_month</th>\n",
       "      <th>date_year</th>\n",
       "      <th>total_sales</th>\n",
       "    </tr>\n",
       "  </thead>\n",
       "  <tbody>\n",
       "    <tr>\n",
       "      <th>1016109</th>\n",
       "      <td>785</td>\n",
       "      <td>38</td>\n",
       "      <td>763</td>\n",
       "      <td>0</td>\n",
       "      <td>10</td>\n",
       "      <td>1016109</td>\n",
       "      <td>25</td>\n",
       "      <td>38</td>\n",
       "      <td>3708</td>\n",
       "      <td>899.0</td>\n",
       "      <td>1.0</td>\n",
       "      <td>19</td>\n",
       "      <td>2</td>\n",
       "      <td>2015</td>\n",
       "      <td>899.0</td>\n",
       "    </tr>\n",
       "    <tr>\n",
       "      <th>1231081</th>\n",
       "      <td>899</td>\n",
       "      <td>15</td>\n",
       "      <td>1050</td>\n",
       "      <td>0</td>\n",
       "      <td>11</td>\n",
       "      <td>1231081</td>\n",
       "      <td>29</td>\n",
       "      <td>15</td>\n",
       "      <td>4873</td>\n",
       "      <td>1199.0</td>\n",
       "      <td>1.0</td>\n",
       "      <td>20</td>\n",
       "      <td>6</td>\n",
       "      <td>2015</td>\n",
       "      <td>1199.0</td>\n",
       "    </tr>\n",
       "    <tr>\n",
       "      <th>663289</th>\n",
       "      <td>585</td>\n",
       "      <td>50</td>\n",
       "      <td>3724</td>\n",
       "      <td>0</td>\n",
       "      <td>11</td>\n",
       "      <td>663289</td>\n",
       "      <td>19</td>\n",
       "      <td>50</td>\n",
       "      <td>16790</td>\n",
       "      <td>2199.0</td>\n",
       "      <td>1.0</td>\n",
       "      <td>20</td>\n",
       "      <td>8</td>\n",
       "      <td>2014</td>\n",
       "      <td>2199.0</td>\n",
       "    </tr>\n",
       "    <tr>\n",
       "      <th>494274</th>\n",
       "      <td>468</td>\n",
       "      <td>6</td>\n",
       "      <td>4524</td>\n",
       "      <td>0</td>\n",
       "      <td>50</td>\n",
       "      <td>494274</td>\n",
       "      <td>15</td>\n",
       "      <td>6</td>\n",
       "      <td>20949</td>\n",
       "      <td>5.0</td>\n",
       "      <td>4.0</td>\n",
       "      <td>71</td>\n",
       "      <td>4</td>\n",
       "      <td>2014</td>\n",
       "      <td>20.0</td>\n",
       "    </tr>\n",
       "    <tr>\n",
       "      <th>731159</th>\n",
       "      <td>621</td>\n",
       "      <td>58</td>\n",
       "      <td>772</td>\n",
       "      <td>0</td>\n",
       "      <td>14</td>\n",
       "      <td>731159</td>\n",
       "      <td>20</td>\n",
       "      <td>58</td>\n",
       "      <td>3734</td>\n",
       "      <td>2599.0</td>\n",
       "      <td>1.0</td>\n",
       "      <td>23</td>\n",
       "      <td>9</td>\n",
       "      <td>2014</td>\n",
       "      <td>2599.0</td>\n",
       "    </tr>\n",
       "  </tbody>\n",
       "</table>\n",
       "</div>"
      ],
      "text/plain": [
       "         date  shop_name  item_name  Required  item_category_name  Unnamed: 0  \\\n",
       "1016109   785         38        763         0                  10     1016109   \n",
       "1231081   899         15       1050         0                  11     1231081   \n",
       "663289    585         50       3724         0                  11      663289   \n",
       "494274    468          6       4524         0                  50      494274   \n",
       "731159    621         58        772         0                  14      731159   \n",
       "\n",
       "         date_block_num  shop_id  item_id  item_price  item_cnt_day  \\\n",
       "1016109              25       38     3708       899.0           1.0   \n",
       "1231081              29       15     4873      1199.0           1.0   \n",
       "663289               19       50    16790      2199.0           1.0   \n",
       "494274               15        6    20949         5.0           4.0   \n",
       "731159               20       58     3734      2599.0           1.0   \n",
       "\n",
       "         item_category_id  date_month  date_year  total_sales  \n",
       "1016109                19           2       2015        899.0  \n",
       "1231081                20           6       2015       1199.0  \n",
       "663289                 20           8       2014       2199.0  \n",
       "494274                 71           4       2014         20.0  \n",
       "731159                 23           9       2014       2599.0  "
      ]
     },
     "execution_count": 12,
     "metadata": {},
     "output_type": "execute_result"
    }
   ],
   "source": [
    "X_test.head()"
   ]
  },
  {
   "cell_type": "code",
   "execution_count": 13,
   "metadata": {
    "colab": {
     "base_uri": "https://localhost:8080/"
    },
    "id": "PJGhBCPFr6iz",
    "outputId": "8938d94e-b49a-4c94-e97a-426eae83fe42"
   },
   "outputs": [
    {
     "name": "stdout",
     "output_type": "stream",
     "text": [
      "<class 'pandas.core.frame.DataFrame'>\n",
      "Int64Index: 1009794 entries, 937513 to 121958\n",
      "Data columns (total 15 columns):\n",
      " #   Column              Non-Null Count    Dtype  \n",
      "---  ------              --------------    -----  \n",
      " 0   date                1009794 non-null  int32  \n",
      " 1   shop_name           1009794 non-null  int32  \n",
      " 2   item_name           1009794 non-null  int32  \n",
      " 3   Required            1009794 non-null  int64  \n",
      " 4   item_category_name  1009794 non-null  int32  \n",
      " 5   Unnamed: 0          1009794 non-null  int64  \n",
      " 6   date_block_num      1009794 non-null  int64  \n",
      " 7   shop_id             1009794 non-null  int64  \n",
      " 8   item_id             1009794 non-null  int64  \n",
      " 9   item_price          1009794 non-null  float64\n",
      " 10  item_cnt_day        1009794 non-null  float64\n",
      " 11  item_category_id    1009794 non-null  int64  \n",
      " 12  date_month          1009794 non-null  int64  \n",
      " 13  date_year           1009794 non-null  int64  \n",
      " 14  total_sales         1009794 non-null  float64\n",
      "dtypes: float64(3), int32(4), int64(8)\n",
      "memory usage: 107.9 MB\n"
     ]
    }
   ],
   "source": [
    "# Checking the X_train\n",
    "X_train.info()"
   ]
  },
  {
   "cell_type": "code",
   "execution_count": 14,
   "metadata": {
    "colab": {
     "base_uri": "https://localhost:8080/"
    },
    "id": "lGnYeh-Er_Ti",
    "outputId": "ab8c1ead-d902-42b4-df35-0bf78fb90cdf"
   },
   "outputs": [
    {
     "name": "stdout",
     "output_type": "stream",
     "text": [
      "The size of training input is (1009794, 15)\n",
      "The size of training output is (1009794,)\n",
      "The size of testing input is (432770, 15)\n",
      "The size of testing output is (432770,)\n"
     ]
    }
   ],
   "source": [
    "# Checking the shape of bothe the train and test data\n",
    "print(\"The size of training input is\", X_train.shape)\n",
    "print(\"The size of training output is\", y_train.shape)\n",
    "print(\"The size of testing input is\", X_test.shape)\n",
    "print(\"The size of testing output is\", y_test.shape)"
   ]
  },
  {
   "cell_type": "code",
   "execution_count": 17,
   "metadata": {},
   "outputs": [],
   "source": [
    "#constant\n",
    "SCORING = 'neg_mean_absolute_error'\n",
    "JOB = -1\n",
    "\n",
    "def model_prediction(regression=None):\n",
    "    \n",
    "    REGRESSION_MODEL = \"\"\n",
    "    params = \"\"\n",
    "    \n",
    "    if regression == \"RANDOMFOREST\":\n",
    "        #perform GridSearchCV on Random Forest Regression\n",
    "        tuned_params = {'n_estimators': [100, 200], 'min_samples_split': [2, 5, 10], 'min_samples_leaf': [1, 2, 4]}  \n",
    "        model = RandomizedSearchCV(RandomForestRegressor(), tuned_params, n_iter = 3, scoring = SCORING, cv = 3, n_jobs = -1)\n",
    "        REGRESSION_MODEL = \"Random Forest Regressor\"\n",
    "    else:\n",
    "        if regression == \"RIDGE\":\n",
    "            # Performing GridSearchCV on Ridge Regression\n",
    "            params = {'alpha' : [0.0001, 0.001, 0.01, 0.1, 1, 10, 100, 1000, 10000, 100000]} \n",
    "            REGRESSION_MODEL = \"Ridge Regressor\"\n",
    "            #model = grid_search_cv(regression, params)\n",
    "        elif regression == \"LASSO\":\n",
    "            # Performing GridSearchCV on Lasso Regression\n",
    "            params = {'alpha' : [0.0001, 0.001, 0.01, 0.1, 1, 10, 100, 1000, 10000, 100000]}\n",
    "            REGRESSION_MODEL = \"Lasso Regressor\"\n",
    "            #model = grid_search_cv(regression, params)\n",
    "        elif regression == \"DECISIONTREE\": \n",
    "            # Performing GridSearchCV on Decision Tree Regression\n",
    "            depth = list(range(3,30))\n",
    "            params = dict(max_depth = depth)\n",
    "            print(\"Params\", params)\n",
    "            REGRESSION_MODEL = \"Decision Tree\"\n",
    "        \n",
    "        model = grid_search_cv(regression, params)\n",
    "    \n",
    "    model.fit(X_train, y_train)\n",
    "    \n",
    "    #predict train and test result\n",
    "    y_test_pred = model.predict(X_test)\n",
    "    \n",
    "    #check prediction for test\n",
    "    metrics = metrics_score(y_test, y_test_pred, model=None)\n",
    "    \n",
    "    print(\"Test Result for \", REGRESSION_MODEL, \" Model : \")\n",
    "    print(\"Root Mean Squared Error: \", sqrt(mean_squared_error(y_test, y_test_pred)))\n",
    "    print(\"R-Squared: \", r2_score(y_test, y_test_pred))\n",
    "    \n",
    "    return metrics\n",
    "    \n",
    "\n",
    "\n",
    "def grid_search_cv(regression, params):\n",
    "    if regression == \"RIDGE\":\n",
    "        model = GridSearchCV(Ridge(), params, cv = 7, scoring = SCORING, n_jobs = JOB)\n",
    "    elif regression == \"LASSO\":\n",
    "        model = GridSearchCV(Lasso(), params ,cv = 15, scoring = SCORING, n_jobs = JOB)\n",
    "    elif regression == \"DECISIONTREE\":\n",
    "        model = GridSearchCV(DecisionTreeRegressor(), params, cv = 10)\n",
    "    return model\n",
    "\n",
    "\n",
    "def metrics_score(original, predict, model=None):\n",
    "    rmse = sqrt(mean_squared_error(original, predict))\n",
    "    mae = mean_absolute_error(original, predict)\n",
    "    mape = mean_absolute_percentage_error(original, predict)\n",
    "    r2score = r2_score(original, predict)\n",
    "        \n",
    "    metrics = dict (MAE=\"{:.4f}\".format(mae), MAPE=\"{:.4f}\".format(mape), R2_Score=\"{:.4f}\".format(r2score), RMSE=\"{:.4f}\".format(rmse))\n",
    "    \n",
    "    return metrics\n",
    "\n",
    "\n",
    "def mean_absolute_percentage_error(y_true, y_pred): \n",
    "    y_true, y_pred = np.array(y_true), np.array(y_pred)\n",
    "    mape = np.mean(np.abs((y_true - y_pred) / y_true+1e-6)) * 100\n",
    "    \n",
    "    if type(mape) == pd.Series: mape = mape[0]\n",
    "        \n",
    "    return mape\n",
    "        "
   ]
  },
  {
   "cell_type": "code",
   "execution_count": 19,
   "metadata": {},
   "outputs": [
    {
     "name": "stdout",
     "output_type": "stream",
     "text": [
      "RIDGE\n"
     ]
    },
    {
     "name": "stderr",
     "output_type": "stream",
     "text": [
      "C:\\ProgramData\\Anaconda3\\lib\\site-packages\\sklearn\\linear_model\\_ridge.py:147: LinAlgWarning:\n",
      "\n",
      "Ill-conditioned matrix (rcond=4.94828e-22): result may not be accurate.\n",
      "\n"
     ]
    },
    {
     "name": "stdout",
     "output_type": "stream",
     "text": [
      "Test Result for  Ridge Regressor  Model : \n",
      "Root Mean Squared Error:  1.8081193218501576e-11\n",
      "R-Squared:  1.0\n",
      "LASSO\n",
      "Test Result for  Lasso Regressor  Model : \n",
      "Root Mean Squared Error:  0.0018112817368141773\n",
      "R-Squared:  0.9999994090119767\n",
      "DECISIONTREE\n",
      "Params {'max_depth': [3, 4, 5, 6, 7, 8, 9, 10, 11, 12, 13, 14, 15, 16, 17, 18, 19, 20, 21, 22, 23, 24, 25, 26, 27, 28, 29]}\n",
      "Test Result for  Decision Tree  Model : \n",
      "Root Mean Squared Error:  0.20699213045178858\n",
      "R-Squared:  0.9922818301349369\n",
      "RANDOMFOREST\n",
      "Test Result for  Random Forest Regressor  Model : \n",
      "Root Mean Squared Error:  0.27817003994580347\n",
      "R-Squared:  0.986061136369507\n"
     ]
    }
   ],
   "source": [
    "metrics_df = pd.DataFrame()\n",
    "\n",
    "algorithms = [\"RIDGE\",\"LASSO\", \"DECISIONTREE\",\"RANDOMFOREST\"]\n",
    "for algorithm in algorithms:\n",
    "    print(algorithm)\n",
    "    metrics = model_prediction(algorithm)\n",
    "    \n",
    "    # Creating result df\n",
    "    metrics[\"model\"] = algorithm\n",
    "    metrics_df = metrics_df.append(metrics, ignore_index=True)"
   ]
  },
  {
   "cell_type": "code",
   "execution_count": null,
   "metadata": {
    "id": "4mUAT_BD6d1t"
   },
   "outputs": [],
   "source": []
  }
 ],
 "metadata": {
  "accelerator": "GPU",
  "colab": {
   "collapsed_sections": [],
   "name": "RegressionModelling",
   "provenance": []
  },
  "kernelspec": {
   "display_name": "Python 3",
   "language": "python",
   "name": "python3"
  },
  "language_info": {
   "codemirror_mode": {
    "name": "ipython",
    "version": 3
   },
   "file_extension": ".py",
   "mimetype": "text/x-python",
   "name": "python",
   "nbconvert_exporter": "python",
   "pygments_lexer": "ipython3",
   "version": "3.8.3"
  }
 },
 "nbformat": 4,
 "nbformat_minor": 1
}
